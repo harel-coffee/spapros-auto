{
 "cells": [
  {
   "cell_type": "markdown",
   "metadata": {
    "collapsed": true,
    "pycharm": {
     "name": "#%% md\n"
    }
   },
   "source": [
    "# Tutorial Gallery\n"
   ]
  },
  {
   "cell_type": "markdown",
   "metadata": {
    "pycharm": {
     "name": "#%% md\n"
    },
    "tags": [
     "nbsphinx-gallery"
    ]
   },
   "source": [
    "## Basic Tutorials\n",
    "\n",
    "* [Basic Selection Tutorial](spapros_tutorial_basic_selection.nblink)\n",
    "* [Basic Evaluation Tutorial](spapros_tutorial_basic_v3.nblink)\n",
    "* [Advanced Tutorial](spapros_tutorial_advanced.nblink)"
   ]
  }
 ],
 "metadata": {
  "celltoolbar": "Tags",
  "kernelspec": {
   "display_name": "Python 3",
   "language": "python",
   "name": "python3"
  },
  "language_info": {
   "codemirror_mode": {
    "name": "ipython",
    "version": 3
   },
   "file_extension": ".py",
   "mimetype": "text/x-python",
   "name": "python",
   "nbconvert_exporter": "python",
   "pygments_lexer": "ipython3",
   "version": "3.7.0b4"
  }
 },
 "nbformat": 4,
 "nbformat_minor": 1
}