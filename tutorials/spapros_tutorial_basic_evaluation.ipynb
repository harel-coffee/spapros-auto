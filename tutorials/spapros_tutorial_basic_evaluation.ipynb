{
 "cells": [
  {
   "cell_type": "code",
   "execution_count": 1,
   "metadata": {
    "nbsphinx": "hidden",
    "tags": [
     "hide-cell"
    ]
   },
   "outputs": [],
   "source": [
    "import warnings\n",
    "warnings.filterwarnings('ignore')\n",
    "\n",
    "%load_ext autoreload\n",
    "%autoreload 2"
   ]
  },
  {
   "cell_type": "markdown",
   "metadata": {
    "collapsed": true,
    "pycharm": {
     "name": "#%% md\n"
    }
   },
   "source": [
    "# Spapros Tutorial: Basic Evaluation\n",
    "\n",
    "This tutorial shows how to to evaluate a probeset with the spapros evaluation pipeline.\n",
    "We examplary evaluate the probeset of 50 genes that was selected in our [basic selection tutoral](https://spapros.readthedocs.io/en/latest/tutorials/spapros_tutorial_basic_selection.html).\n",
    "\n",
    "The used dataset contains 3k PBMCs from a healthy donor and is publicly available from\n",
    "[10x Genomics](https://support.10xgenomics.com/single-cell-gene-expression/datasets/1.1.0/pbmc3k)\n",
    "[here](http://cf.10xgenomics.com/samples/cell-exp/1.1.0/pbmc3k/pbmc3k_filtered_gene_bc_matrices.tar.gz).\n",
    "\n",
    "You can also derive it from scanpy [here](https://scanpy.readthedocs.io/en/stable/generated/scanpy.datasets.pbmc3k.html#scanpy.datasets.pbmc3k), like we will do in this tutorial.\n",
    "\n",
    "The preprocessed Anndata consists of log-normalized single cell RNAseq counts of 2638 cells for 1838 genes."
   ]
  },
  {
   "cell_type": "markdown",
   "metadata": {},
   "source": [
    "## Import packages and setup\n",
    "\n",
    "To run the notebook locally, create a conda environment using this [yaml file](../requirements_dev.yaml):\n",
    "\n",
    "    conda create -f environment.yaml\n",
    "\n",
    "Then add the conda environment as ipython kernel:\n",
    "\n",
    "    python -m ipykernel install --user --name spapros --display-name Python (spapros)\n",
    "\n"
   ]
  },
  {
   "cell_type": "code",
   "execution_count": 2,
   "metadata": {
    "pycharm": {
     "is_executing": true,
     "name": "#%%\n"
    },
    "scrolled": true
   },
   "outputs": [],
   "source": [
    "import spapros\n",
    "from spapros import ev, pl\n",
    "import scanpy as sc\n",
    "import matplotlib as mpl"
   ]
  },
  {
   "cell_type": "code",
   "execution_count": 3,
   "metadata": {
    "pycharm": {
     "name": "#%%\n"
    },
    "scrolled": false
   },
   "outputs": [
    {
     "name": "stdout",
     "output_type": "stream",
     "text": [
      "scanpy==1.8.2 anndata==0.8.0 umap==0.5.2 numpy==1.21.5 scipy==1.7.3 pandas==1.3.5 scikit-learn==1.0.2 statsmodels==0.13.2 python-igraph==0.9.9 pynndescent==0.5.6\n",
      "spapros==0.1.0\n"
     ]
    }
   ],
   "source": [
    "sc.settings.verbosity = 1\n",
    "sc.logging.print_header()\n",
    "print(f\"spapros=={spapros.__version__}\")"
   ]
  },
  {
   "cell_type": "markdown",
   "metadata": {},
   "source": [
    "## Load dataset and selected probeset"
   ]
  },
  {
   "cell_type": "code",
   "execution_count": 4,
   "metadata": {
    "pycharm": {
     "name": "#%%\n"
    },
    "scrolled": false
   },
   "outputs": [
    {
     "data": {
      "text/plain": [
       "AnnData object with n_obs × n_vars = 2638 × 1838\n",
       "    obs: 'size_factors', 'celltype'\n",
       "    var: 'gene_ids'\n",
       "    uns: 'log1p'"
      ]
     },
     "execution_count": 4,
     "metadata": {},
     "output_type": "execute_result"
    }
   ],
   "source": [
    "adata = sc.datasets.pbmc3k()\n",
    "adata_tmp = sc.datasets.pbmc3k_processed()\n",
    "adata = adata[adata_tmp.obs_names,adata_tmp.var_names]\n",
    "adata_raw = adata.copy()\n",
    "sc.pp.normalize_total(adata,target_sum=1e4,key_added=\"size_factors\")\n",
    "\n",
    "adata.X = adata_raw.X\n",
    "sc.pp.log1p(adata)\n",
    "adata.obs['celltype'] = adata_tmp.obs['louvain']\n",
    "adata"
   ]
  },
  {
   "cell_type": "code",
   "execution_count": 5,
   "metadata": {},
   "outputs": [],
   "source": [
    "probeset = ['PPBP', 'HLA-DQA1', 'FCGR3A', 'GZMB', 'CD79A', 'NKG7', 'S100A8', 'CD2',\n",
    "       'HLA-DPB1', 'GZMK', 'LST1', 'TYROBP', 'MS4A1', 'GPX1', 'CCL5',\n",
    "       'HLA-DRB1', 'GNLY', 'FCN1', 'SDPR', 'AIF1', 'FCER1G', 'IGJ', 'CST3',\n",
    "       'LGALS2', 'GZMA', 'PRF1', 'HIST1H2AC', 'FCER1A', 'STK17A', 'HLA-DQB1',\n",
    "       'CST7', 'SNRPB', 'LINC00926', 'HLA-DPA1', 'MS4A6A', 'UBE2L6', 'ATP6V1F',\n",
    "       'SF3B5', 'FYB', 'C9orf142', 'APOBEC3A', 'IGLL5', 'NPC2', 'GRN', 'LYAR',\n",
    "       'PYCARD', 'LGALS1', 'PF4', 'PTCRA', 'IFITM3']"
   ]
  },
  {
   "cell_type": "markdown",
   "metadata": {},
   "source": [
    "## Start the evaluation"
   ]
  },
  {
   "cell_type": "code",
   "execution_count": 6,
   "metadata": {},
   "outputs": [],
   "source": [
    "evaluator = ev.ProbesetEvaluator(adata, verbosity=2, results_dir=None)"
   ]
  },
  {
   "cell_type": "code",
   "execution_count": 7,
   "metadata": {
    "scrolled": false
   },
   "outputs": [
    {
     "data": {
      "application/vnd.jupyter.widget-view+json": {
       "model_id": "dbd251e1da5f4c559d96e72b4e21e4ba",
       "version_major": 2,
       "version_minor": 0
      },
      "text/plain": [
       "Output()"
      ]
     },
     "metadata": {},
     "output_type": "display_data"
    },
    {
     "data": {
      "text/html": [
       "<pre style=\"white-space:pre;overflow-x:auto;line-height:normal;font-family:Menlo,'DejaVu Sans Mono',consolas,'Courier New',monospace\"><span style=\"color: #808000; text-decoration-color: #808000; font-weight: bold\">The following cell types are not included in forest classifications since they have fewer </span>\n",
       "<span style=\"color: #808000; text-decoration-color: #808000; font-weight: bold\">than </span><span style=\"color: #808000; text-decoration-color: #808000; font-weight: bold\">40</span><span style=\"color: #808000; text-decoration-color: #808000; font-weight: bold\"> cells: [</span><span style=\"color: #808000; text-decoration-color: #808000; font-weight: bold\">'Dendritic cells'</span><span style=\"color: #808000; text-decoration-color: #808000; font-weight: bold\">, </span><span style=\"color: #808000; text-decoration-color: #808000; font-weight: bold\">'Megakaryocytes'</span><span style=\"color: #808000; text-decoration-color: #808000; font-weight: bold\">]</span>\n",
       "</pre>\n"
      ],
      "text/plain": [
       "\u001b[1;33mThe following cell types are not included in forest classifications since they have fewer \u001b[0m\n",
       "\u001b[1;33mthan \u001b[0m\u001b[1;33m40\u001b[0m\u001b[1;33m cells: \u001b[0m\u001b[1;33m[\u001b[0m\u001b[1;33m'Dendritic cells'\u001b[0m\u001b[1;33m, \u001b[0m\u001b[1;33m'Megakaryocytes'\u001b[0m\u001b[1;33m]\u001b[0m\n"
      ]
     },
     "metadata": {},
     "output_type": "display_data"
    },
    {
     "data": {
      "text/html": [
       "<pre style=\"white-space:pre;overflow-x:auto;line-height:normal;font-family:Menlo,'DejaVu Sans Mono',consolas,'Courier New',monospace\"></pre>\n"
      ],
      "text/plain": []
     },
     "metadata": {},
     "output_type": "display_data"
    },
    {
     "data": {
      "text/html": [
       "<pre style=\"white-space:pre;overflow-x:auto;line-height:normal;font-family:Menlo,'DejaVu Sans Mono',consolas,'Courier New',monospace\">\n",
       "</pre>\n"
      ],
      "text/plain": [
       "\n"
      ]
     },
     "metadata": {},
     "output_type": "display_data"
    }
   ],
   "source": [
    "evaluator.evaluate_probeset(probeset)"
   ]
  },
  {
   "cell_type": "markdown",
   "metadata": {},
   "source": [
    "## Visualize the results"
   ]
  },
  {
   "cell_type": "code",
   "execution_count": 8,
   "metadata": {
    "tags": [
     "hide-cell"
    ]
   },
   "outputs": [],
   "source": [
    "mpl.rcParams['figure.dpi'] = 60"
   ]
  },
  {
   "cell_type": "code",
   "execution_count": 9,
   "metadata": {
    "scrolled": true,
    "tags": [
     "remove_input",
     "nbsphinx-thumbnail"
    ]
   },
   "outputs": [
    {
     "data": {
      "image/png": "[encoded data removed]",
      "text/plain": [
       "<Figure size 330x60 with 5 Axes>"
      ]
     },
     "metadata": {
      "needs_background": "light"
     },
     "output_type": "display_data"
    }
   ],
   "source": [
    "evaluator.plot_summary()"
   ]
  },
  {
   "cell_type": "markdown",
   "metadata": {},
   "source": [
    "## What's next?\n",
    "\n",
    "You learned so far the very basic spapros evaluation probeset pipeline.\n",
    "There are several ways to customize and improve your evaluation with spapros.\n",
    "See our [advanced evaluation tutorial](https://spapros.readthedocs.io/en/latest/tutorials/spapros_tutorial_advanced_evaluation.html) if you want to learn more.\n",
    "We also explain each available metric there (there are even more than shown here!) and show how to create pretty plots."
   ]
  },
  {
   "cell_type": "markdown",
   "metadata": {},
   "source": [
    "**Note**:\n",
    "After running the spapros evaluation pipeline, the results are stored in a directory, that is by default called `probeset_evaluation`.\n",
    "If you run another evaluation after this tutorial, be careful that you either specify another dir or delete the previously created results directory because otherwise parts will be overwritten and parts will be falsely reused!\n",
    "If you do not want to save results, initialize the `ProbesetEvaluator` with `dir=None`, like in this tutorial."
   ]
  }
 ],
 "metadata": {
  "celltoolbar": "Edit Metadata",
  "kernelspec": {
   "display_name": "Python (spapros)",
   "language": "python",
   "name": "spapros"
  },
  "language_info": {
   "codemirror_mode": {
    "name": "ipython",
    "version": 3
   },
   "file_extension": ".py",
   "mimetype": "text/x-python",
   "name": "python",
   "nbconvert_exporter": "python",
   "pygments_lexer": "ipython3",
   "version": "3.8.12"
  },
  "latex_envs": {
   "LaTeX_envs_menu_present": true,
   "autoclose": false,
   "autocomplete": true,
   "bibliofile": "biblio.bib",
   "cite_by": "apalike",
   "current_citInitial": 1,
   "eqLabelWithNumbers": true,
   "eqNumInitial": 1,
   "hotkeys": {
    "equation": "Ctrl-E",
    "itemize": "Ctrl-I"
   },
   "labels_anchors": false,
   "latex_user_defs": false,
   "report_style_numbering": false,
   "user_envs_cfg": false
  },
  "pycharm": {
   "stem_cell": {
    "cell_type": "raw",
    "metadata": {
     "collapsed": false
    },
    "source": [
     "%matplotlib inline\n"
    ]
   }
  },
  "widgets": {
   "application/vnd.jupyter.widget-state+json": {
    "state": {
     "1b8ec37e6b9d4a7e9819df0ec1a511be": {
      "model_module": "@jupyter-widgets/base",
      "model_module_version": "1.2.0",
      "model_name": "LayoutModel",
      "state": {}
     },
     "348c198a59ef4e8ab1851d5badacd1c4": {
      "model_module": "@jupyter-widgets/output",
      "model_module_version": "1.0.0",
      "model_name": "OutputModel",
      "state": {
       "layout": "IPY_MODEL_ddca6b3a67d34f20b7508db74c7ef692",
       "outputs": [
        {
         "data": {
          "text/html": "<pre style=\"white-space:pre;overflow-x:auto;line-height:normal;font-family:Menlo,'DejaVu Sans Mono',consolas,'Courier New',monospace\"><span style=\"color: #000080; text-decoration-color: #000080; font-weight: bold\">Shared metric computations................................</span> <span style=\"color: #729c1f; text-decoration-color: #729c1f\">━━━━━━━━━━━━━━━━━━━━</span>  <span style=\"color: #800080; text-decoration-color: #800080\"> 3/3</span> <span style=\"color: #808000; text-decoration-color: #808000\">0:00:05</span>\n  <span style=\"color: #7fbfbf; text-decoration-color: #7fbfbf; font-weight: bold\">Computing shared compuations for knn_overlap............</span> <span style=\"color: #729c1f; text-decoration-color: #729c1f\">━━━━━━━━━━━━━━━━━━━━</span>  <span style=\"color: #800080; text-decoration-color: #800080\"> 6/6</span> <span style=\"color: #808000; text-decoration-color: #808000\">0:00:04</span>\n  <span style=\"color: #7fbfbf; text-decoration-color: #7fbfbf; font-weight: bold\">Computing shared compuations for gene_corr..............</span> <span style=\"color: #729c1f; text-decoration-color: #729c1f\">━━━━━━━━━━━━━━━━━━━━</span>  <span style=\"color: #800080; text-decoration-color: #800080\">100%</span> <span style=\"color: #808000; text-decoration-color: #808000\">0:00:00</span>\n<span style=\"color: #000080; text-decoration-color: #000080; font-weight: bold\">Probeset specific pre computations........................</span> <span style=\"color: #729c1f; text-decoration-color: #729c1f\">━━━━━━━━━━━━━━━━━━━━</span>  <span style=\"color: #800080; text-decoration-color: #800080\"> 3/3</span> <span style=\"color: #808000; text-decoration-color: #808000\">0:00:03</span>\n  <span style=\"color: #7fbfbf; text-decoration-color: #7fbfbf; font-weight: bold\">Computing pre compuations for knn_overlap...............</span> <span style=\"color: #729c1f; text-decoration-color: #729c1f\">━━━━━━━━━━━━━━━━━━━━</span>  <span style=\"color: #800080; text-decoration-color: #800080\"> 6/6</span> <span style=\"color: #808000; text-decoration-color: #808000\">0:00:03</span>\n<span style=\"color: #000080; text-decoration-color: #000080; font-weight: bold\">Final probeset specific computations......................</span> <span style=\"color: #f92672; text-decoration-color: #f92672\">━━━━━━━━━━━━━</span><span style=\"color: #3a3a3a; text-decoration-color: #3a3a3a\">╺━━━━━━</span>  <span style=\"color: #800080; text-decoration-color: #800080\"> 2/3</span> <span style=\"color: #808000; text-decoration-color: #808000\">0:01:24</span>\n  <span style=\"color: #7fbfbf; text-decoration-color: #7fbfbf; font-weight: bold\">Computing final compuations for knn_overlap.............</span> <span style=\"color: #729c1f; text-decoration-color: #729c1f\">━━━━━━━━━━━━━━━━━━━━</span>  <span style=\"color: #800080; text-decoration-color: #800080\"> 6/6</span> <span style=\"color: #808000; text-decoration-color: #808000\">0:00:00</span>\n  <span style=\"color: #7fbfbf; text-decoration-color: #7fbfbf; font-weight: bold\">Computing final compuations for forest_clfs.............</span> <span style=\"color: #729c1f; text-decoration-color: #729c1f\">━━━━━━━━━━━━━━━━━━━━</span> <span style=\"color: #800080; text-decoration-color: #800080\">25/25</span> <span style=\"color: #808000; text-decoration-color: #808000\">0:01:24</span>\n  <span style=\"color: #7fbfbf; text-decoration-color: #7fbfbf; font-weight: bold\">Computing final compuations for gene_corr...............</span> <span style=\"color: #3a3a3a; text-decoration-color: #3a3a3a\">━━━━━━━━━━━━━━━━━━━━</span>  <span style=\"color: #800080; text-decoration-color: #800080\">  0%</span> <span style=\"color: #808000; text-decoration-color: #808000\">0:00:00</span>\n</pre>\n",
          "text/plain": "\u001b[1;34mShared metric computations................................\u001b[0m \u001b[38;2;114;156;31m━━━━━━━━━━━━━━━━━━━━\u001b[0m  \u001b[35m 3/3\u001b[0m \u001b[33m0:00:05\u001b[0m\n  \u001b[1;2;36mComputing shared compuations for knn_overlap............\u001b[0m \u001b[38;2;114;156;31m━━━━━━━━━━━━━━━━━━━━\u001b[0m  \u001b[35m 6/6\u001b[0m \u001b[33m0:00:04\u001b[0m\n  \u001b[1;2;36mComputing shared compuations for gene_corr..............\u001b[0m \u001b[38;2;114;156;31m━━━━━━━━━━━━━━━━━━━━\u001b[0m  \u001b[35m100%\u001b[0m \u001b[33m0:00:00\u001b[0m\n\u001b[1;34mProbeset specific pre computations........................\u001b[0m \u001b[38;2;114;156;31m━━━━━━━━━━━━━━━━━━━━\u001b[0m  \u001b[35m 3/3\u001b[0m \u001b[33m0:00:03\u001b[0m\n  \u001b[1;2;36mComputing pre compuations for knn_overlap...............\u001b[0m \u001b[38;2;114;156;31m━━━━━━━━━━━━━━━━━━━━\u001b[0m  \u001b[35m 6/6\u001b[0m \u001b[33m0:00:03\u001b[0m\n\u001b[1;34mFinal probeset specific computations......................\u001b[0m \u001b[38;2;249;38;114m━━━━━━━━━━━━━\u001b[0m\u001b[38;5;237m╺\u001b[0m\u001b[38;5;237m━━━━━━\u001b[0m  \u001b[35m 2/3\u001b[0m \u001b[33m0:01:24\u001b[0m\n  \u001b[1;2;36mComputing final compuations for knn_overlap.............\u001b[0m \u001b[38;2;114;156;31m━━━━━━━━━━━━━━━━━━━━\u001b[0m  \u001b[35m 6/6\u001b[0m \u001b[33m0:00:00\u001b[0m\n  \u001b[1;2;36mComputing final compuations for forest_clfs.............\u001b[0m \u001b[38;2;114;156;31m━━━━━━━━━━━━━━━━━━━━\u001b[0m \u001b[35m25/25\u001b[0m \u001b[33m0:01:24\u001b[0m\n  \u001b[1;2;36mComputing final compuations for gene_corr...............\u001b[0m \u001b[38;5;237m━━━━━━━━━━━━━━━━━━━━\u001b[0m  \u001b[35m  0%\u001b[0m \u001b[33m0:00:00\u001b[0m\n"
         },
         "metadata": {},
         "output_type": "display_data"
        }
       ]
      }
     },
     "6fbeab7a32b6453e817b6a2162f8d743": {
      "model_module": "@jupyter-widgets/base",
      "model_module_version": "1.2.0",
      "model_name": "LayoutModel",
      "state": {}
     },
     "7e8bb5ffe8704612a98333e7c82b9140": {
      "model_module": "@jupyter-widgets/output",
      "model_module_version": "1.0.0",
      "model_name": "OutputModel",
      "state": {
       "layout": "IPY_MODEL_6fbeab7a32b6453e817b6a2162f8d743",
       "outputs": [
        {
         "data": {
          "text/html": "<pre style=\"white-space:pre;overflow-x:auto;line-height:normal;font-family:Menlo,'DejaVu Sans Mono',consolas,'Courier New',monospace\"><span style=\"color: #000000; text-decoration-color: #000000; font-weight: bold\">SPAPROS PROBESET EVALUATION:                                                                </span> \n<span style=\"color: #000080; text-decoration-color: #000080; font-weight: bold\">Shared metric computations................................</span> <span style=\"color: #729c1f; text-decoration-color: #729c1f\">━━━━━━━━━━━━━━━━━━━━</span>  <span style=\"color: #800080; text-decoration-color: #800080\"> 3/3</span> <span style=\"color: #808000; text-decoration-color: #808000\">0:00:01</span>\n  <span style=\"color: #7fbfbf; text-decoration-color: #7fbfbf; font-weight: bold\">Computing shared compuations for knn_overlap............</span> <span style=\"color: #729c1f; text-decoration-color: #729c1f\">━━━━━━━━━━━━━━━━━━━━</span>  <span style=\"color: #800080; text-decoration-color: #800080\"> 6/6</span> <span style=\"color: #808000; text-decoration-color: #808000\">0:00:01</span>\n  <span style=\"color: #7fbfbf; text-decoration-color: #7fbfbf; font-weight: bold\">Computing shared compuations for gene_corr..............</span> <span style=\"color: #729c1f; text-decoration-color: #729c1f\">━━━━━━━━━━━━━━━━━━━━</span>  <span style=\"color: #800080; text-decoration-color: #800080\">100%</span> <span style=\"color: #808000; text-decoration-color: #808000\">0:00:00</span>\n<span style=\"color: #000080; text-decoration-color: #000080; font-weight: bold\">Probeset specific pre computations........................</span> <span style=\"color: #729c1f; text-decoration-color: #729c1f\">━━━━━━━━━━━━━━━━━━━━</span>  <span style=\"color: #800080; text-decoration-color: #800080\"> 3/3</span> <span style=\"color: #808000; text-decoration-color: #808000\">0:00:02</span>\n  <span style=\"color: #7fbfbf; text-decoration-color: #7fbfbf; font-weight: bold\">Computing pre compuations for knn_overlap...............</span> <span style=\"color: #729c1f; text-decoration-color: #729c1f\">━━━━━━━━━━━━━━━━━━━━</span>  <span style=\"color: #800080; text-decoration-color: #800080\"> 6/6</span> <span style=\"color: #808000; text-decoration-color: #808000\">0:00:02</span>\n<span style=\"color: #000080; text-decoration-color: #000080; font-weight: bold\">Final probeset specific computations......................</span> <span style=\"color: #729c1f; text-decoration-color: #729c1f\">━━━━━━━━━━━━━━━━━━━━</span>  <span style=\"color: #800080; text-decoration-color: #800080\"> 3/3</span> <span style=\"color: #808000; text-decoration-color: #808000\">0:00:10</span>\n  <span style=\"color: #7fbfbf; text-decoration-color: #7fbfbf; font-weight: bold\">Computing final compuations for knn_overlap.............</span> <span style=\"color: #729c1f; text-decoration-color: #729c1f\">━━━━━━━━━━━━━━━━━━━━</span>  <span style=\"color: #800080; text-decoration-color: #800080\"> 6/6</span> <span style=\"color: #808000; text-decoration-color: #808000\">0:00:00</span>\n  <span style=\"color: #7fbfbf; text-decoration-color: #7fbfbf; font-weight: bold\">Computing final compuations for forest_clfs.............</span> <span style=\"color: #729c1f; text-decoration-color: #729c1f\">━━━━━━━━━━━━━━━━━━━━</span> <span style=\"color: #800080; text-decoration-color: #800080\">25/25</span> <span style=\"color: #808000; text-decoration-color: #808000\">0:00:09</span>\n  <span style=\"color: #7fbfbf; text-decoration-color: #7fbfbf; font-weight: bold\">Computing final compuations for gene_corr...............</span> <span style=\"color: #729c1f; text-decoration-color: #729c1f\">━━━━━━━━━━━━━━━━━━━━</span>  <span style=\"color: #800080; text-decoration-color: #800080\">100%</span> <span style=\"color: #808000; text-decoration-color: #808000\">0:00:00</span>\n<span style=\"color: #000000; text-decoration-color: #000000; font-weight: bold\">FINISHED</span>  \n          \n</pre>\n",
          "text/plain": "\u001b[1;30mSPAPROS PROBESET EVALUATION:                                                                \u001b[0m \n\u001b[1;34mShared metric computations................................\u001b[0m \u001b[38;2;114;156;31m━━━━━━━━━━━━━━━━━━━━\u001b[0m  \u001b[35m 3/3\u001b[0m \u001b[33m0:00:01\u001b[0m\n  \u001b[1;2;36mComputing shared compuations for knn_overlap............\u001b[0m \u001b[38;2;114;156;31m━━━━━━━━━━━━━━━━━━━━\u001b[0m  \u001b[35m 6/6\u001b[0m \u001b[33m0:00:01\u001b[0m\n  \u001b[1;2;36mComputing shared compuations for gene_corr..............\u001b[0m \u001b[38;2;114;156;31m━━━━━━━━━━━━━━━━━━━━\u001b[0m  \u001b[35m100%\u001b[0m \u001b[33m0:00:00\u001b[0m\n\u001b[1;34mProbeset specific pre computations........................\u001b[0m \u001b[38;2;114;156;31m━━━━━━━━━━━━━━━━━━━━\u001b[0m  \u001b[35m 3/3\u001b[0m \u001b[33m0:00:02\u001b[0m\n  \u001b[1;2;36mComputing pre compuations for knn_overlap...............\u001b[0m \u001b[38;2;114;156;31m━━━━━━━━━━━━━━━━━━━━\u001b[0m  \u001b[35m 6/6\u001b[0m \u001b[33m0:00:02\u001b[0m\n\u001b[1;34mFinal probeset specific computations......................\u001b[0m \u001b[38;2;114;156;31m━━━━━━━━━━━━━━━━━━━━\u001b[0m  \u001b[35m 3/3\u001b[0m \u001b[33m0:00:10\u001b[0m\n  \u001b[1;2;36mComputing final compuations for knn_overlap.............\u001b[0m \u001b[38;2;114;156;31m━━━━━━━━━━━━━━━━━━━━\u001b[0m  \u001b[35m 6/6\u001b[0m \u001b[33m0:00:00\u001b[0m\n  \u001b[1;2;36mComputing final compuations for forest_clfs.............\u001b[0m \u001b[38;2;114;156;31m━━━━━━━━━━━━━━━━━━━━\u001b[0m \u001b[35m25/25\u001b[0m \u001b[33m0:00:09\u001b[0m\n  \u001b[1;2;36mComputing final compuations for gene_corr...............\u001b[0m \u001b[38;2;114;156;31m━━━━━━━━━━━━━━━━━━━━\u001b[0m  \u001b[35m100%\u001b[0m \u001b[33m0:00:00\u001b[0m\n\u001b[1;30mFINISHED\u001b[0m  \n          \n"
         },
         "metadata": {},
         "output_type": "display_data"
        }
       ]
      }
     },
     "dbd251e1da5f4c559d96e72b4e21e4ba": {
      "model_module": "@jupyter-widgets/output",
      "model_module_version": "1.0.0",
      "model_name": "OutputModel",
      "state": {
       "layout": "IPY_MODEL_1b8ec37e6b9d4a7e9819df0ec1a511be",
       "outputs": [
        {
         "data": {
          "text/html": "<pre style=\"white-space:pre;overflow-x:auto;line-height:normal;font-family:Menlo,'DejaVu Sans Mono',consolas,'Courier New',monospace\"><span style=\"color: #000000; text-decoration-color: #000000; font-weight: bold\">SPAPROS PROBESET EVALUATION:                                                                </span> \n<span style=\"color: #000080; text-decoration-color: #000080; font-weight: bold\">Shared metric computations................................</span> <span style=\"color: #729c1f; text-decoration-color: #729c1f\">━━━━━━━━━━━━━━━━━━━━</span>  <span style=\"color: #800080; text-decoration-color: #800080\"> 3/3</span> <span style=\"color: #808000; text-decoration-color: #808000\">0:00:04</span>\n  <span style=\"color: #7fbfbf; text-decoration-color: #7fbfbf; font-weight: bold\">Computing shared compuations for knn_overlap............</span> <span style=\"color: #729c1f; text-decoration-color: #729c1f\">━━━━━━━━━━━━━━━━━━━━</span>  <span style=\"color: #800080; text-decoration-color: #800080\"> 6/6</span> <span style=\"color: #808000; text-decoration-color: #808000\">0:00:03</span>\n  <span style=\"color: #7fbfbf; text-decoration-color: #7fbfbf; font-weight: bold\">Computing shared compuations for gene_corr..............</span> <span style=\"color: #729c1f; text-decoration-color: #729c1f\">━━━━━━━━━━━━━━━━━━━━</span>  <span style=\"color: #800080; text-decoration-color: #800080\">100%</span> <span style=\"color: #808000; text-decoration-color: #808000\">0:00:00</span>\n<span style=\"color: #000080; text-decoration-color: #000080; font-weight: bold\">Probeset specific pre computations........................</span> <span style=\"color: #729c1f; text-decoration-color: #729c1f\">━━━━━━━━━━━━━━━━━━━━</span>  <span style=\"color: #800080; text-decoration-color: #800080\"> 3/3</span> <span style=\"color: #808000; text-decoration-color: #808000\">0:00:02</span>\n  <span style=\"color: #7fbfbf; text-decoration-color: #7fbfbf; font-weight: bold\">Computing pre compuations for knn_overlap...............</span> <span style=\"color: #729c1f; text-decoration-color: #729c1f\">━━━━━━━━━━━━━━━━━━━━</span>  <span style=\"color: #800080; text-decoration-color: #800080\"> 6/6</span> <span style=\"color: #808000; text-decoration-color: #808000\">0:00:02</span>\n<span style=\"color: #000080; text-decoration-color: #000080; font-weight: bold\">Final probeset specific computations......................</span> <span style=\"color: #729c1f; text-decoration-color: #729c1f\">━━━━━━━━━━━━━━━━━━━━</span>  <span style=\"color: #800080; text-decoration-color: #800080\"> 3/3</span> <span style=\"color: #808000; text-decoration-color: #808000\">0:00:10</span>\n  <span style=\"color: #7fbfbf; text-decoration-color: #7fbfbf; font-weight: bold\">Computing final compuations for knn_overlap.............</span> <span style=\"color: #729c1f; text-decoration-color: #729c1f\">━━━━━━━━━━━━━━━━━━━━</span>  <span style=\"color: #800080; text-decoration-color: #800080\"> 6/6</span> <span style=\"color: #808000; text-decoration-color: #808000\">0:00:00</span>\n  <span style=\"color: #7fbfbf; text-decoration-color: #7fbfbf; font-weight: bold\">Computing final compuations for forest_clfs.............</span> <span style=\"color: #729c1f; text-decoration-color: #729c1f\">━━━━━━━━━━━━━━━━━━━━</span> <span style=\"color: #800080; text-decoration-color: #800080\">25/25</span> <span style=\"color: #808000; text-decoration-color: #808000\">0:00:09</span>\n  <span style=\"color: #7fbfbf; text-decoration-color: #7fbfbf; font-weight: bold\">Computing final compuations for gene_corr...............</span> <span style=\"color: #729c1f; text-decoration-color: #729c1f\">━━━━━━━━━━━━━━━━━━━━</span>  <span style=\"color: #800080; text-decoration-color: #800080\">100%</span> <span style=\"color: #808000; text-decoration-color: #808000\">0:00:00</span>\n<span style=\"color: #000000; text-decoration-color: #000000; font-weight: bold\">FINISHED</span>  \n          \n</pre>\n",
          "text/plain": "\u001b[1;30mSPAPROS PROBESET EVALUATION:                                                                \u001b[0m \n\u001b[1;34mShared metric computations................................\u001b[0m \u001b[38;2;114;156;31m━━━━━━━━━━━━━━━━━━━━\u001b[0m  \u001b[35m 3/3\u001b[0m \u001b[33m0:00:04\u001b[0m\n  \u001b[1;2;36mComputing shared compuations for knn_overlap............\u001b[0m \u001b[38;2;114;156;31m━━━━━━━━━━━━━━━━━━━━\u001b[0m  \u001b[35m 6/6\u001b[0m \u001b[33m0:00:03\u001b[0m\n  \u001b[1;2;36mComputing shared compuations for gene_corr..............\u001b[0m \u001b[38;2;114;156;31m━━━━━━━━━━━━━━━━━━━━\u001b[0m  \u001b[35m100%\u001b[0m \u001b[33m0:00:00\u001b[0m\n\u001b[1;34mProbeset specific pre computations........................\u001b[0m \u001b[38;2;114;156;31m━━━━━━━━━━━━━━━━━━━━\u001b[0m  \u001b[35m 3/3\u001b[0m \u001b[33m0:00:02\u001b[0m\n  \u001b[1;2;36mComputing pre compuations for knn_overlap...............\u001b[0m \u001b[38;2;114;156;31m━━━━━━━━━━━━━━━━━━━━\u001b[0m  \u001b[35m 6/6\u001b[0m \u001b[33m0:00:02\u001b[0m\n\u001b[1;34mFinal probeset specific computations......................\u001b[0m \u001b[38;2;114;156;31m━━━━━━━━━━━━━━━━━━━━\u001b[0m  \u001b[35m 3/3\u001b[0m \u001b[33m0:00:10\u001b[0m\n  \u001b[1;2;36mComputing final compuations for knn_overlap.............\u001b[0m \u001b[38;2;114;156;31m━━━━━━━━━━━━━━━━━━━━\u001b[0m  \u001b[35m 6/6\u001b[0m \u001b[33m0:00:00\u001b[0m\n  \u001b[1;2;36mComputing final compuations for forest_clfs.............\u001b[0m \u001b[38;2;114;156;31m━━━━━━━━━━━━━━━━━━━━\u001b[0m \u001b[35m25/25\u001b[0m \u001b[33m0:00:09\u001b[0m\n  \u001b[1;2;36mComputing final compuations for gene_corr...............\u001b[0m \u001b[38;2;114;156;31m━━━━━━━━━━━━━━━━━━━━\u001b[0m  \u001b[35m100%\u001b[0m \u001b[33m0:00:00\u001b[0m\n\u001b[1;30mFINISHED\u001b[0m  \n          \n"
         },
         "metadata": {},
         "output_type": "display_data"
        }
       ]
      }
     },
     "ddca6b3a67d34f20b7508db74c7ef692": {
      "model_module": "@jupyter-widgets/base",
      "model_module_version": "1.2.0",
      "model_name": "LayoutModel",
      "state": {}
     }
    },
    "version_major": 2,
    "version_minor": 0
   }
  }
 },
 "nbformat": 4,
 "nbformat_minor": 1
}
