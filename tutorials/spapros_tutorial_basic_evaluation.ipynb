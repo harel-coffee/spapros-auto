{
 "cells": [
  {
   "cell_type": "markdown",
   "metadata": {
    "collapsed": true,
    "pycharm": {
     "name": "#%% md\n"
    }
   },
   "source": [
    "# Spapros Tutorial: Basic Evaluation\n",
    "\n",
    "This tutorial shows how to to evaluate a probeset with the spapros evaluation pipeline.  \n",
    "We examplary evaluate the probeset of 50 genes that was selected in our [basic selection tutoral](https://spapros.readthedocs.io/en/latest/tutorials/spapros_tutorial_basic_selection.html).\n",
    "\n",
    "The used dataset contains 3k PBMCs from a healthy donor and is publicly available from\n",
    "[10x Genomics](https://support.10xgenomics.com/single-cell-gene-expression/datasets/1.1.0/pbmc3k)\n",
    "[here](http://cf.10xgenomics.com/samples/cell-exp/1.1.0/pbmc3k/pbmc3k_filtered_gene_bc_matrices.tar.gz).  \n",
    "You can also derive it from scanpy [here](https://scanpy.readthedocs.io/en/stable/generated/scanpy.datasets.pbmc3k.html#scanpy.datasets.pbmc3k), like we will do in this tutorial.\n",
    "\n",
    "The preprocessed Anndata consists of log-normalized single cell RNAseq counts of 2638 cells for 13714 genes."
   ]
  },
  {
   "cell_type": "markdown",
   "metadata": {},
   "source": [
    "## Import packages and setup\n",
    "\n",
    "To run the notebook locally, create a conda environment using this [environment.yaml](TODO link):\n",
    "\n",
    "    conda create -f environment.yaml\n",
    "\n",
    "Then add the conda environment as ipython kernel:\n",
    "\n",
    "    python -m ipykernel install --user --name spapros --display-name Python (spapros)\n",
    "\n"
   ]
  },
  {
   "cell_type": "code",
   "execution_count": 1,
   "metadata": {
    "pycharm": {
     "is_executing": true,
     "name": "#%%\n"
    }
   },
   "outputs": [
    {
     "name": "stderr",
     "output_type": "stream",
     "text": [
      "/big/st/strasserl/spapros/spapros/selection/selection_procedure.py:19: TqdmExperimentalWarning: Using `tqdm.autonotebook.tqdm` in notebook mode. Use `tqdm.tqdm` instead to force console mode (e.g. in jupyter console)\n",
      "  from tqdm.autonotebook import tqdm\n"
     ]
    }
   ],
   "source": [
    "import spapros\n",
    "from spapros import ev, pl\n",
    "import scanpy as sc"
   ]
  },
  {
   "cell_type": "code",
   "execution_count": 2,
   "metadata": {
    "pycharm": {
     "name": "#%%\n"
    },
    "scrolled": false
   },
   "outputs": [
    {
     "name": "stdout",
     "output_type": "stream",
     "text": [
      "scanpy==1.8.1 anndata==0.7.8 umap==0.5.2 numpy==1.21.4 scipy==1.7.2 pandas==1.3.4 scikit-learn==1.0.1 statsmodels==0.13.1 python-igraph==0.9.8 pynndescent==0.5.5\n",
      "spapros==0.1.0\n"
     ]
    }
   ],
   "source": [
    "sc.settings.verbosity = 1\n",
    "sc.logging.print_header()\n",
    "print(f\"spapros=={spapros.__version__}\")"
   ]
  },
  {
   "cell_type": "markdown",
   "metadata": {},
   "source": [
    "## Load dataset and selected probeset"
   ]
  },
  {
   "cell_type": "code",
   "execution_count": 3,
   "metadata": {
    "pycharm": {
     "name": "#%%\n"
    },
    "scrolled": true
   },
   "outputs": [
    {
     "name": "stderr",
     "output_type": "stream",
     "text": [
      "/home/st/strasserl/anaconda3/envs/spapros/lib/python3.8/site-packages/scanpy/preprocessing/_simple.py:373: UserWarning: Revieved a view of an AnnData. Making a copy.\n",
      "  view_to_actual(adata)\n"
     ]
    },
    {
     "data": {
      "text/plain": [
       "AnnData object with n_obs × n_vars = 2638 × 13714\n",
       "    obs: 'size_factors', 'celltype'\n",
       "    var: 'gene_ids', 'highly_variable'\n",
       "    uns: 'log1p'"
      ]
     },
     "execution_count": 3,
     "metadata": {},
     "output_type": "execute_result"
    }
   ],
   "source": [
    "# Load the dataset\n",
    "adata = sc.datasets.pbmc3k()\n",
    "\n",
    "# Do preprocessing on a copy \n",
    "adata_pp = adata.copy()\n",
    "\n",
    "# Basic filtering\n",
    "sc.pp.filter_cells(adata_pp, min_genes=200)\n",
    "sc.pp.filter_genes(adata_pp, min_cells=3)\n",
    "adata_pp.var['mt'] = adata_pp.var_names.str.startswith('MT-')  # annotate the group of mitochondrial genes as 'mt'\n",
    "sc.pp.calculate_qc_metrics(adata_pp, qc_vars=['mt'], percent_top=None, log1p=False, inplace=True)\n",
    "adata = adata[((adata_pp.obs.n_genes_by_counts < 2500) & (adata_pp.obs.pct_counts_mt < 5)), :]\n",
    "\n",
    "# Calculate size factors\n",
    "sc.pp.normalize_total(adata_pp, target_sum=1e4, key_added=\"size_factors\")\n",
    "\n",
    "# Logarithmize copy\n",
    "sc.pp.log1p(adata_pp)\n",
    "\n",
    "# Find highly variable genes\n",
    "sc.pp.highly_variable_genes(adata_pp, min_mean=0.0125, max_mean=3, min_disp=0.5)\n",
    "\n",
    "# Cluster celltypes\n",
    "sc.tl.pca(adata_pp)\n",
    "sc.pp.neighbors(adata_pp)\n",
    "sc.tl.leiden(adata_pp, key_added=\"celltype\")\n",
    "\n",
    "# Actually filter read adata\n",
    "adata = adata[:, adata.var[\"gene_ids\"].isin(adata_pp.var[\"gene_ids\"])]\n",
    "\n",
    "# Logarithmize\n",
    "sc.pp.log1p(adata)\n",
    "\n",
    "# Save highly variable genes\n",
    "adata.var[\"highly_variable\"] = adata_pp.var[\"highly_variable\"]\n",
    "\n",
    "# Save size factors\n",
    "adata.obs[\"size_factors\"] = adata_pp.obs[\"size_factors\"]\n",
    "\n",
    "# Annotate cell types: \n",
    "adata.obs[\"celltype\"] = adata_pp.obs[\"celltype\"]\n",
    "\n",
    "adata\n"
   ]
  },
  {
   "cell_type": "code",
   "execution_count": 4,
   "metadata": {},
   "outputs": [],
   "source": [
    "selection = ['PPBP', 'CCL5', 'GNLY', 'S100A8', 'S100A11', 'LST1', 'CD79A', 'LTB',\n",
    "       'HLA-DQA1', 'GPX1', 'HLA-DQB1', 'IL32', 'FCER1G', 'NKG7', 'CD79B',\n",
    "       'FCGR3A', 'GSTP1', 'HLA-DRB1', 'TYROBP', 'CD2', 'HLA-DMA', 'ATP6V0E1',\n",
    "       'APOBEC3A', 'VAMP8', 'PSMB8', 'GZMB', 'COTL1', 'PPIB', 'UBB', 'AIF1',\n",
    "       'ARPC1B', 'FCN1', 'LGALS2', 'SRGN', 'PSMA7', 'MS4A1', 'MT-ND5', 'CST7',\n",
    "       'GIMAP5', 'GZMA', 'TCL1A', 'LYAR', 'PTPRCAP', 'CTSW', 'CD37',\n",
    "       'HLA-DPA1', 'SDPR', 'HLA-DPB1', 'YWHAB', 'DYNLL1']"
   ]
  },
  {
   "cell_type": "markdown",
   "metadata": {},
   "source": [
    "## Start the evaluation"
   ]
  },
  {
   "cell_type": "code",
   "execution_count": 5,
   "metadata": {},
   "outputs": [],
   "source": [
    "evaluator = ev.ProbesetEvaluator(adata, verbosity=1)"
   ]
  },
  {
   "cell_type": "code",
   "execution_count": 6,
   "metadata": {},
   "outputs": [],
   "source": [
    "evaluator.evaluate_probeset(selection)"
   ]
  },
  {
   "cell_type": "markdown",
   "metadata": {},
   "source": [
    "## Visualize the results"
   ]
  },
  {
   "cell_type": "code",
   "execution_count": 7,
   "metadata": {
    "scrolled": true
   },
   "outputs": [
    {
     "data": {
      "image/png": "[encoded data removed]",
      "text/plain": [
       "<Figure size 396x72 with 5 Axes>"
      ]
     },
     "metadata": {
      "needs_background": "light"
     },
     "output_type": "display_data"
    }
   ],
   "source": [
    "evaluator.plot_summary()"
   ]
  },
  {
   "cell_type": "markdown",
   "metadata": {},
   "source": [
    "## What's next? \n",
    "\n",
    "You learned so far the very basic spapros evaluation probeset pipeline.  \n",
    "There are several ways to customize and improve your evaluation with spapros. \n",
    "See our [advanced evaluation tutorial](https://spapros.readthedocs.io/en/latest/tutorials/spapros_tutorial_advanced_evaluation.html) if you want to learn more.\n",
    "We also explain each available metric there (there are even more than shown here!) and show how to create pretty plots. "
   ]
  },
  {
   "cell_type": "markdown",
   "metadata": {},
   "source": [
    "**Note**:  \n",
    "After running this tutorial, the results are stored in a directory, that is by default called `probeset_evaluation`.  \n",
    "If you run another evaluation after this tutorial, be careful that you either specify another dir or delete the previously created results directory because otherwise parts will be overwritten and parts will be falsely reused!\n",
    "If you do not want to save results, initialize the `ProbesetEvaluator` with `dir=None`.\n"
   ]
  }
 ],
 "metadata": {
  "celltoolbar": "Tags",
  "kernelspec": {
   "display_name": "Python3.8 (spapros)",
   "language": "python",
   "name": "spapros"
  },
  "language_info": {
   "codemirror_mode": {
    "name": "ipython",
    "version": 3
   },
   "file_extension": ".py",
   "mimetype": "text/x-python",
   "name": "python",
   "nbconvert_exporter": "python",
   "pygments_lexer": "ipython3",
   "version": "3.8.12"
  },
  "latex_envs": {
   "LaTeX_envs_menu_present": true,
   "autoclose": false,
   "autocomplete": true,
   "bibliofile": "biblio.bib",
   "cite_by": "apalike",
   "current_citInitial": 1,
   "eqLabelWithNumbers": true,
   "eqNumInitial": 1,
   "hotkeys": {
    "equation": "Ctrl-E",
    "itemize": "Ctrl-I"
   },
   "labels_anchors": false,
   "latex_user_defs": false,
   "report_style_numbering": false,
   "user_envs_cfg": false
  },
  "pycharm": {
   "stem_cell": {
    "cell_type": "raw",
    "metadata": {
     "collapsed": false
    },
    "source": [
     "%matplotlib inline\n"
    ]
   }
  }
 },
 "nbformat": 4,
 "nbformat_minor": 1
}
