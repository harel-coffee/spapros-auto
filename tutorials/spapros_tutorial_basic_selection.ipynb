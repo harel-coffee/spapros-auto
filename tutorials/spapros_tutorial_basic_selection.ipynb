{
 "cells": [
  {
   "cell_type": "code",
   "execution_count": 1,
   "metadata": {
    "nbsphinx": "hidden"
   },
   "outputs": [],
   "source": [
    "import warnings\n",
    "warnings.filterwarnings('ignore')\n",
    "\n",
    "from IPython.display import HTML, display, Image\n",
    "\n",
    "%load_ext autoreload\n",
    "%autoreload 2"
   ]
  },
  {
   "cell_type": "markdown",
   "metadata": {
    "collapsed": true,
    "pycharm": {
     "name": "#%% md\n"
    }
   },
   "source": [
    "# Spapros Selection: Create a probeset with spapros\n",
    "\n",
    "This tutorial shows how to select a gene probeset with spapros.\n",
    "\n",
    "The used dataset contains 3k PBMCs from a healthy donor and is publicly available from\n",
    "[10x Genomics](https://support.10xgenomics.com/single-cell-gene-expression/datasets/1.1.0/pbmc3k)\n",
    "[here](http://cf.10xgenomics.com/samples/cell-exp/1.1.0/pbmc3k/pbmc3k_filtered_gene_bc_matrices.tar.gz).\n",
    "\n",
    "You can also derive it from scanpy [here](https://scanpy.readthedocs.io/en/stable/generated/scanpy.datasets.pbmc3k.html#scanpy.datasets.pbmc3k), like we will do in this tutorial.\n",
    "\n",
    "The preprocessed Anndata consists of log-normalized single cell RNAseq counts of 2638 cells for 1838 genes."
   ]
  },
  {
   "cell_type": "markdown",
   "metadata": {},
   "source": [
    "## Import packages and setup\n",
    "\n",
    "To run the notebook locally, create a conda environment using this [yaml file](../requirements_dev.yaml):\n",
    "\n",
    "    conda create -f environment.yaml\n",
    "\n",
    "Then add the conda environment as ipython kernel:\n",
    "\n",
    "    python -m ipykernel install --user --name spapros --display-name Python (spapros)\n",
    "\n"
   ]
  },
  {
   "cell_type": "code",
   "execution_count": 2,
   "metadata": {
    "pycharm": {
     "is_executing": true,
     "name": "#%%\n"
    }
   },
   "outputs": [],
   "source": [
    "import spapros\n",
    "from spapros import se, pl\n",
    "import scanpy as sc"
   ]
  },
  {
   "cell_type": "code",
   "execution_count": 3,
   "metadata": {
    "pycharm": {
     "name": "#%%\n"
    }
   },
   "outputs": [
    {
     "name": "stdout",
     "output_type": "stream",
     "text": [
      "scanpy==1.8.2 anndata==0.8.0 umap==0.5.2 numpy==1.21.6 scipy==1.7.3 pandas==1.4.2 scikit-learn==1.0.2 statsmodels==0.13.2 python-igraph==0.9.9 pynndescent==0.5.6\n",
      "spapros==0.1.0\n"
     ]
    }
   ],
   "source": [
    "sc.settings.verbosity = 0\n",
    "sc.logging.print_header()\n",
    "print(f\"spapros=={spapros.__version__}\")"
   ]
  },
  {
   "cell_type": "markdown",
   "metadata": {},
   "source": [
    "## Preprocess data\n",
    "\n",
    "The spapros pipeline reaches the best results, if the data is logarithmized and normalized.\n",
    "We are using these preprocessing steps from the [scanpy pipeline](https://scanpy-tutorials.readthedocs.io/en/latest/pbmc3k.html) but only save the highly variable genes and the size factors to keep the adata clean."
   ]
  },
  {
   "cell_type": "code",
   "execution_count": 4,
   "metadata": {
    "pycharm": {
     "name": "#%%\n"
    },
    "scrolled": false
   },
   "outputs": [
    {
     "data": {
      "text/plain": [
       "AnnData object with n_obs × n_vars = 2638 × 1838\n",
       "    obs: 'size_factors', 'celltype'\n",
       "    var: 'gene_ids', 'highly_variable', 'means', 'dispersions', 'dispersions_norm'\n",
       "    uns: 'hvg', 'log1p'"
      ]
     },
     "execution_count": 4,
     "metadata": {},
     "output_type": "execute_result"
    }
   ],
   "source": [
    "adata = sc.datasets.pbmc3k()\n",
    "adata_tmp = sc.datasets.pbmc3k_processed()\n",
    "adata = adata[adata_tmp.obs_names,adata_tmp.var_names]\n",
    "adata_raw = adata.copy()\n",
    "sc.pp.normalize_total(adata,target_sum=1e4,key_added=\"size_factors\")\n",
    "sc.pp.highly_variable_genes(adata,flavor=\"cell_ranger\",n_top_genes=1000)\n",
    "adata.X = adata_raw.X\n",
    "sc.pp.log1p(adata)\n",
    "adata.obs['celltype'] = adata_tmp.obs['louvain']\n",
    "adata"
   ]
  },
  {
   "cell_type": "markdown",
   "metadata": {},
   "source": [
    "## Start the selection\n"
   ]
  },
  {
   "cell_type": "code",
   "execution_count": 5,
   "metadata": {},
   "outputs": [
    {
     "name": "stdout",
     "output_type": "stream",
     "text": [
      "The following celltypes' test set sizes for forest training are below min_test_n (=20):\n",
      "\t Dendritic cells : 9\n",
      "\t Megakaryocytes  : 3\n"
     ]
    }
   ],
   "source": [
    "# create an instance of the ProbesetSelector class\n",
    "selector = se.ProbesetSelector(adata, n=20, celltype_key=\"celltype\", verbosity=1, save_dir=None)"
   ]
  },
  {
   "cell_type": "code",
   "execution_count": 6,
   "metadata": {
    "scrolled": false
   },
   "outputs": [
    {
     "data": {
      "application/vnd.jupyter.widget-view+json": {
       "model_id": "4284f3c36ded403891545a3eea25a517",
       "version_major": 2,
       "version_minor": 0
      },
      "text/plain": [
       "Output()"
      ]
     },
     "metadata": {},
     "output_type": "display_data"
    },
    {
     "data": {
      "text/html": [
       "<pre style=\"white-space:pre;overflow-x:auto;line-height:normal;font-family:Menlo,'DejaVu Sans Mono',consolas,'Courier New',monospace\"></pre>\n"
      ],
      "text/plain": []
     },
     "metadata": {},
     "output_type": "display_data"
    },
    {
     "data": {
      "text/html": [
       "<pre style=\"white-space:pre;overflow-x:auto;line-height:normal;font-family:Menlo,'DejaVu Sans Mono',consolas,'Courier New',monospace\">\n",
       "</pre>\n"
      ],
      "text/plain": [
       "\n"
      ]
     },
     "metadata": {},
     "output_type": "display_data"
    }
   ],
   "source": [
    "# invoke the central method\n",
    "selector.select_probeset()\n"
   ]
  },
  {
   "cell_type": "markdown",
   "metadata": {},
   "source": [
    "The selected probeset can be examined like this:"
   ]
  },
  {
   "cell_type": "code",
   "execution_count": 7,
   "metadata": {
    "scrolled": false
   },
   "outputs": [
    {
     "data": {
      "text/html": [
       "<div>\n",
       "<style scoped>\n",
       "    .dataframe tbody tr th:only-of-type {\n",
       "        vertical-align: middle;\n",
       "    }\n",
       "\n",
       "    .dataframe tbody tr th {\n",
       "        vertical-align: top;\n",
       "    }\n",
       "\n",
       "    .dataframe thead th {\n",
       "        text-align: right;\n",
       "    }\n",
       "</style>\n",
       "<table border=\"1\" class=\"dataframe\">\n",
       "  <thead>\n",
       "    <tr style=\"text-align: right;\">\n",
       "      <th></th>\n",
       "      <th>gene_nr</th>\n",
       "      <th>selection</th>\n",
       "      <th>rank</th>\n",
       "      <th>marker_rank</th>\n",
       "      <th>tree_rank</th>\n",
       "      <th>importance_score</th>\n",
       "      <th>pca_score</th>\n",
       "      <th>pre_selected</th>\n",
       "      <th>prior_selected</th>\n",
       "      <th>pca_selected</th>\n",
       "      <th>celltypes_DE_1vsall</th>\n",
       "      <th>celltypes_DE_specific</th>\n",
       "      <th>celltypes_DE</th>\n",
       "      <th>celltypes_marker</th>\n",
       "      <th>list_only_ct_marker</th>\n",
       "      <th>required_marker</th>\n",
       "      <th>required_list_marker</th>\n",
       "    </tr>\n",
       "  </thead>\n",
       "  <tbody>\n",
       "    <tr>\n",
       "      <th>PPBP</th>\n",
       "      <td>1</td>\n",
       "      <td>True</td>\n",
       "      <td>1.0</td>\n",
       "      <td>1.0</td>\n",
       "      <td>1.0</td>\n",
       "      <td>1.000000</td>\n",
       "      <td>1.182710</td>\n",
       "      <td>False</td>\n",
       "      <td>False</td>\n",
       "      <td>True</td>\n",
       "      <td>Megakaryocytes</td>\n",
       "      <td></td>\n",
       "      <td>Megakaryocytes</td>\n",
       "      <td>Megakaryocytes</td>\n",
       "      <td>False</td>\n",
       "      <td>True</td>\n",
       "      <td>False</td>\n",
       "    </tr>\n",
       "    <tr>\n",
       "      <th>LST1</th>\n",
       "      <td>2</td>\n",
       "      <td>True</td>\n",
       "      <td>1.0</td>\n",
       "      <td>1.0</td>\n",
       "      <td>1.0</td>\n",
       "      <td>0.749666</td>\n",
       "      <td>1.574997</td>\n",
       "      <td>False</td>\n",
       "      <td>False</td>\n",
       "      <td>True</td>\n",
       "      <td>FCGR3A+ Monocytes</td>\n",
       "      <td></td>\n",
       "      <td>FCGR3A+ Monocytes</td>\n",
       "      <td>FCGR3A+ Monocytes</td>\n",
       "      <td>False</td>\n",
       "      <td>True</td>\n",
       "      <td>False</td>\n",
       "    </tr>\n",
       "    <tr>\n",
       "      <th>HLA-DQA1</th>\n",
       "      <td>3</td>\n",
       "      <td>True</td>\n",
       "      <td>1.0</td>\n",
       "      <td>1.0</td>\n",
       "      <td>1.0</td>\n",
       "      <td>0.608147</td>\n",
       "      <td>1.034986</td>\n",
       "      <td>False</td>\n",
       "      <td>False</td>\n",
       "      <td>True</td>\n",
       "      <td>B cells</td>\n",
       "      <td></td>\n",
       "      <td>B cells</td>\n",
       "      <td>B cells</td>\n",
       "      <td>False</td>\n",
       "      <td>True</td>\n",
       "      <td>False</td>\n",
       "    </tr>\n",
       "    <tr>\n",
       "      <th>GZMB</th>\n",
       "      <td>4</td>\n",
       "      <td>True</td>\n",
       "      <td>1.0</td>\n",
       "      <td>1.0</td>\n",
       "      <td>1.0</td>\n",
       "      <td>0.527486</td>\n",
       "      <td>1.317827</td>\n",
       "      <td>False</td>\n",
       "      <td>False</td>\n",
       "      <td>True</td>\n",
       "      <td>NK cells</td>\n",
       "      <td></td>\n",
       "      <td>NK cells</td>\n",
       "      <td>NK cells</td>\n",
       "      <td>False</td>\n",
       "      <td>True</td>\n",
       "      <td>False</td>\n",
       "    </tr>\n",
       "    <tr>\n",
       "      <th>HLA-DRB1</th>\n",
       "      <td>5</td>\n",
       "      <td>True</td>\n",
       "      <td>1.0</td>\n",
       "      <td>1.0</td>\n",
       "      <td>1.0</td>\n",
       "      <td>0.432876</td>\n",
       "      <td>1.365428</td>\n",
       "      <td>False</td>\n",
       "      <td>False</td>\n",
       "      <td>True</td>\n",
       "      <td>Dendritic cells</td>\n",
       "      <td></td>\n",
       "      <td>Dendritic cells</td>\n",
       "      <td>Dendritic cells</td>\n",
       "      <td>False</td>\n",
       "      <td>True</td>\n",
       "      <td>False</td>\n",
       "    </tr>\n",
       "    <tr>\n",
       "      <th>...</th>\n",
       "      <td>...</td>\n",
       "      <td>...</td>\n",
       "      <td>...</td>\n",
       "      <td>...</td>\n",
       "      <td>...</td>\n",
       "      <td>...</td>\n",
       "      <td>...</td>\n",
       "      <td>...</td>\n",
       "      <td>...</td>\n",
       "      <td>...</td>\n",
       "      <td>...</td>\n",
       "      <td>...</td>\n",
       "      <td>...</td>\n",
       "      <td>...</td>\n",
       "      <td>...</td>\n",
       "      <td>...</td>\n",
       "      <td>...</td>\n",
       "    </tr>\n",
       "    <tr>\n",
       "      <th>RP11-178G16.4</th>\n",
       "      <td>996</td>\n",
       "      <td>False</td>\n",
       "      <td>NaN</td>\n",
       "      <td>NaN</td>\n",
       "      <td>NaN</td>\n",
       "      <td>NaN</td>\n",
       "      <td>0.011824</td>\n",
       "      <td>False</td>\n",
       "      <td>False</td>\n",
       "      <td>False</td>\n",
       "      <td></td>\n",
       "      <td></td>\n",
       "      <td></td>\n",
       "      <td></td>\n",
       "      <td>False</td>\n",
       "      <td>False</td>\n",
       "      <td>False</td>\n",
       "    </tr>\n",
       "    <tr>\n",
       "      <th>RP11-324I22.4</th>\n",
       "      <td>997</td>\n",
       "      <td>False</td>\n",
       "      <td>NaN</td>\n",
       "      <td>NaN</td>\n",
       "      <td>NaN</td>\n",
       "      <td>NaN</td>\n",
       "      <td>0.011760</td>\n",
       "      <td>False</td>\n",
       "      <td>False</td>\n",
       "      <td>False</td>\n",
       "      <td></td>\n",
       "      <td></td>\n",
       "      <td></td>\n",
       "      <td></td>\n",
       "      <td>False</td>\n",
       "      <td>False</td>\n",
       "      <td>False</td>\n",
       "    </tr>\n",
       "    <tr>\n",
       "      <th>SYP</th>\n",
       "      <td>998</td>\n",
       "      <td>False</td>\n",
       "      <td>NaN</td>\n",
       "      <td>NaN</td>\n",
       "      <td>NaN</td>\n",
       "      <td>NaN</td>\n",
       "      <td>0.011548</td>\n",
       "      <td>False</td>\n",
       "      <td>False</td>\n",
       "      <td>False</td>\n",
       "      <td></td>\n",
       "      <td></td>\n",
       "      <td></td>\n",
       "      <td></td>\n",
       "      <td>False</td>\n",
       "      <td>False</td>\n",
       "      <td>False</td>\n",
       "    </tr>\n",
       "    <tr>\n",
       "      <th>RP11-252A24.3</th>\n",
       "      <td>999</td>\n",
       "      <td>False</td>\n",
       "      <td>NaN</td>\n",
       "      <td>NaN</td>\n",
       "      <td>NaN</td>\n",
       "      <td>NaN</td>\n",
       "      <td>0.010570</td>\n",
       "      <td>False</td>\n",
       "      <td>False</td>\n",
       "      <td>False</td>\n",
       "      <td></td>\n",
       "      <td></td>\n",
       "      <td></td>\n",
       "      <td></td>\n",
       "      <td>False</td>\n",
       "      <td>False</td>\n",
       "      <td>False</td>\n",
       "    </tr>\n",
       "    <tr>\n",
       "      <th>TACR2</th>\n",
       "      <td>1000</td>\n",
       "      <td>False</td>\n",
       "      <td>NaN</td>\n",
       "      <td>NaN</td>\n",
       "      <td>NaN</td>\n",
       "      <td>NaN</td>\n",
       "      <td>0.008601</td>\n",
       "      <td>False</td>\n",
       "      <td>False</td>\n",
       "      <td>False</td>\n",
       "      <td></td>\n",
       "      <td></td>\n",
       "      <td></td>\n",
       "      <td></td>\n",
       "      <td>False</td>\n",
       "      <td>False</td>\n",
       "      <td>False</td>\n",
       "    </tr>\n",
       "  </tbody>\n",
       "</table>\n",
       "<p>1000 rows × 17 columns</p>\n",
       "</div>"
      ],
      "text/plain": [
       "               gene_nr  selection  rank  marker_rank  tree_rank  \\\n",
       "PPBP                 1       True   1.0          1.0        1.0   \n",
       "LST1                 2       True   1.0          1.0        1.0   \n",
       "HLA-DQA1             3       True   1.0          1.0        1.0   \n",
       "GZMB                 4       True   1.0          1.0        1.0   \n",
       "HLA-DRB1             5       True   1.0          1.0        1.0   \n",
       "...                ...        ...   ...          ...        ...   \n",
       "RP11-178G16.4      996      False   NaN          NaN        NaN   \n",
       "RP11-324I22.4      997      False   NaN          NaN        NaN   \n",
       "SYP                998      False   NaN          NaN        NaN   \n",
       "RP11-252A24.3      999      False   NaN          NaN        NaN   \n",
       "TACR2             1000      False   NaN          NaN        NaN   \n",
       "\n",
       "               importance_score  pca_score  pre_selected  prior_selected  \\\n",
       "PPBP                   1.000000   1.182710         False           False   \n",
       "LST1                   0.749666   1.574997         False           False   \n",
       "HLA-DQA1               0.608147   1.034986         False           False   \n",
       "GZMB                   0.527486   1.317827         False           False   \n",
       "HLA-DRB1               0.432876   1.365428         False           False   \n",
       "...                         ...        ...           ...             ...   \n",
       "RP11-178G16.4               NaN   0.011824         False           False   \n",
       "RP11-324I22.4               NaN   0.011760         False           False   \n",
       "SYP                         NaN   0.011548         False           False   \n",
       "RP11-252A24.3               NaN   0.010570         False           False   \n",
       "TACR2                       NaN   0.008601         False           False   \n",
       "\n",
       "               pca_selected celltypes_DE_1vsall celltypes_DE_specific  \\\n",
       "PPBP                   True      Megakaryocytes                         \n",
       "LST1                   True   FCGR3A+ Monocytes                         \n",
       "HLA-DQA1               True             B cells                         \n",
       "GZMB                   True            NK cells                         \n",
       "HLA-DRB1               True     Dendritic cells                         \n",
       "...                     ...                 ...                   ...   \n",
       "RP11-178G16.4         False                                             \n",
       "RP11-324I22.4         False                                             \n",
       "SYP                   False                                             \n",
       "RP11-252A24.3         False                                             \n",
       "TACR2                 False                                             \n",
       "\n",
       "                    celltypes_DE   celltypes_marker  list_only_ct_marker  \\\n",
       "PPBP              Megakaryocytes     Megakaryocytes                False   \n",
       "LST1           FCGR3A+ Monocytes  FCGR3A+ Monocytes                False   \n",
       "HLA-DQA1                 B cells            B cells                False   \n",
       "GZMB                    NK cells           NK cells                False   \n",
       "HLA-DRB1         Dendritic cells    Dendritic cells                False   \n",
       "...                          ...                ...                  ...   \n",
       "RP11-178G16.4                                                      False   \n",
       "RP11-324I22.4                                                      False   \n",
       "SYP                                                                False   \n",
       "RP11-252A24.3                                                      False   \n",
       "TACR2                                                              False   \n",
       "\n",
       "               required_marker  required_list_marker  \n",
       "PPBP                      True                 False  \n",
       "LST1                      True                 False  \n",
       "HLA-DQA1                  True                 False  \n",
       "GZMB                      True                 False  \n",
       "HLA-DRB1                  True                 False  \n",
       "...                        ...                   ...  \n",
       "RP11-178G16.4            False                 False  \n",
       "RP11-324I22.4            False                 False  \n",
       "SYP                      False                 False  \n",
       "RP11-252A24.3            False                 False  \n",
       "TACR2                    False                 False  \n",
       "\n",
       "[1000 rows x 17 columns]"
      ]
     },
     "execution_count": 7,
     "metadata": {},
     "output_type": "execute_result"
    }
   ],
   "source": [
    "selector.probeset"
   ]
  },
  {
   "cell_type": "code",
   "execution_count": 8,
   "metadata": {},
   "outputs": [
    {
     "data": {
      "text/plain": [
       "Index(['PPBP', 'LST1', 'HLA-DQA1', 'GZMB', 'HLA-DRB1', 'NKG7', 'S100A8',\n",
       "       'IL32', 'CD79A', 'CCL5', 'HLA-DPB1', 'TYROBP', 'AIF1', 'LTB', 'GNLY',\n",
       "       'FCER1A', 'LGALS2', 'FCN1', 'CST3', 'CST7'],\n",
       "      dtype='object')"
      ]
     },
     "execution_count": 8,
     "metadata": {},
     "output_type": "execute_result"
    }
   ],
   "source": [
    "# list of the selected genes:\n",
    "selector.probeset.index[selector.probeset.selection]"
   ]
  },
  {
   "cell_type": "markdown",
   "metadata": {},
   "source": [
    "## Vizualize the results"
   ]
  },
  {
   "cell_type": "code",
   "execution_count": 9,
   "metadata": {
    "scrolled": false,
    "tags": [
     "nbsphinx-thumbnail"
    ]
   },
   "outputs": [
    {
     "data": {
      "image/png": "[encoded data removed]",
      "text/plain": [
       "<Figure size 626.4x279.36 with 7 Axes>"
      ]
     },
     "metadata": {
      "needs_background": "light"
     },
     "output_type": "display_data"
    }
   ],
   "source": [
    "pl.masked_dotplot(adata, selector)"
   ]
  },
  {
   "cell_type": "code",
   "execution_count": 10,
   "metadata": {
    "scrolled": true
   },
   "outputs": [
    {
     "ename": "AttributeError",
     "evalue": "'NoneType' object has no attribute 'values'",
     "output_type": "error",
     "traceback": [
      "\u001b[0;31m---------------------------------------------------------------------------\u001b[0m",
      "\u001b[0;31mAttributeError\u001b[0m                            Traceback (most recent call last)",
      "\u001b[0;32m<ipython-input-10-7de829ff0bc6>\u001b[0m in \u001b[0;36m<module>\u001b[0;34m\u001b[0m\n\u001b[0;32m----> 1\u001b[0;31m \u001b[0mselector\u001b[0m\u001b[0;34m.\u001b[0m\u001b[0mplot_gene_overlap\u001b[0m\u001b[0;34m(\u001b[0m\u001b[0;34m)\u001b[0m\u001b[0;34m\u001b[0m\u001b[0;34m\u001b[0m\u001b[0m\n\u001b[0m",
      "\u001b[0;32m/big/st/strasserl/spapros/spapros/selection/selection_procedure.py\u001b[0m in \u001b[0;36mplot_gene_overlap\u001b[0;34m(self, origins, **kwargs)\u001b[0m\n\u001b[1;32m   1356\u001b[0m                 \u001b[0mselection_df\u001b[0m\u001b[0;34m[\u001b[0m\u001b[0mkey\u001b[0m\u001b[0;34m]\u001b[0m \u001b[0;34m=\u001b[0m \u001b[0mself\u001b[0m\u001b[0;34m.\u001b[0m\u001b[0mprobeset\u001b[0m\u001b[0;34m[\u001b[0m\u001b[0mORIGIN_TO_PROBESET_COLNAME\u001b[0m\u001b[0;34m[\u001b[0m\u001b[0mkey\u001b[0m\u001b[0;34m]\u001b[0m\u001b[0;34m]\u001b[0m\u001b[0;34m.\u001b[0m\u001b[0mastype\u001b[0m\u001b[0;34m(\u001b[0m\u001b[0;34m\"bool\"\u001b[0m\u001b[0;34m)\u001b[0m\u001b[0;34m\u001b[0m\u001b[0;34m\u001b[0m\u001b[0m\n\u001b[1;32m   1357\u001b[0m             \u001b[0;32melif\u001b[0m \u001b[0mkey\u001b[0m \u001b[0;34m==\u001b[0m \u001b[0;34m\"marker_list\"\u001b[0m\u001b[0;34m:\u001b[0m\u001b[0;34m\u001b[0m\u001b[0;34m\u001b[0m\u001b[0m\n\u001b[0;32m-> 1358\u001b[0;31m                 \u001b[0mmarker_list\u001b[0m \u001b[0;34m=\u001b[0m \u001b[0;34m[\u001b[0m\u001b[0mx\u001b[0m \u001b[0;32mfor\u001b[0m \u001b[0my\u001b[0m \u001b[0;32min\u001b[0m \u001b[0mself\u001b[0m\u001b[0;34m.\u001b[0m\u001b[0mmarker_list\u001b[0m\u001b[0;34m.\u001b[0m\u001b[0mvalues\u001b[0m\u001b[0;34m(\u001b[0m\u001b[0;34m)\u001b[0m \u001b[0;32mfor\u001b[0m \u001b[0mx\u001b[0m \u001b[0;32min\u001b[0m \u001b[0my\u001b[0m\u001b[0;34m]\u001b[0m\u001b[0;34m\u001b[0m\u001b[0;34m\u001b[0m\u001b[0m\n\u001b[0m\u001b[1;32m   1359\u001b[0m                 \u001b[0mmask\u001b[0m \u001b[0;34m=\u001b[0m \u001b[0mself\u001b[0m\u001b[0;34m.\u001b[0m\u001b[0mprobeset\u001b[0m\u001b[0;34m.\u001b[0m\u001b[0mindex\u001b[0m\u001b[0;34m.\u001b[0m\u001b[0misin\u001b[0m\u001b[0;34m(\u001b[0m\u001b[0mmarker_list\u001b[0m\u001b[0;34m)\u001b[0m\u001b[0;34m\u001b[0m\u001b[0;34m\u001b[0m\u001b[0m\n\u001b[1;32m   1360\u001b[0m                 \u001b[0mselection_df\u001b[0m\u001b[0;34m[\u001b[0m\u001b[0;34m\"marker_list\"\u001b[0m\u001b[0;34m]\u001b[0m \u001b[0;34m=\u001b[0m \u001b[0;32mFalse\u001b[0m\u001b[0;34m\u001b[0m\u001b[0;34m\u001b[0m\u001b[0m\n",
      "\u001b[0;31mAttributeError\u001b[0m: 'NoneType' object has no attribute 'values'"
     ]
    }
   ],
   "source": [
    "selector.plot_gene_overlap()"
   ]
  },
  {
   "cell_type": "markdown",
   "metadata": {},
   "source": [
    "## What's next?\n",
    "\n",
    "Now you should evaluate the selected probeset. See our [basic evaluation tutoral](https://spapros.readthedocs.io/en/latest/tutorials/spapros_tutorial_basic_evaluation.html).\n",
    "\n",
    "If you want to customize and improve the probeset selection, have a look at the [advanced selection tutorial](https://spapros.readthedocs.io/en/latest/tutorials/spapros_tutorial_advanced_selection.html)."
   ]
  }
 ],
 "metadata": {
  "celltoolbar": "Edit Metadata",
  "kernelspec": {
   "display_name": "Python (spapros)",
   "language": "python",
   "name": "spapros"
  },
  "language_info": {
   "codemirror_mode": {
    "name": "ipython",
    "version": 3
   },
   "file_extension": ".py",
   "mimetype": "text/x-python",
   "name": "python",
   "nbconvert_exporter": "python",
   "pygments_lexer": "ipython3",
   "version": "3.8.12"
  },
  "latex_envs": {
   "LaTeX_envs_menu_present": true,
   "autoclose": false,
   "autocomplete": true,
   "bibliofile": "biblio.bib",
   "cite_by": "apalike",
   "current_citInitial": 1,
   "eqLabelWithNumbers": true,
   "eqNumInitial": 1,
   "hotkeys": {
    "equation": "Ctrl-E",
    "itemize": "Ctrl-I"
   },
   "labels_anchors": false,
   "latex_user_defs": false,
   "report_style_numbering": false,
   "user_envs_cfg": false
  },
  "pycharm": {
   "stem_cell": {
    "cell_type": "raw",
    "metadata": {
     "collapsed": false
    },
    "source": [
     "%matplotlib inline\n"
    ]
   }
  },
  "widgets": {
   "application/vnd.jupyter.widget-state+json": {
    "state": {
     "02393dfba5ab4f1cabd8bb6744f02214": {
      "model_module": "@jupyter-widgets/controls",
      "model_module_version": "1.5.0",
      "model_name": "DescriptionStyleModel",
      "state": {
       "description_width": ""
      }
     },
     "211e831c42474aa5b57918a706a869fd": {
      "model_module": "@jupyter-widgets/base",
      "model_module_version": "1.2.0",
      "model_name": "LayoutModel",
      "state": {}
     },
     "2ab055d6db5c4930b6e9abf236d0bfdb": {
      "model_module": "@jupyter-widgets/base",
      "model_module_version": "1.2.0",
      "model_name": "LayoutModel",
      "state": {}
     },
     "2b7002d82fb944678e291b270e256c6c": {
      "model_module": "@jupyter-widgets/output",
      "model_module_version": "1.0.0",
      "model_name": "OutputModel",
      "state": {
       "layout": "IPY_MODEL_3e42c611c37e40c4bc1ad6f44dd8a96d",
       "outputs": [
        {
         "data": {
          "text/html": "<pre style=\"white-space:pre;overflow-x:auto;line-height:normal;font-family:Menlo,'DejaVu Sans Mono',consolas,'Courier New',monospace\"><span style=\"color: #000000; text-decoration-color: #000000; font-weight: bold\">SPAPROS PROBESET SELECTION:                                                                 </span> \n<span style=\"color: #000080; text-decoration-color: #000080; font-weight: bold\">Select pca genes..........................................</span> <span style=\"color: #729c1f; text-decoration-color: #729c1f\">━━━━━━━━━━━━━━━━━━━━</span>  <span style=\"color: #800080; text-decoration-color: #800080\">100%</span> <span style=\"color: #808000; text-decoration-color: #808000\">0:00:00</span>\n<span style=\"color: #000080; text-decoration-color: #000080; font-weight: bold\">Train baseline forest based on DE genes...................</span> <span style=\"color: #729c1f; text-decoration-color: #729c1f\">━━━━━━━━━━━━━━━━━━━━</span>  <span style=\"color: #800080; text-decoration-color: #800080\"> 4/4</span> <span style=\"color: #808000; text-decoration-color: #808000\">0:01:59</span>\n  <span style=\"color: #7fbfbf; text-decoration-color: #7fbfbf; font-weight: bold\">Select DE genes.........................................</span> <span style=\"color: #729c1f; text-decoration-color: #729c1f\">━━━━━━━━━━━━━━━━━━━━</span>  <span style=\"color: #800080; text-decoration-color: #800080\"> 8/8</span> <span style=\"color: #808000; text-decoration-color: #808000\">0:00:00</span>\n  <span style=\"color: #7fbfbf; text-decoration-color: #7fbfbf; font-weight: bold\">Train prior forest for DE_baseline forest...............</span> <span style=\"color: #729c1f; text-decoration-color: #729c1f\">━━━━━━━━━━━━━━━━━━━━</span>  <span style=\"color: #800080; text-decoration-color: #800080\"> 3/3</span> <span style=\"color: #808000; text-decoration-color: #808000\">0:00:20</span>\n  <span style=\"color: #7fbfbf; text-decoration-color: #7fbfbf; font-weight: bold\">Iteratively add DE genes to DE_baseline forest..........</span> <span style=\"color: #729c1f; text-decoration-color: #729c1f\">━━━━━━━━━━━━━━━━━━━━</span>  <span style=\"color: #800080; text-decoration-color: #800080\"> 3/3</span> <span style=\"color: #808000; text-decoration-color: #808000\">0:01:04</span>\n  <span style=\"color: #7fbfbf; text-decoration-color: #7fbfbf; font-weight: bold\">Train final baseline trees on all celltypes.............</span> <span style=\"color: #729c1f; text-decoration-color: #729c1f\">━━━━━━━━━━━━━━━━━━━━</span>  <span style=\"color: #800080; text-decoration-color: #800080\"> 3/3</span> <span style=\"color: #808000; text-decoration-color: #808000\">0:00:33</span>\n<span style=\"color: #000080; text-decoration-color: #000080; font-weight: bold\">Train final forests.......................................</span> <span style=\"color: #729c1f; text-decoration-color: #729c1f\">━━━━━━━━━━━━━━━━━━━━</span>  <span style=\"color: #800080; text-decoration-color: #800080\"> 3/3</span> <span style=\"color: #808000; text-decoration-color: #808000\">0:00:36</span>\n  <span style=\"color: #7fbfbf; text-decoration-color: #7fbfbf; font-weight: bold\">Train forest on pre/prior/pca selected genes............</span> <span style=\"color: #729c1f; text-decoration-color: #729c1f\">━━━━━━━━━━━━━━━━━━━━</span>  <span style=\"color: #800080; text-decoration-color: #800080\"> 3/3</span> <span style=\"color: #808000; text-decoration-color: #808000\">0:00:36</span>\n  <span style=\"color: #7fbfbf; text-decoration-color: #7fbfbf; font-weight: bold\">Initial results are good enough. No genes are added.......................................</span> \n<span style=\"color: #000080; text-decoration-color: #000080; font-weight: bold\">Compile probeset list.....................................</span> <span style=\"color: #729c1f; text-decoration-color: #729c1f\">━━━━━━━━━━━━━━━━━━━━</span>  <span style=\"color: #800080; text-decoration-color: #800080\">100%</span> <span style=\"color: #808000; text-decoration-color: #808000\">0:00:00</span>\n<span style=\"color: #000000; text-decoration-color: #000000; font-weight: bold\">FINISHED</span>  \n          \n</pre>\n",
          "text/plain": "\u001b[1;30mSPAPROS PROBESET SELECTION:                                                                 \u001b[0m \n\u001b[1;34mSelect pca genes..........................................\u001b[0m \u001b[38;2;114;156;31m━━━━━━━━━━━━━━━━━━━━\u001b[0m  \u001b[35m100%\u001b[0m \u001b[33m0:00:00\u001b[0m\n\u001b[1;34mTrain baseline forest based on DE genes...................\u001b[0m \u001b[38;2;114;156;31m━━━━━━━━━━━━━━━━━━━━\u001b[0m  \u001b[35m 4/4\u001b[0m \u001b[33m0:01:59\u001b[0m\n  \u001b[1;2;36mSelect DE genes.........................................\u001b[0m \u001b[38;2;114;156;31m━━━━━━━━━━━━━━━━━━━━\u001b[0m  \u001b[35m 8/8\u001b[0m \u001b[33m0:00:00\u001b[0m\n  \u001b[1;2;36mTrain prior forest for DE_baseline forest...............\u001b[0m \u001b[38;2;114;156;31m━━━━━━━━━━━━━━━━━━━━\u001b[0m  \u001b[35m 3/3\u001b[0m \u001b[33m0:00:20\u001b[0m\n  \u001b[1;2;36mIteratively add DE genes to DE_baseline forest..........\u001b[0m \u001b[38;2;114;156;31m━━━━━━━━━━━━━━━━━━━━\u001b[0m  \u001b[35m 3/3\u001b[0m \u001b[33m0:01:04\u001b[0m\n  \u001b[1;2;36mTrain final baseline trees on all celltypes.............\u001b[0m \u001b[38;2;114;156;31m━━━━━━━━━━━━━━━━━━━━\u001b[0m  \u001b[35m 3/3\u001b[0m \u001b[33m0:00:33\u001b[0m\n\u001b[1;34mTrain final forests.......................................\u001b[0m \u001b[38;2;114;156;31m━━━━━━━━━━━━━━━━━━━━\u001b[0m  \u001b[35m 3/3\u001b[0m \u001b[33m0:00:36\u001b[0m\n  \u001b[1;2;36mTrain forest on pre/prior/pca selected genes............\u001b[0m \u001b[38;2;114;156;31m━━━━━━━━━━━━━━━━━━━━\u001b[0m  \u001b[35m 3/3\u001b[0m \u001b[33m0:00:36\u001b[0m\n  \u001b[1;2;36mInitial results are good enough. No genes are added.......................................\u001b[0m \n\u001b[1;34mCompile probeset list.....................................\u001b[0m \u001b[38;2;114;156;31m━━━━━━━━━━━━━━━━━━━━\u001b[0m  \u001b[35m100%\u001b[0m \u001b[33m0:00:00\u001b[0m\n\u001b[1;30mFINISHED\u001b[0m  \n          \n"
         },
         "metadata": {},
         "output_type": "display_data"
        }
       ]
      }
     },
     "34315b97b262443fab7e426057f2f510": {
      "model_module": "@jupyter-widgets/controls",
      "model_module_version": "1.5.0",
      "model_name": "ProgressStyleModel",
      "state": {
       "description_width": ""
      }
     },
     "34fce517e03d4e52ace44e570d5a71a1": {
      "model_module": "@jupyter-widgets/controls",
      "model_module_version": "1.5.0",
      "model_name": "HTMLModel",
      "state": {
       "layout": "IPY_MODEL_761116eeed6c40ff8005ce3321dd0ecf",
       "style": "IPY_MODEL_e2dbfd3cdab049e7aafe01b95e9009e4",
       "value": "100%"
      }
     },
     "38c3fbfcb250437486d8d26293374e5e": {
      "model_module": "@jupyter-widgets/controls",
      "model_module_version": "1.5.0",
      "model_name": "HBoxModel",
      "state": {
       "children": [
        "IPY_MODEL_85c1cfa3ea2e47d288b348f032f4c5c4",
        "IPY_MODEL_c3f5c0e630124189a05ab0ab81338dcc",
        "IPY_MODEL_56d9accd7ee94fd4876a010298adde9d"
       ],
       "layout": "IPY_MODEL_af9cb6ec7a0346ed9cedbf123b5cf3e1"
      }
     },
     "3e42c611c37e40c4bc1ad6f44dd8a96d": {
      "model_module": "@jupyter-widgets/base",
      "model_module_version": "1.2.0",
      "model_name": "LayoutModel",
      "state": {}
     },
     "429642e62d3c4db99884b2779a65ea52": {
      "model_module": "@jupyter-widgets/controls",
      "model_module_version": "1.5.0",
      "model_name": "DescriptionStyleModel",
      "state": {
       "description_width": ""
      }
     },
     "467e528b2fe64849939bdbb4803d8a23": {
      "model_module": "@jupyter-widgets/controls",
      "model_module_version": "1.5.0",
      "model_name": "ProgressStyleModel",
      "state": {
       "description_width": ""
      }
     },
     "49e2d4dd5908400dac197f0f7a9c4a85": {
      "model_module": "@jupyter-widgets/output",
      "model_module_version": "1.0.0",
      "model_name": "OutputModel",
      "state": {
       "layout": "IPY_MODEL_aacd2c6b6b984795bf04b39d6e17eb16",
       "outputs": [
        {
         "data": {
          "text/html": "<pre style=\"white-space:pre;overflow-x:auto;line-height:normal;font-family:Menlo,'DejaVu Sans Mono',consolas,'Courier New',monospace\"><span style=\"color: #000080; text-decoration-color: #000080; font-weight: bold\">Select pca genes..................................</span> <span style=\"color: #729c1f; text-decoration-color: #729c1f\">━━━━━━━━━━━━━━━━━━━━━━━━━━━━━</span> <span style=\"color: #800080; text-decoration-color: #800080\">100%</span> <span style=\"color: #808000; text-decoration-color: #808000\">0:00:00</span>\n<span style=\"color: #000080; text-decoration-color: #000080; font-weight: bold\">Train baseline forest based on DE genes...........</span> <span style=\"color: #729c1f; text-decoration-color: #729c1f\">━━━━━━━━━━━━━━━━━━━━━━━━━━━━━━</span> <span style=\"color: #800080; text-decoration-color: #800080\">3/3</span> <span style=\"color: #808000; text-decoration-color: #808000\">0:02:57</span>\n  <span style=\"color: #7fbfbf; text-decoration-color: #7fbfbf; font-weight: bold\">Select DE genes.................................</span> <span style=\"color: #729c1f; text-decoration-color: #729c1f\">━━━━━━━━━━━━━━━━━━━━━━━━━━━━━━</span> <span style=\"color: #800080; text-decoration-color: #800080\">8/8</span> <span style=\"color: #808000; text-decoration-color: #808000\">0:00:00</span>\n  <span style=\"color: #7fbfbf; text-decoration-color: #7fbfbf; font-weight: bold\">Train prior forest for DE_baseline forest.......</span> <span style=\"color: #729c1f; text-decoration-color: #729c1f\">━━━━━━━━━━━━━━━━━━━━━━━━━━━━━━</span> <span style=\"color: #800080; text-decoration-color: #800080\">3/3</span> <span style=\"color: #808000; text-decoration-color: #808000\">0:00:30</span>\n    <span style=\"color: #008000; text-decoration-color: #008000; font-weight: bold\">Train trees...................................</span> <span style=\"color: #729c1f; text-decoration-color: #729c1f\">━━━━━━━━━━━━━━━━━━━━━━━━━━━━</span> <span style=\"color: #800080; text-decoration-color: #800080\">50/50</span> <span style=\"color: #808000; text-decoration-color: #808000\">0:00:14</span>\n    <span style=\"color: #008000; text-decoration-color: #008000; font-weight: bold\">Train trees...................................</span> <span style=\"color: #729c1f; text-decoration-color: #729c1f\">━━━━━━━━━━━━━━━━━━━━━━━━━━━━</span> <span style=\"color: #800080; text-decoration-color: #800080\">50/50</span> <span style=\"color: #808000; text-decoration-color: #808000\">0:00:06</span>\n    <span style=\"color: #008000; text-decoration-color: #008000; font-weight: bold\">Train trees...................................</span> <span style=\"color: #729c1f; text-decoration-color: #729c1f\">━━━━━━━━━━━━━━━━━━━━━━━━━━━━</span> <span style=\"color: #800080; text-decoration-color: #800080\">50/50</span> <span style=\"color: #808000; text-decoration-color: #808000\">0:00:06</span>\n  <span style=\"color: #7fbfbf; text-decoration-color: #7fbfbf; font-weight: bold\">Iteratively add DE genes to DE_baseline forest...</span> <span style=\"color: #729c1f; text-decoration-color: #729c1f\">━━━━━━━━━━━━━━━━━━━━━━━━━━━━━</span> <span style=\"color: #800080; text-decoration-color: #800080\">3/3</span> <span style=\"color: #808000; text-decoration-color: #808000\">0:01:34</span>\n    <span style=\"color: #008000; text-decoration-color: #008000; font-weight: bold\">Select DE genes for celltypes with outliers...</span> <span style=\"color: #729c1f; text-decoration-color: #729c1f\">━━━━━━━━━━━━━━━━━━━━━━━━━━━━━━</span> <span style=\"color: #800080; text-decoration-color: #800080\">5/5</span> <span style=\"color: #808000; text-decoration-color: #808000\">0:00:00</span>\n      <span style=\"color: #008000; text-decoration-color: #008000\">Select DE genes for CD14+ Monocytes.........</span> <span style=\"color: #729c1f; text-decoration-color: #729c1f\">━━━━━━━━━━━━━━━━━━━━━━━━━━━━━</span> <span style=\"color: #800080; text-decoration-color: #800080\">100%</span> <span style=\"color: #808000; text-decoration-color: #808000\">0:00:00</span>\n      <span style=\"color: #008000; text-decoration-color: #008000\">Select DE genes for CD4 T cells.............</span> <span style=\"color: #729c1f; text-decoration-color: #729c1f\">━━━━━━━━━━━━━━━━━━━━━━━━━━━━━</span> <span style=\"color: #800080; text-decoration-color: #800080\">100%</span> <span style=\"color: #808000; text-decoration-color: #808000\">0:00:00</span>\n      <span style=\"color: #008000; text-decoration-color: #008000\">Select DE genes for CD8 T cells.............</span> <span style=\"color: #729c1f; text-decoration-color: #729c1f\">━━━━━━━━━━━━━━━━━━━━━━━━━━━━━</span> <span style=\"color: #800080; text-decoration-color: #800080\">100%</span> <span style=\"color: #808000; text-decoration-color: #808000\">0:00:00</span>\n      <span style=\"color: #008000; text-decoration-color: #008000\">Select DE genes for Dendritic cells.........</span> <span style=\"color: #729c1f; text-decoration-color: #729c1f\">━━━━━━━━━━━━━━━━━━━━━━━━━━━━━</span> <span style=\"color: #800080; text-decoration-color: #800080\">100%</span> <span style=\"color: #808000; text-decoration-color: #808000\">0:00:00</span>\n      <span style=\"color: #008000; text-decoration-color: #008000\">Select DE genes for FCGR3A+ Monocytes.......</span> <span style=\"color: #729c1f; text-decoration-color: #729c1f\">━━━━━━━━━━━━━━━━━━━━━━━━━━━━━</span> <span style=\"color: #800080; text-decoration-color: #800080\">100%</span> <span style=\"color: #808000; text-decoration-color: #808000\">0:00:00</span>\n    <span style=\"color: #008000; text-decoration-color: #008000; font-weight: bold\">Train trees with added DE genes...............</span> <span style=\"color: #729c1f; text-decoration-color: #729c1f\">━━━━━━━━━━━━━━━━━━━━━━━━━━━━━━</span> <span style=\"color: #800080; text-decoration-color: #800080\">3/3</span> <span style=\"color: #808000; text-decoration-color: #808000\">0:00:23</span>\n      <span style=\"color: #008000; text-decoration-color: #008000\">Train trees.................................</span> <span style=\"color: #729c1f; text-decoration-color: #729c1f\">━━━━━━━━━━━━━━━━━━━━━━━━━━━━</span> <span style=\"color: #800080; text-decoration-color: #800080\">50/50</span> <span style=\"color: #808000; text-decoration-color: #808000\">0:00:06</span>\n      <span style=\"color: #008000; text-decoration-color: #008000\">Train trees.................................</span> <span style=\"color: #729c1f; text-decoration-color: #729c1f\">━━━━━━━━━━━━━━━━━━━━━━━━━━━━</span> <span style=\"color: #800080; text-decoration-color: #800080\">50/50</span> <span style=\"color: #808000; text-decoration-color: #808000\">0:00:06</span>\n      <span style=\"color: #008000; text-decoration-color: #008000\">Train trees.................................</span> <span style=\"color: #729c1f; text-decoration-color: #729c1f\">━━━━━━━━━━━━━━━━━━━━━━━━━━━━</span> <span style=\"color: #800080; text-decoration-color: #800080\">50/50</span> <span style=\"color: #808000; text-decoration-color: #808000\">0:00:07</span>\n    <span style=\"color: #008000; text-decoration-color: #008000; font-weight: bold\">Select DE genes for celltypes with outliers...</span> <span style=\"color: #729c1f; text-decoration-color: #729c1f\">━━━━━━━━━━━━━━━━━━━━━━━━━━━━━━</span> <span style=\"color: #800080; text-decoration-color: #800080\">5/5</span> <span style=\"color: #808000; text-decoration-color: #808000\">0:00:00</span>\n      <span style=\"color: #008000; text-decoration-color: #008000\">Select DE genes for CD14+ Monocytes.........</span> <span style=\"color: #729c1f; text-decoration-color: #729c1f\">━━━━━━━━━━━━━━━━━━━━━━━━━━━━━</span> <span style=\"color: #800080; text-decoration-color: #800080\">100%</span> <span style=\"color: #808000; text-decoration-color: #808000\">0:00:00</span>\n      <span style=\"color: #008000; text-decoration-color: #008000\">Select DE genes for CD4 T cells.............</span> <span style=\"color: #729c1f; text-decoration-color: #729c1f\">━━━━━━━━━━━━━━━━━━━━━━━━━━━━━</span> <span style=\"color: #800080; text-decoration-color: #800080\">100%</span> <span style=\"color: #808000; text-decoration-color: #808000\">0:00:00</span>\n      <span style=\"color: #008000; text-decoration-color: #008000\">Select DE genes for CD8 T cells.............</span> <span style=\"color: #729c1f; text-decoration-color: #729c1f\">━━━━━━━━━━━━━━━━━━━━━━━━━━━━━</span> <span style=\"color: #800080; text-decoration-color: #800080\">100%</span> <span style=\"color: #808000; text-decoration-color: #808000\">0:00:00</span>\n      <span style=\"color: #008000; text-decoration-color: #008000\">Select DE genes for Dendritic cells.........</span> <span style=\"color: #729c1f; text-decoration-color: #729c1f\">━━━━━━━━━━━━━━━━━━━━━━━━━━━━━</span> <span style=\"color: #800080; text-decoration-color: #800080\">100%</span> <span style=\"color: #808000; text-decoration-color: #808000\">0:00:00</span>\n      <span style=\"color: #008000; text-decoration-color: #008000\">Select DE genes for FCGR3A+ Monocytes.......</span> <span style=\"color: #729c1f; text-decoration-color: #729c1f\">━━━━━━━━━━━━━━━━━━━━━━━━━━━━━</span> <span style=\"color: #800080; text-decoration-color: #800080\">100%</span> <span style=\"color: #808000; text-decoration-color: #808000\">0:00:00</span>\n    <span style=\"color: #008000; text-decoration-color: #008000; font-weight: bold\">Train trees with added DE genes...............</span> <span style=\"color: #729c1f; text-decoration-color: #729c1f\">━━━━━━━━━━━━━━━━━━━━━━━━━━━━━━</span> <span style=\"color: #800080; text-decoration-color: #800080\">3/3</span> <span style=\"color: #808000; text-decoration-color: #808000\">0:00:25</span>\n      <span style=\"color: #008000; text-decoration-color: #008000\">Train trees.................................</span> <span style=\"color: #729c1f; text-decoration-color: #729c1f\">━━━━━━━━━━━━━━━━━━━━━━━━━━━━</span> <span style=\"color: #800080; text-decoration-color: #800080\">50/50</span> <span style=\"color: #808000; text-decoration-color: #808000\">0:00:07</span>\n      <span style=\"color: #008000; text-decoration-color: #008000\">Train trees.................................</span> <span style=\"color: #729c1f; text-decoration-color: #729c1f\">━━━━━━━━━━━━━━━━━━━━━━━━━━━━</span> <span style=\"color: #800080; text-decoration-color: #800080\">50/50</span> <span style=\"color: #808000; text-decoration-color: #808000\">0:00:07</span>\n      <span style=\"color: #008000; text-decoration-color: #008000\">Train trees.................................</span> <span style=\"color: #729c1f; text-decoration-color: #729c1f\">━━━━━━━━━━━━━━━━━━━━━━━━━━━━</span> <span style=\"color: #800080; text-decoration-color: #800080\">50/50</span> <span style=\"color: #808000; text-decoration-color: #808000\">0:00:07</span>\n    <span style=\"color: #008000; text-decoration-color: #008000; font-weight: bold\">Select DE genes for celltypes with outliers...</span> <span style=\"color: #729c1f; text-decoration-color: #729c1f\">━━━━━━━━━━━━━━━━━━━━━━━━━━━━━━</span> <span style=\"color: #800080; text-decoration-color: #800080\">5/5</span> <span style=\"color: #808000; text-decoration-color: #808000\">0:00:00</span>\n      <span style=\"color: #008000; text-decoration-color: #008000\">Select DE genes for CD14+ Monocytes.........</span> <span style=\"color: #729c1f; text-decoration-color: #729c1f\">━━━━━━━━━━━━━━━━━━━━━━━━━━━━━</span> <span style=\"color: #800080; text-decoration-color: #800080\">100%</span> <span style=\"color: #808000; text-decoration-color: #808000\">0:00:00</span>\n      <span style=\"color: #008000; text-decoration-color: #008000\">Select DE genes for CD4 T cells.............</span> <span style=\"color: #729c1f; text-decoration-color: #729c1f\">━━━━━━━━━━━━━━━━━━━━━━━━━━━━━</span> <span style=\"color: #800080; text-decoration-color: #800080\">100%</span> <span style=\"color: #808000; text-decoration-color: #808000\">0:00:00</span>\n      <span style=\"color: #008000; text-decoration-color: #008000\">Select DE genes for CD8 T cells.............</span> <span style=\"color: #729c1f; text-decoration-color: #729c1f\">━━━━━━━━━━━━━━━━━━━━━━━━━━━━━</span> <span style=\"color: #800080; text-decoration-color: #800080\">100%</span> <span style=\"color: #808000; text-decoration-color: #808000\">0:00:00</span>\n      <span style=\"color: #008000; text-decoration-color: #008000\">Select DE genes for Dendritic cells.........</span> <span style=\"color: #729c1f; text-decoration-color: #729c1f\">━━━━━━━━━━━━━━━━━━━━━━━━━━━━━</span> <span style=\"color: #800080; text-decoration-color: #800080\">100%</span> <span style=\"color: #808000; text-decoration-color: #808000\">0:00:00</span>\n      <span style=\"color: #008000; text-decoration-color: #008000\">Select DE genes for FCGR3A+ Monocytes.......</span> <span style=\"color: #729c1f; text-decoration-color: #729c1f\">━━━━━━━━━━━━━━━━━━━━━━━━━━━━━</span> <span style=\"color: #800080; text-decoration-color: #800080\">100%</span> <span style=\"color: #808000; text-decoration-color: #808000\">0:00:00</span>\n    <span style=\"color: #008000; text-decoration-color: #008000; font-weight: bold\">Train trees with added DE genes...............</span> <span style=\"color: #729c1f; text-decoration-color: #729c1f\">━━━━━━━━━━━━━━━━━━━━━━━━━━━━━━</span> <span style=\"color: #800080; text-decoration-color: #800080\">3/3</span> <span style=\"color: #808000; text-decoration-color: #808000\">0:00:43</span>\n      <span style=\"color: #008000; text-decoration-color: #008000\">Train trees.................................</span> <span style=\"color: #729c1f; text-decoration-color: #729c1f\">━━━━━━━━━━━━━━━━━━━━━━━━━━━━</span> <span style=\"color: #800080; text-decoration-color: #800080\">50/50</span> <span style=\"color: #808000; text-decoration-color: #808000\">0:00:14</span>\n      <span style=\"color: #008000; text-decoration-color: #008000\">Train trees.................................</span> <span style=\"color: #729c1f; text-decoration-color: #729c1f\">━━━━━━━━━━━━━━━━━━━━━━━━━━━━</span> <span style=\"color: #800080; text-decoration-color: #800080\">50/50</span> <span style=\"color: #808000; text-decoration-color: #808000\">0:00:13</span>\n      <span style=\"color: #008000; text-decoration-color: #008000\">Train trees.................................</span> <span style=\"color: #729c1f; text-decoration-color: #729c1f\">━━━━━━━━━━━━━━━━━━━━━━━━━━━━</span> <span style=\"color: #800080; text-decoration-color: #800080\">50/50</span> <span style=\"color: #808000; text-decoration-color: #808000\">0:00:12</span>\n  <span style=\"color: #7fbfbf; text-decoration-color: #7fbfbf; font-weight: bold\">Train final baseline trees on all celltypes.....</span> <span style=\"color: #729c1f; text-decoration-color: #729c1f\">━━━━━━━━━━━━━━━━━━━━━━━━━━━━━━</span> <span style=\"color: #800080; text-decoration-color: #800080\">3/3</span> <span style=\"color: #808000; text-decoration-color: #808000\">0:00:52</span>\n    <span style=\"color: #008000; text-decoration-color: #008000; font-weight: bold\">Train trees...................................</span> <span style=\"color: #729c1f; text-decoration-color: #729c1f\">━━━━━━━━━━━━━━━━━━━━━━━━━━━━</span> <span style=\"color: #800080; text-decoration-color: #800080\">50/50</span> <span style=\"color: #808000; text-decoration-color: #808000\">0:00:18</span>\n    <span style=\"color: #008000; text-decoration-color: #008000; font-weight: bold\">Train trees...................................</span> <span style=\"color: #729c1f; text-decoration-color: #729c1f\">━━━━━━━━━━━━━━━━━━━━━━━━━━━━</span> <span style=\"color: #800080; text-decoration-color: #800080\">50/50</span> <span style=\"color: #808000; text-decoration-color: #808000\">0:00:15</span>\n    <span style=\"color: #008000; text-decoration-color: #008000; font-weight: bold\">Train trees...................................</span> <span style=\"color: #729c1f; text-decoration-color: #729c1f\">━━━━━━━━━━━━━━━━━━━━━━━━━━━━</span> <span style=\"color: #800080; text-decoration-color: #800080\">50/50</span> <span style=\"color: #808000; text-decoration-color: #808000\">0:00:14</span>\n<span style=\"color: #000080; text-decoration-color: #000080; font-weight: bold\">Train final forests...............................</span> <span style=\"color: #729c1f; text-decoration-color: #729c1f\">━━━━━━━━━━━━━━━━━━━━━━━━━━━━━━</span> <span style=\"color: #800080; text-decoration-color: #800080\">4/3</span> <span style=\"color: #808000; text-decoration-color: #808000\">0:00:51</span>\n  <span style=\"color: #7fbfbf; text-decoration-color: #7fbfbf; font-weight: bold\">Train forest on pre/prior/pca selected genes....</span> <span style=\"color: #729c1f; text-decoration-color: #729c1f\">━━━━━━━━━━━━━━━━━━━━━━━━━━━━━━</span> <span style=\"color: #800080; text-decoration-color: #800080\">3/3</span> <span style=\"color: #808000; text-decoration-color: #808000\">0:00:51</span>\n    <span style=\"color: #008000; text-decoration-color: #008000; font-weight: bold\">Train trees...................................</span> <span style=\"color: #729c1f; text-decoration-color: #729c1f\">━━━━━━━━━━━━━━━━━━━━━━━━━━━━</span> <span style=\"color: #800080; text-decoration-color: #800080\">50/50</span> <span style=\"color: #808000; text-decoration-color: #808000\">0:00:17</span>\n    <span style=\"color: #008000; text-decoration-color: #008000; font-weight: bold\">Train trees...................................</span> <span style=\"color: #729c1f; text-decoration-color: #729c1f\">━━━━━━━━━━━━━━━━━━━━━━━━━━━━</span> <span style=\"color: #800080; text-decoration-color: #800080\">50/50</span> <span style=\"color: #808000; text-decoration-color: #808000\">0:00:14</span>\n    <span style=\"color: #008000; text-decoration-color: #008000; font-weight: bold\">Train trees...................................</span> <span style=\"color: #729c1f; text-decoration-color: #729c1f\">━━━━━━━━━━━━━━━━━━━━━━━━━━━━</span> <span style=\"color: #800080; text-decoration-color: #800080\">50/50</span> <span style=\"color: #808000; text-decoration-color: #808000\">0:00:14</span>\n    <span style=\"color: #008000; text-decoration-color: #008000; font-weight: bold\">Initial results are good enough. No genes are added.....................................</span> \n<span style=\"color: #000080; text-decoration-color: #000080; font-weight: bold\">Compile probeset list.............................</span> <span style=\"color: #729c1f; text-decoration-color: #729c1f\">━━━━━━━━━━━━━━━━━━━━━━━━━━━━━</span> <span style=\"color: #800080; text-decoration-color: #800080\">100%</span> <span style=\"color: #808000; text-decoration-color: #808000\">0:00:00</span>\n</pre>\n",
          "text/plain": "\u001b[1;34mSelect pca genes..................................\u001b[0m \u001b[38;2;114;156;31m━━━━━━━━━━━━━━━━━━━━━━━━━━━━━\u001b[0m \u001b[35m100%\u001b[0m \u001b[33m0:00:00\u001b[0m\n\u001b[1;34mTrain baseline forest based on DE genes...........\u001b[0m \u001b[38;2;114;156;31m━━━━━━━━━━━━━━━━━━━━━━━━━━━━━━\u001b[0m \u001b[35m3/3\u001b[0m \u001b[33m0:02:57\u001b[0m\n  \u001b[1;2;36mSelect DE genes.................................\u001b[0m \u001b[38;2;114;156;31m━━━━━━━━━━━━━━━━━━━━━━━━━━━━━━\u001b[0m \u001b[35m8/8\u001b[0m \u001b[33m0:00:00\u001b[0m\n  \u001b[1;2;36mTrain prior forest for DE_baseline forest.......\u001b[0m \u001b[38;2;114;156;31m━━━━━━━━━━━━━━━━━━━━━━━━━━━━━━\u001b[0m \u001b[35m3/3\u001b[0m \u001b[33m0:00:30\u001b[0m\n    \u001b[1;32mTrain trees...................................\u001b[0m \u001b[38;2;114;156;31m━━━━━━━━━━━━━━━━━━━━━━━━━━━━\u001b[0m \u001b[35m50/50\u001b[0m \u001b[33m0:00:14\u001b[0m\n    \u001b[1;32mTrain trees...................................\u001b[0m \u001b[38;2;114;156;31m━━━━━━━━━━━━━━━━━━━━━━━━━━━━\u001b[0m \u001b[35m50/50\u001b[0m \u001b[33m0:00:06\u001b[0m\n    \u001b[1;32mTrain trees...................................\u001b[0m \u001b[38;2;114;156;31m━━━━━━━━━━━━━━━━━━━━━━━━━━━━\u001b[0m \u001b[35m50/50\u001b[0m \u001b[33m0:00:06\u001b[0m\n  \u001b[1;2;36mIteratively add DE genes to DE_baseline forest...\u001b[0m \u001b[38;2;114;156;31m━━━━━━━━━━━━━━━━━━━━━━━━━━━━━\u001b[0m \u001b[35m3/3\u001b[0m \u001b[33m0:01:34\u001b[0m\n    \u001b[1;32mSelect DE genes for celltypes with outliers...\u001b[0m \u001b[38;2;114;156;31m━━━━━━━━━━━━━━━━━━━━━━━━━━━━━━\u001b[0m \u001b[35m5/5\u001b[0m \u001b[33m0:00:00\u001b[0m\n      \u001b[32mSelect DE genes for CD14+ Monocytes.........\u001b[0m \u001b[38;2;114;156;31m━━━━━━━━━━━━━━━━━━━━━━━━━━━━━\u001b[0m \u001b[35m100%\u001b[0m \u001b[33m0:00:00\u001b[0m\n      \u001b[32mSelect DE genes for CD4 T cells.............\u001b[0m \u001b[38;2;114;156;31m━━━━━━━━━━━━━━━━━━━━━━━━━━━━━\u001b[0m \u001b[35m100%\u001b[0m \u001b[33m0:00:00\u001b[0m\n      \u001b[32mSelect DE genes for CD8 T cells.............\u001b[0m \u001b[38;2;114;156;31m━━━━━━━━━━━━━━━━━━━━━━━━━━━━━\u001b[0m \u001b[35m100%\u001b[0m \u001b[33m0:00:00\u001b[0m\n      \u001b[32mSelect DE genes for Dendritic cells.........\u001b[0m \u001b[38;2;114;156;31m━━━━━━━━━━━━━━━━━━━━━━━━━━━━━\u001b[0m \u001b[35m100%\u001b[0m \u001b[33m0:00:00\u001b[0m\n      \u001b[32mSelect DE genes for FCGR3A+ Monocytes.......\u001b[0m \u001b[38;2;114;156;31m━━━━━━━━━━━━━━━━━━━━━━━━━━━━━\u001b[0m \u001b[35m100%\u001b[0m \u001b[33m0:00:00\u001b[0m\n    \u001b[1;32mTrain trees with added DE genes...............\u001b[0m \u001b[38;2;114;156;31m━━━━━━━━━━━━━━━━━━━━━━━━━━━━━━\u001b[0m \u001b[35m3/3\u001b[0m \u001b[33m0:00:23\u001b[0m\n      \u001b[32mTrain trees.................................\u001b[0m \u001b[38;2;114;156;31m━━━━━━━━━━━━━━━━━━━━━━━━━━━━\u001b[0m \u001b[35m50/50\u001b[0m \u001b[33m0:00:06\u001b[0m\n      \u001b[32mTrain trees.................................\u001b[0m \u001b[38;2;114;156;31m━━━━━━━━━━━━━━━━━━━━━━━━━━━━\u001b[0m \u001b[35m50/50\u001b[0m \u001b[33m0:00:06\u001b[0m\n      \u001b[32mTrain trees.................................\u001b[0m \u001b[38;2;114;156;31m━━━━━━━━━━━━━━━━━━━━━━━━━━━━\u001b[0m \u001b[35m50/50\u001b[0m \u001b[33m0:00:07\u001b[0m\n    \u001b[1;32mSelect DE genes for celltypes with outliers...\u001b[0m \u001b[38;2;114;156;31m━━━━━━━━━━━━━━━━━━━━━━━━━━━━━━\u001b[0m \u001b[35m5/5\u001b[0m \u001b[33m0:00:00\u001b[0m\n      \u001b[32mSelect DE genes for CD14+ Monocytes.........\u001b[0m \u001b[38;2;114;156;31m━━━━━━━━━━━━━━━━━━━━━━━━━━━━━\u001b[0m \u001b[35m100%\u001b[0m \u001b[33m0:00:00\u001b[0m\n      \u001b[32mSelect DE genes for CD4 T cells.............\u001b[0m \u001b[38;2;114;156;31m━━━━━━━━━━━━━━━━━━━━━━━━━━━━━\u001b[0m \u001b[35m100%\u001b[0m \u001b[33m0:00:00\u001b[0m\n      \u001b[32mSelect DE genes for CD8 T cells.............\u001b[0m \u001b[38;2;114;156;31m━━━━━━━━━━━━━━━━━━━━━━━━━━━━━\u001b[0m \u001b[35m100%\u001b[0m \u001b[33m0:00:00\u001b[0m\n      \u001b[32mSelect DE genes for Dendritic cells.........\u001b[0m \u001b[38;2;114;156;31m━━━━━━━━━━━━━━━━━━━━━━━━━━━━━\u001b[0m \u001b[35m100%\u001b[0m \u001b[33m0:00:00\u001b[0m\n      \u001b[32mSelect DE genes for FCGR3A+ Monocytes.......\u001b[0m \u001b[38;2;114;156;31m━━━━━━━━━━━━━━━━━━━━━━━━━━━━━\u001b[0m \u001b[35m100%\u001b[0m \u001b[33m0:00:00\u001b[0m\n    \u001b[1;32mTrain trees with added DE genes...............\u001b[0m \u001b[38;2;114;156;31m━━━━━━━━━━━━━━━━━━━━━━━━━━━━━━\u001b[0m \u001b[35m3/3\u001b[0m \u001b[33m0:00:25\u001b[0m\n      \u001b[32mTrain trees.................................\u001b[0m \u001b[38;2;114;156;31m━━━━━━━━━━━━━━━━━━━━━━━━━━━━\u001b[0m \u001b[35m50/50\u001b[0m \u001b[33m0:00:07\u001b[0m\n      \u001b[32mTrain trees.................................\u001b[0m \u001b[38;2;114;156;31m━━━━━━━━━━━━━━━━━━━━━━━━━━━━\u001b[0m \u001b[35m50/50\u001b[0m \u001b[33m0:00:07\u001b[0m\n      \u001b[32mTrain trees.................................\u001b[0m \u001b[38;2;114;156;31m━━━━━━━━━━━━━━━━━━━━━━━━━━━━\u001b[0m \u001b[35m50/50\u001b[0m \u001b[33m0:00:07\u001b[0m\n    \u001b[1;32mSelect DE genes for celltypes with outliers...\u001b[0m \u001b[38;2;114;156;31m━━━━━━━━━━━━━━━━━━━━━━━━━━━━━━\u001b[0m \u001b[35m5/5\u001b[0m \u001b[33m0:00:00\u001b[0m\n      \u001b[32mSelect DE genes for CD14+ Monocytes.........\u001b[0m \u001b[38;2;114;156;31m━━━━━━━━━━━━━━━━━━━━━━━━━━━━━\u001b[0m \u001b[35m100%\u001b[0m \u001b[33m0:00:00\u001b[0m\n      \u001b[32mSelect DE genes for CD4 T cells.............\u001b[0m \u001b[38;2;114;156;31m━━━━━━━━━━━━━━━━━━━━━━━━━━━━━\u001b[0m \u001b[35m100%\u001b[0m \u001b[33m0:00:00\u001b[0m\n      \u001b[32mSelect DE genes for CD8 T cells.............\u001b[0m \u001b[38;2;114;156;31m━━━━━━━━━━━━━━━━━━━━━━━━━━━━━\u001b[0m \u001b[35m100%\u001b[0m \u001b[33m0:00:00\u001b[0m\n      \u001b[32mSelect DE genes for Dendritic cells.........\u001b[0m \u001b[38;2;114;156;31m━━━━━━━━━━━━━━━━━━━━━━━━━━━━━\u001b[0m \u001b[35m100%\u001b[0m \u001b[33m0:00:00\u001b[0m\n      \u001b[32mSelect DE genes for FCGR3A+ Monocytes.......\u001b[0m \u001b[38;2;114;156;31m━━━━━━━━━━━━━━━━━━━━━━━━━━━━━\u001b[0m \u001b[35m100%\u001b[0m \u001b[33m0:00:00\u001b[0m\n    \u001b[1;32mTrain trees with added DE genes...............\u001b[0m \u001b[38;2;114;156;31m━━━━━━━━━━━━━━━━━━━━━━━━━━━━━━\u001b[0m \u001b[35m3/3\u001b[0m \u001b[33m0:00:43\u001b[0m\n      \u001b[32mTrain trees.................................\u001b[0m \u001b[38;2;114;156;31m━━━━━━━━━━━━━━━━━━━━━━━━━━━━\u001b[0m \u001b[35m50/50\u001b[0m \u001b[33m0:00:14\u001b[0m\n      \u001b[32mTrain trees.................................\u001b[0m \u001b[38;2;114;156;31m━━━━━━━━━━━━━━━━━━━━━━━━━━━━\u001b[0m \u001b[35m50/50\u001b[0m \u001b[33m0:00:13\u001b[0m\n      \u001b[32mTrain trees.................................\u001b[0m \u001b[38;2;114;156;31m━━━━━━━━━━━━━━━━━━━━━━━━━━━━\u001b[0m \u001b[35m50/50\u001b[0m \u001b[33m0:00:12\u001b[0m\n  \u001b[1;2;36mTrain final baseline trees on all celltypes.....\u001b[0m \u001b[38;2;114;156;31m━━━━━━━━━━━━━━━━━━━━━━━━━━━━━━\u001b[0m \u001b[35m3/3\u001b[0m \u001b[33m0:00:52\u001b[0m\n    \u001b[1;32mTrain trees...................................\u001b[0m \u001b[38;2;114;156;31m━━━━━━━━━━━━━━━━━━━━━━━━━━━━\u001b[0m \u001b[35m50/50\u001b[0m \u001b[33m0:00:18\u001b[0m\n    \u001b[1;32mTrain trees...................................\u001b[0m \u001b[38;2;114;156;31m━━━━━━━━━━━━━━━━━━━━━━━━━━━━\u001b[0m \u001b[35m50/50\u001b[0m \u001b[33m0:00:15\u001b[0m\n    \u001b[1;32mTrain trees...................................\u001b[0m \u001b[38;2;114;156;31m━━━━━━━━━━━━━━━━━━━━━━━━━━━━\u001b[0m \u001b[35m50/50\u001b[0m \u001b[33m0:00:14\u001b[0m\n\u001b[1;34mTrain final forests...............................\u001b[0m \u001b[38;2;114;156;31m━━━━━━━━━━━━━━━━━━━━━━━━━━━━━━\u001b[0m \u001b[35m4/3\u001b[0m \u001b[33m0:00:51\u001b[0m\n  \u001b[1;2;36mTrain forest on pre/prior/pca selected genes....\u001b[0m \u001b[38;2;114;156;31m━━━━━━━━━━━━━━━━━━━━━━━━━━━━━━\u001b[0m \u001b[35m3/3\u001b[0m \u001b[33m0:00:51\u001b[0m\n    \u001b[1;32mTrain trees...................................\u001b[0m \u001b[38;2;114;156;31m━━━━━━━━━━━━━━━━━━━━━━━━━━━━\u001b[0m \u001b[35m50/50\u001b[0m \u001b[33m0:00:17\u001b[0m\n    \u001b[1;32mTrain trees...................................\u001b[0m \u001b[38;2;114;156;31m━━━━━━━━━━━━━━━━━━━━━━━━━━━━\u001b[0m \u001b[35m50/50\u001b[0m \u001b[33m0:00:14\u001b[0m\n    \u001b[1;32mTrain trees...................................\u001b[0m \u001b[38;2;114;156;31m━━━━━━━━━━━━━━━━━━━━━━━━━━━━\u001b[0m \u001b[35m50/50\u001b[0m \u001b[33m0:00:14\u001b[0m\n    \u001b[1;32mInitial results are good enough. No genes are added.....................................\u001b[0m \n\u001b[1;34mCompile probeset list.............................\u001b[0m \u001b[38;2;114;156;31m━━━━━━━━━━━━━━━━━━━━━━━━━━━━━\u001b[0m \u001b[35m100%\u001b[0m \u001b[33m0:00:00\u001b[0m\n"
         },
         "metadata": {},
         "output_type": "display_data"
        }
       ]
      }
     },
     "49ea189bd7794d90a2cd05fec0d24754": {
      "model_module": "@jupyter-widgets/output",
      "model_module_version": "1.0.0",
      "model_name": "OutputModel",
      "state": {
       "layout": "IPY_MODEL_9f5321848cec4d3e82cdc0ecafb5bbb6",
       "outputs": [
        {
         "data": {
          "text/html": "<pre style=\"white-space:pre;overflow-x:auto;line-height:normal;font-family:Menlo,'DejaVu Sans Mono',consolas,'Courier New',monospace\"><span style=\"color: #000000; text-decoration-color: #000000; font-weight: bold\">SPAPROS PROBESET SELECTION:                                                                 </span> \n<span style=\"color: #000080; text-decoration-color: #000080; font-weight: bold\">Select pca genes..........................................</span> <span style=\"color: #729c1f; text-decoration-color: #729c1f\">━━━━━━━━━━━━━━━━━━━━</span>  <span style=\"color: #800080; text-decoration-color: #800080\">100%</span> <span style=\"color: #808000; text-decoration-color: #808000\">0:00:00</span>\n<span style=\"color: #000080; text-decoration-color: #000080; font-weight: bold\">Train baseline forest based on DE genes...................</span> <span style=\"color: #729c1f; text-decoration-color: #729c1f\">━━━━━━━━━━━━━━━━━━━━</span>  <span style=\"color: #800080; text-decoration-color: #800080\"> 4/4</span> <span style=\"color: #808000; text-decoration-color: #808000\">0:01:55</span>\n  <span style=\"color: #7fbfbf; text-decoration-color: #7fbfbf; font-weight: bold\">Select DE genes.........................................</span> <span style=\"color: #729c1f; text-decoration-color: #729c1f\">━━━━━━━━━━━━━━━━━━━━</span>  <span style=\"color: #800080; text-decoration-color: #800080\"> 8/8</span> <span style=\"color: #808000; text-decoration-color: #808000\">0:00:00</span>\n  <span style=\"color: #7fbfbf; text-decoration-color: #7fbfbf; font-weight: bold\">Train prior forest for DE_baseline forest...............</span> <span style=\"color: #729c1f; text-decoration-color: #729c1f\">━━━━━━━━━━━━━━━━━━━━</span>  <span style=\"color: #800080; text-decoration-color: #800080\"> 3/3</span> <span style=\"color: #808000; text-decoration-color: #808000\">0:00:20</span>\n  <span style=\"color: #7fbfbf; text-decoration-color: #7fbfbf; font-weight: bold\">Iteratively add DE genes to DE_baseline forest..........</span> <span style=\"color: #729c1f; text-decoration-color: #729c1f\">━━━━━━━━━━━━━━━━━━━━</span>  <span style=\"color: #800080; text-decoration-color: #800080\"> 3/3</span> <span style=\"color: #808000; text-decoration-color: #808000\">0:01:01</span>\n  <span style=\"color: #7fbfbf; text-decoration-color: #7fbfbf; font-weight: bold\">Train final baseline trees on all celltypes.............</span> <span style=\"color: #729c1f; text-decoration-color: #729c1f\">━━━━━━━━━━━━━━━━━━━━</span>  <span style=\"color: #800080; text-decoration-color: #800080\"> 3/3</span> <span style=\"color: #808000; text-decoration-color: #808000\">0:00:32</span>\n<span style=\"color: #000080; text-decoration-color: #000080; font-weight: bold\">Train final forests.......................................</span> <span style=\"color: #729c1f; text-decoration-color: #729c1f\">━━━━━━━━━━━━━━━━━━━━</span>  <span style=\"color: #800080; text-decoration-color: #800080\"> 3/3</span> <span style=\"color: #808000; text-decoration-color: #808000\">0:00:35</span>\n  <span style=\"color: #7fbfbf; text-decoration-color: #7fbfbf; font-weight: bold\">Train forest on pre/prior/pca selected genes............</span> <span style=\"color: #729c1f; text-decoration-color: #729c1f\">━━━━━━━━━━━━━━━━━━━━</span>  <span style=\"color: #800080; text-decoration-color: #800080\"> 3/3</span> <span style=\"color: #808000; text-decoration-color: #808000\">0:00:35</span>\n  <span style=\"color: #7fbfbf; text-decoration-color: #7fbfbf; font-weight: bold\">Initial results are good enough. No genes are added.......................................</span> \n<span style=\"color: #000080; text-decoration-color: #000080; font-weight: bold\">Compile probeset list.....................................</span> <span style=\"color: #729c1f; text-decoration-color: #729c1f\">━━━━━━━━━━━━━━━━━━━━</span>  <span style=\"color: #800080; text-decoration-color: #800080\">100%</span> <span style=\"color: #808000; text-decoration-color: #808000\">0:00:00</span>\n<span style=\"color: #000000; text-decoration-color: #000000; font-weight: bold\">FINISHED</span>  \n          \n</pre>\n",
          "text/plain": "\u001b[1;30mSPAPROS PROBESET SELECTION:                                                                 \u001b[0m \n\u001b[1;34mSelect pca genes..........................................\u001b[0m \u001b[38;2;114;156;31m━━━━━━━━━━━━━━━━━━━━\u001b[0m  \u001b[35m100%\u001b[0m \u001b[33m0:00:00\u001b[0m\n\u001b[1;34mTrain baseline forest based on DE genes...................\u001b[0m \u001b[38;2;114;156;31m━━━━━━━━━━━━━━━━━━━━\u001b[0m  \u001b[35m 4/4\u001b[0m \u001b[33m0:01:55\u001b[0m\n  \u001b[1;2;36mSelect DE genes.........................................\u001b[0m \u001b[38;2;114;156;31m━━━━━━━━━━━━━━━━━━━━\u001b[0m  \u001b[35m 8/8\u001b[0m \u001b[33m0:00:00\u001b[0m\n  \u001b[1;2;36mTrain prior forest for DE_baseline forest...............\u001b[0m \u001b[38;2;114;156;31m━━━━━━━━━━━━━━━━━━━━\u001b[0m  \u001b[35m 3/3\u001b[0m \u001b[33m0:00:20\u001b[0m\n  \u001b[1;2;36mIteratively add DE genes to DE_baseline forest..........\u001b[0m \u001b[38;2;114;156;31m━━━━━━━━━━━━━━━━━━━━\u001b[0m  \u001b[35m 3/3\u001b[0m \u001b[33m0:01:01\u001b[0m\n  \u001b[1;2;36mTrain final baseline trees on all celltypes.............\u001b[0m \u001b[38;2;114;156;31m━━━━━━━━━━━━━━━━━━━━\u001b[0m  \u001b[35m 3/3\u001b[0m \u001b[33m0:00:32\u001b[0m\n\u001b[1;34mTrain final forests.......................................\u001b[0m \u001b[38;2;114;156;31m━━━━━━━━━━━━━━━━━━━━\u001b[0m  \u001b[35m 3/3\u001b[0m \u001b[33m0:00:35\u001b[0m\n  \u001b[1;2;36mTrain forest on pre/prior/pca selected genes............\u001b[0m \u001b[38;2;114;156;31m━━━━━━━━━━━━━━━━━━━━\u001b[0m  \u001b[35m 3/3\u001b[0m \u001b[33m0:00:35\u001b[0m\n  \u001b[1;2;36mInitial results are good enough. No genes are added.......................................\u001b[0m \n\u001b[1;34mCompile probeset list.....................................\u001b[0m \u001b[38;2;114;156;31m━━━━━━━━━━━━━━━━━━━━\u001b[0m  \u001b[35m100%\u001b[0m \u001b[33m0:00:00\u001b[0m\n\u001b[1;30mFINISHED\u001b[0m  \n          \n"
         },
         "metadata": {},
         "output_type": "display_data"
        }
       ]
      }
     },
     "56d9accd7ee94fd4876a010298adde9d": {
      "model_module": "@jupyter-widgets/controls",
      "model_module_version": "1.5.0",
      "model_name": "HTMLModel",
      "state": {
       "layout": "IPY_MODEL_de3bde42a33340ab9a37b61be5e100da",
       "style": "IPY_MODEL_02393dfba5ab4f1cabd8bb6744f02214",
       "value": " 5.58M/5.58M [00:00&lt;00:00, 15.2MB/s]"
      }
     },
     "722084e07bba4cca8598e4fcc303924e": {
      "model_module": "@jupyter-widgets/base",
      "model_module_version": "1.2.0",
      "model_name": "LayoutModel",
      "state": {}
     },
     "761116eeed6c40ff8005ce3321dd0ecf": {
      "model_module": "@jupyter-widgets/base",
      "model_module_version": "1.2.0",
      "model_name": "LayoutModel",
      "state": {}
     },
     "85c1cfa3ea2e47d288b348f032f4c5c4": {
      "model_module": "@jupyter-widgets/controls",
      "model_module_version": "1.5.0",
      "model_name": "HTMLModel",
      "state": {
       "layout": "IPY_MODEL_c6ac1062b46940da983e4e4f6844ea23",
       "style": "IPY_MODEL_429642e62d3c4db99884b2779a65ea52",
       "value": "100%"
      }
     },
     "9f5321848cec4d3e82cdc0ecafb5bbb6": {
      "model_module": "@jupyter-widgets/base",
      "model_module_version": "1.2.0",
      "model_name": "LayoutModel",
      "state": {}
     },
     "a6a675381f6c4491bdc27506433c3c34": {
      "model_module": "@jupyter-widgets/output",
      "model_module_version": "1.0.0",
      "model_name": "OutputModel",
      "state": {
       "layout": "IPY_MODEL_d5bea3c5da264630b86d93b78b612bb1",
       "outputs": [
        {
         "data": {
          "text/html": "<pre style=\"white-space:pre;overflow-x:auto;line-height:normal;font-family:Menlo,'DejaVu Sans Mono',consolas,'Courier New',monospace\"><span style=\"color: #000000; text-decoration-color: #000000; font-weight: bold\">SPAPROS PROBESET SELECTION:                                                                 </span> \n<span style=\"color: #000080; text-decoration-color: #000080; font-weight: bold\">Select pca genes..........................................</span> <span style=\"color: #729c1f; text-decoration-color: #729c1f\">━━━━━━━━━━━━━━━━━━━━</span>  <span style=\"color: #800080; text-decoration-color: #800080\">100%</span> <span style=\"color: #808000; text-decoration-color: #808000\">0:00:00</span>\n<span style=\"color: #000080; text-decoration-color: #000080; font-weight: bold\">Train baseline forest based on DE genes...................</span> <span style=\"color: #729c1f; text-decoration-color: #729c1f\">━━━━━━━━━━━━━━━━━━━━</span>  <span style=\"color: #800080; text-decoration-color: #800080\"> 4/4</span> <span style=\"color: #808000; text-decoration-color: #808000\">0:02:22</span>\n  <span style=\"color: #7fbfbf; text-decoration-color: #7fbfbf; font-weight: bold\">Select DE genes.........................................</span> <span style=\"color: #729c1f; text-decoration-color: #729c1f\">━━━━━━━━━━━━━━━━━━━━</span>  <span style=\"color: #800080; text-decoration-color: #800080\"> 8/8</span> <span style=\"color: #808000; text-decoration-color: #808000\">0:00:00</span>\n  <span style=\"color: #7fbfbf; text-decoration-color: #7fbfbf; font-weight: bold\">Train prior forest for DE_baseline forest...............</span> <span style=\"color: #729c1f; text-decoration-color: #729c1f\">━━━━━━━━━━━━━━━━━━━━</span>  <span style=\"color: #800080; text-decoration-color: #800080\"> 3/3</span> <span style=\"color: #808000; text-decoration-color: #808000\">0:00:27</span>\n  <span style=\"color: #7fbfbf; text-decoration-color: #7fbfbf; font-weight: bold\">Iteratively add DE genes to DE_baseline forest..........</span> <span style=\"color: #729c1f; text-decoration-color: #729c1f\">━━━━━━━━━━━━━━━━━━━━</span>  <span style=\"color: #800080; text-decoration-color: #800080\"> 3/3</span> <span style=\"color: #808000; text-decoration-color: #808000\">0:01:19</span>\n  <span style=\"color: #7fbfbf; text-decoration-color: #7fbfbf; font-weight: bold\">Train final baseline trees on all celltypes.............</span> <span style=\"color: #729c1f; text-decoration-color: #729c1f\">━━━━━━━━━━━━━━━━━━━━</span>  <span style=\"color: #800080; text-decoration-color: #800080\"> 3/3</span> <span style=\"color: #808000; text-decoration-color: #808000\">0:00:35</span>\n<span style=\"color: #000080; text-decoration-color: #000080; font-weight: bold\">Train final forests.......................................</span> <span style=\"color: #729c1f; text-decoration-color: #729c1f\">━━━━━━━━━━━━━━━━━━━━</span>  <span style=\"color: #800080; text-decoration-color: #800080\"> 3/3</span> <span style=\"color: #808000; text-decoration-color: #808000\">0:00:34</span>\n  <span style=\"color: #7fbfbf; text-decoration-color: #7fbfbf; font-weight: bold\">Train forest on pre/prior/pca selected genes............</span> <span style=\"color: #729c1f; text-decoration-color: #729c1f\">━━━━━━━━━━━━━━━━━━━━</span>  <span style=\"color: #800080; text-decoration-color: #800080\"> 3/3</span> <span style=\"color: #808000; text-decoration-color: #808000\">0:00:34</span>\n  <span style=\"color: #7fbfbf; text-decoration-color: #7fbfbf; font-weight: bold\">Initial results are good enough. No genes are added.......................................</span> \n<span style=\"color: #000080; text-decoration-color: #000080; font-weight: bold\">Compile probeset list.....................................</span> <span style=\"color: #729c1f; text-decoration-color: #729c1f\">━━━━━━━━━━━━━━━━━━━━</span>  <span style=\"color: #800080; text-decoration-color: #800080\">100%</span> <span style=\"color: #808000; text-decoration-color: #808000\">0:00:00</span>\n<span style=\"color: #000000; text-decoration-color: #000000; font-weight: bold\">FINISHED</span>  \n          \n</pre>\n",
          "text/plain": "\u001b[1;30mSPAPROS PROBESET SELECTION:                                                                 \u001b[0m \n\u001b[1;34mSelect pca genes..........................................\u001b[0m \u001b[38;2;114;156;31m━━━━━━━━━━━━━━━━━━━━\u001b[0m  \u001b[35m100%\u001b[0m \u001b[33m0:00:00\u001b[0m\n\u001b[1;34mTrain baseline forest based on DE genes...................\u001b[0m \u001b[38;2;114;156;31m━━━━━━━━━━━━━━━━━━━━\u001b[0m  \u001b[35m 4/4\u001b[0m \u001b[33m0:02:22\u001b[0m\n  \u001b[1;2;36mSelect DE genes.........................................\u001b[0m \u001b[38;2;114;156;31m━━━━━━━━━━━━━━━━━━━━\u001b[0m  \u001b[35m 8/8\u001b[0m \u001b[33m0:00:00\u001b[0m\n  \u001b[1;2;36mTrain prior forest for DE_baseline forest...............\u001b[0m \u001b[38;2;114;156;31m━━━━━━━━━━━━━━━━━━━━\u001b[0m  \u001b[35m 3/3\u001b[0m \u001b[33m0:00:27\u001b[0m\n  \u001b[1;2;36mIteratively add DE genes to DE_baseline forest..........\u001b[0m \u001b[38;2;114;156;31m━━━━━━━━━━━━━━━━━━━━\u001b[0m  \u001b[35m 3/3\u001b[0m \u001b[33m0:01:19\u001b[0m\n  \u001b[1;2;36mTrain final baseline trees on all celltypes.............\u001b[0m \u001b[38;2;114;156;31m━━━━━━━━━━━━━━━━━━━━\u001b[0m  \u001b[35m 3/3\u001b[0m \u001b[33m0:00:35\u001b[0m\n\u001b[1;34mTrain final forests.......................................\u001b[0m \u001b[38;2;114;156;31m━━━━━━━━━━━━━━━━━━━━\u001b[0m  \u001b[35m 3/3\u001b[0m \u001b[33m0:00:34\u001b[0m\n  \u001b[1;2;36mTrain forest on pre/prior/pca selected genes............\u001b[0m \u001b[38;2;114;156;31m━━━━━━━━━━━━━━━━━━━━\u001b[0m  \u001b[35m 3/3\u001b[0m \u001b[33m0:00:34\u001b[0m\n  \u001b[1;2;36mInitial results are good enough. No genes are added.......................................\u001b[0m \n\u001b[1;34mCompile probeset list.....................................\u001b[0m \u001b[38;2;114;156;31m━━━━━━━━━━━━━━━━━━━━\u001b[0m  \u001b[35m100%\u001b[0m \u001b[33m0:00:00\u001b[0m\n\u001b[1;30mFINISHED\u001b[0m  \n          \n"
         },
         "metadata": {},
         "output_type": "display_data"
        }
       ]
      }
     },
     "aacd2c6b6b984795bf04b39d6e17eb16": {
      "model_module": "@jupyter-widgets/base",
      "model_module_version": "1.2.0",
      "model_name": "LayoutModel",
      "state": {}
     },
     "af9cb6ec7a0346ed9cedbf123b5cf3e1": {
      "model_module": "@jupyter-widgets/base",
      "model_module_version": "1.2.0",
      "model_name": "LayoutModel",
      "state": {}
     },
     "c3f5c0e630124189a05ab0ab81338dcc": {
      "model_module": "@jupyter-widgets/controls",
      "model_module_version": "1.5.0",
      "model_name": "FloatProgressModel",
      "state": {
       "bar_style": "success",
       "layout": "IPY_MODEL_211e831c42474aa5b57918a706a869fd",
       "max": 5855727,
       "style": "IPY_MODEL_467e528b2fe64849939bdbb4803d8a23",
       "value": 5855727
      }
     },
     "c6ac1062b46940da983e4e4f6844ea23": {
      "model_module": "@jupyter-widgets/base",
      "model_module_version": "1.2.0",
      "model_name": "LayoutModel",
      "state": {}
     },
     "c8d5c4cde14b4229ab87ffc7ca65ed82": {
      "model_module": "@jupyter-widgets/controls",
      "model_module_version": "1.5.0",
      "model_name": "HBoxModel",
      "state": {
       "children": [
        "IPY_MODEL_34fce517e03d4e52ace44e570d5a71a1",
        "IPY_MODEL_f8f9c052a3f54a71a957672c2f3a7d06",
        "IPY_MODEL_f955d07419274b21b62b79bf2b85dbaa"
       ],
       "layout": "IPY_MODEL_2ab055d6db5c4930b6e9abf236d0bfdb"
      }
     },
     "d5bea3c5da264630b86d93b78b612bb1": {
      "model_module": "@jupyter-widgets/base",
      "model_module_version": "1.2.0",
      "model_name": "LayoutModel",
      "state": {}
     },
     "de3bde42a33340ab9a37b61be5e100da": {
      "model_module": "@jupyter-widgets/base",
      "model_module_version": "1.2.0",
      "model_name": "LayoutModel",
      "state": {}
     },
     "e0c16f34005a461194310c27cd28f2c1": {
      "model_module": "@jupyter-widgets/base",
      "model_module_version": "1.2.0",
      "model_name": "LayoutModel",
      "state": {}
     },
     "e2dbfd3cdab049e7aafe01b95e9009e4": {
      "model_module": "@jupyter-widgets/controls",
      "model_module_version": "1.5.0",
      "model_name": "DescriptionStyleModel",
      "state": {
       "description_width": ""
      }
     },
     "f8f9c052a3f54a71a957672c2f3a7d06": {
      "model_module": "@jupyter-widgets/controls",
      "model_module_version": "1.5.0",
      "model_name": "FloatProgressModel",
      "state": {
       "bar_style": "success",
       "layout": "IPY_MODEL_e0c16f34005a461194310c27cd28f2c1",
       "max": 24653425,
       "style": "IPY_MODEL_34315b97b262443fab7e426057f2f510",
       "value": 24653425
      }
     },
     "f955d07419274b21b62b79bf2b85dbaa": {
      "model_module": "@jupyter-widgets/controls",
      "model_module_version": "1.5.0",
      "model_name": "HTMLModel",
      "state": {
       "layout": "IPY_MODEL_722084e07bba4cca8598e4fcc303924e",
       "style": "IPY_MODEL_fa3130def609451f81958ae6175d79b1",
       "value": " 23.5M/23.5M [00:00&lt;00:00, 80.2MB/s]"
      }
     },
     "fa3130def609451f81958ae6175d79b1": {
      "model_module": "@jupyter-widgets/controls",
      "model_module_version": "1.5.0",
      "model_name": "DescriptionStyleModel",
      "state": {
       "description_width": ""
      }
     }
    },
    "version_major": 2,
    "version_minor": 0
   }
  }
 },
 "nbformat": 4,
 "nbformat_minor": 1
}
