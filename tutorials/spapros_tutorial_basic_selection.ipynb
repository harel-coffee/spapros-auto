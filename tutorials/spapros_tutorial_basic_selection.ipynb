{
 "cells": [
  {
   "cell_type": "markdown",
   "metadata": {
    "collapsed": true,
    "pycharm": {
     "name": "#%% md\n"
    }
   },
   "source": [
    "# Spapros Selection: Create a probeset with spapros\n",
    "\n",
    "This tutorial shows how to select a gene probeset with spapros.\n",
    "\n",
    "The used dataset contains 3k PBMCs from a healthy donor and is publicly available from\n",
    "[10x Genomics](https://support.10xgenomics.com/single-cell-gene-expression/datasets/1.1.0/pbmc3k)\n",
    "[here](http://cf.10xgenomics.com/samples/cell-exp/1.1.0/pbmc3k/pbmc3k_filtered_gene_bc_matrices.tar.gz).\n",
    "It is also available via scanpy [here](https://scanpy.readthedocs.io/en/stable/generated/scanpy.datasets.pbmc3k.html#scanpy.datasets.pbmc3k).\n",
    "\n",
    "The dataset was preprocessed following the [scanpy pipeline](https://scanpy-tutorials.readthedocs.io/en/latest/pbmc3k.html).\n",
    "\n",
    "The preprocessed Anndata consists of raw single cell RNAseq counts of 2000 genes for 2700 cells."
   ]
  },
  {
   "cell_type": "markdown",
   "metadata": {},
   "source": [
    "## Import packages and data\n",
    "\n",
    "To run the notebook locally, create a conda environment using this [environment.yaml](TODO link):\n",
    "\n",
    "    conda create -f environment.yaml\n",
    "\n",
    "Then add the conda environment as ipython kernel:\n",
    "\n",
    "    python -m ipykernel install --user --name spapros --display-name Python (spapros)\n",
    "\n"
   ]
  },
  {
   "cell_type": "code",
   "execution_count": 1,
   "metadata": {
    "pycharm": {
     "is_executing": true,
     "name": "#%%\n"
    }
   },
   "outputs": [
    {
     "name": "stderr",
     "output_type": "stream",
     "text": [
      "/big/st/strasserl/spapros/spapros/selection/selection_procedure.py:14: TqdmExperimentalWarning: Using `tqdm.autonotebook.tqdm` in notebook mode. Use `tqdm.tqdm` instead to force console mode (e.g. in jupyter console)\n",
      "  from tqdm.autonotebook import tqdm\n"
     ]
    }
   ],
   "source": [
    "import spapros\n",
    "from spapros import ProbesetSelector, pl\n",
    "from IPython.display import clear_output\n",
    "import scanpy as sc\n",
    "import pandas as pd\n",
    "import os\n",
    "import yaml"
   ]
  },
  {
   "cell_type": "code",
   "execution_count": 2,
   "metadata": {
    "pycharm": {
     "name": "#%%\n"
    }
   },
   "outputs": [
    {
     "name": "stdout",
     "output_type": "stream",
     "text": [
      "scanpy==1.8.1 anndata==0.7.8 umap==0.5.2 numpy==1.21.4 scipy==1.7.2 pandas==1.3.4 scikit-learn==1.0.1 statsmodels==0.13.1 python-igraph==0.9.8 pynndescent==0.5.5\n",
      "spapros==0.1.0\n"
     ]
    }
   ],
   "source": [
    "sc.settings.verbosity = 1\n",
    "sc.logging.print_header()\n",
    "print(f\"spapros=={spapros.__version__}\")"
   ]
  },
  {
   "cell_type": "code",
   "execution_count": 3,
   "metadata": {
    "pycharm": {
     "name": "#%%\n"
    },
    "scrolled": false
   },
   "outputs": [
    {
     "data": {
      "text/plain": [
       "AnnData object with n_obs × n_vars = 2700 × 2000\n",
       "    obs: 'n_genes', 'size_factors', 'leiden', 'celltype', 'tissue'\n",
       "    var: 'gene_ids', 'n_cells', 'highly_variable', 'quantile_0.85', 'quantile_0.9', 'quantile_0.95', 'quantile_0.99'\n",
       "    uns: 'log1p'"
      ]
     },
     "execution_count": 3,
     "metadata": {},
     "output_type": "execute_result"
    }
   ],
   "source": [
    "# Load the dataset\n",
    "adata = sc.read_h5ad(\"../data/small_data_raw_counts.h5ad\")\n",
    "sc.pp.log1p(adata)\n",
    "adata\n"
   ]
  },
  {
   "cell_type": "markdown",
   "metadata": {},
   "source": [
    "## Start the selection"
   ]
  },
  {
   "cell_type": "code",
   "execution_count": 4,
   "metadata": {},
   "outputs": [
    {
     "name": "stdout",
     "output_type": "stream",
     "text": [
      "The following celltypes' test set sizes for forest training are below min_test_n (=20):\n",
      "\t celltype_4 : 5\n",
      "\t celltype_5 : 9\n",
      "\t celltype_8 : 1\n"
     ]
    }
   ],
   "source": [
    "# create an instance of the ProbesetSelector class\n",
    "selector = ProbesetSelector(adata, celltype_key = \"celltype\")"
   ]
  },
  {
   "cell_type": "code",
   "execution_count": 5,
   "metadata": {
    "scrolled": false
   },
   "outputs": [
    {
     "name": "stdout",
     "output_type": "stream",
     "text": [
      "Select pca genes...\n",
      "\t ...finished.\n",
      "Select genes based on differential expression and forests as baseline for the final forests...\n",
      "\t Select differentially expressed genes...\n",
      "\t\t ...finished.\n",
      "\t Train trees on DE selected genes as prior forest for the DE_baseline forest...\n"
     ]
    },
    {
     "data": {
      "application/vnd.jupyter.widget-view+json": {
       "model_id": "5a7aa94c5cfd47e2af30b096a52cc314",
       "version_major": 2,
       "version_minor": 0
      },
      "text/plain": [
       "Train hierarchical trees:   0%|          | 0/3 [00:00<?, ?it/s]"
      ]
     },
     "metadata": {},
     "output_type": "display_data"
    },
    {
     "name": "stderr",
     "output_type": "stream",
     "text": [
      "/big/st/strasserl/spapros/spapros/evaluation/evaluation.py:1034: UserWarning: Zero cells of celltype celltype_8 in train or test set. No tree is calculated for celltype celltype_8.\n",
      "  warnings.warn(f\"Zero cells of celltype {c} in train or test set. No tree is calculated for celltype {c}.\")\n",
      "/big/st/strasserl/spapros/spapros/evaluation/evaluation.py:1036: UserWarning: Zero cells of celltype celltype_8 in train or test set. Celltype celltype_8 is not included as reference celltype.\n",
      "  warnings.warn(\n"
     ]
    },
    {
     "data": {
      "application/vnd.jupyter.widget-view+json": {
       "model_id": "3df619d628664dbcb070c8aa42cdc2ff",
       "version_major": 2,
       "version_minor": 0
      },
      "text/plain": [
       "Train trees:   0%|          | 0/50 [00:00<?, ?it/s]"
      ]
     },
     "metadata": {},
     "output_type": "display_data"
    },
    {
     "data": {
      "application/vnd.jupyter.widget-view+json": {
       "model_id": "ffc0d214dfe54e529b5db0a4d3746ac7",
       "version_major": 2,
       "version_minor": 0
      },
      "text/plain": [
       "Evaluate trees:   0%|          | 0/50 [00:00<?, ?/s]"
      ]
     },
     "metadata": {},
     "output_type": "display_data"
    },
    {
     "data": {
      "application/vnd.jupyter.widget-view+json": {
       "model_id": "fbf92b9135c94bd3894dc8bf50308f3d",
       "version_major": 2,
       "version_minor": 0
      },
      "text/plain": [
       "Train trees:   0%|          | 0/50 [00:00<?, ?it/s]"
      ]
     },
     "metadata": {},
     "output_type": "display_data"
    },
    {
     "data": {
      "application/vnd.jupyter.widget-view+json": {
       "model_id": "1cbea9f4e3954e69933c985408d2032f",
       "version_major": 2,
       "version_minor": 0
      },
      "text/plain": [
       "Evaluate trees:   0%|          | 0/50 [00:00<?, ?/s]"
      ]
     },
     "metadata": {},
     "output_type": "display_data"
    },
    {
     "data": {
      "application/vnd.jupyter.widget-view+json": {
       "model_id": "2adf242df21341a3afeb96d866de7f4a",
       "version_major": 2,
       "version_minor": 0
      },
      "text/plain": [
       "Train trees:   0%|          | 0/50 [00:00<?, ?it/s]"
      ]
     },
     "metadata": {},
     "output_type": "display_data"
    },
    {
     "data": {
      "application/vnd.jupyter.widget-view+json": {
       "model_id": "6c806557f5884ee28fae925c9b217f67",
       "version_major": 2,
       "version_minor": 0
      },
      "text/plain": [
       "Evaluate trees:   0%|          | 0/50 [00:00<?, ?/s]"
      ]
     },
     "metadata": {},
     "output_type": "display_data"
    },
    {
     "name": "stdout",
     "output_type": "stream",
     "text": [
      "\t Train DE_baseline forest by iteratively selecting specific differentially expressed genes for celltypes that are hard to distinguish...\n",
      "Add DE genes with specific reference groups to improve tree performance...\n",
      "  Iteration step 1:\n",
      "\t Select DE genes...\n",
      "\t Train decision trees on celltypes:\n",
      "\t\t ['celltype_1', 'celltype_2', 'celltype_3', 'celltype_6']\n"
     ]
    },
    {
     "data": {
      "application/vnd.jupyter.widget-view+json": {
       "model_id": "b2c1552f95364158849de628a9b76468",
       "version_major": 2,
       "version_minor": 0
      },
      "text/plain": [
       "Train hierarchical trees:   0%|          | 0/3 [00:00<?, ?it/s]"
      ]
     },
     "metadata": {},
     "output_type": "display_data"
    },
    {
     "data": {
      "application/vnd.jupyter.widget-view+json": {
       "model_id": "ca4001baa86a499197afaaf38ddaae9d",
       "version_major": 2,
       "version_minor": 0
      },
      "text/plain": [
       "Train trees:   0%|          | 0/50 [00:00<?, ?it/s]"
      ]
     },
     "metadata": {},
     "output_type": "display_data"
    },
    {
     "data": {
      "application/vnd.jupyter.widget-view+json": {
       "model_id": "a35dbb9a8d414d0fad38db0311c18dd8",
       "version_major": 2,
       "version_minor": 0
      },
      "text/plain": [
       "Evaluate trees:   0%|          | 0/50 [00:00<?, ?/s]"
      ]
     },
     "metadata": {},
     "output_type": "display_data"
    },
    {
     "data": {
      "application/vnd.jupyter.widget-view+json": {
       "model_id": "6c3d845f90e144b68adef376216c9823",
       "version_major": 2,
       "version_minor": 0
      },
      "text/plain": [
       "Train trees:   0%|          | 0/50 [00:00<?, ?it/s]"
      ]
     },
     "metadata": {},
     "output_type": "display_data"
    },
    {
     "data": {
      "application/vnd.jupyter.widget-view+json": {
       "model_id": "199b49e7475c453285b362f56cd4d962",
       "version_major": 2,
       "version_minor": 0
      },
      "text/plain": [
       "Evaluate trees:   0%|          | 0/50 [00:00<?, ?/s]"
      ]
     },
     "metadata": {},
     "output_type": "display_data"
    },
    {
     "data": {
      "application/vnd.jupyter.widget-view+json": {
       "model_id": "ba5e360550da4c33b01f0240df528196",
       "version_major": 2,
       "version_minor": 0
      },
      "text/plain": [
       "Train trees:   0%|          | 0/50 [00:00<?, ?it/s]"
      ]
     },
     "metadata": {},
     "output_type": "display_data"
    },
    {
     "data": {
      "application/vnd.jupyter.widget-view+json": {
       "model_id": "f83d9928b52c4ab59ed11bfbf04095e8",
       "version_major": 2,
       "version_minor": 0
      },
      "text/plain": [
       "Evaluate trees:   0%|          | 0/50 [00:00<?, ?/s]"
      ]
     },
     "metadata": {},
     "output_type": "display_data"
    },
    {
     "name": "stdout",
     "output_type": "stream",
     "text": [
      "\t\t Training finished.\n",
      "  Iteration step 2:\n",
      "\t Select DE genes...\n",
      "\t Train decision trees on celltypes:\n",
      "\t\t ['celltype_1', 'celltype_3', 'celltype_6']\n"
     ]
    },
    {
     "data": {
      "application/vnd.jupyter.widget-view+json": {
       "model_id": "7e79a5ca77ff4a719a09f2ca0a746399",
       "version_major": 2,
       "version_minor": 0
      },
      "text/plain": [
       "Train hierarchical trees:   0%|          | 0/3 [00:00<?, ?it/s]"
      ]
     },
     "metadata": {},
     "output_type": "display_data"
    },
    {
     "data": {
      "application/vnd.jupyter.widget-view+json": {
       "model_id": "41fdb0befc924a46a99de2020a7f5217",
       "version_major": 2,
       "version_minor": 0
      },
      "text/plain": [
       "Train trees:   0%|          | 0/50 [00:00<?, ?it/s]"
      ]
     },
     "metadata": {},
     "output_type": "display_data"
    },
    {
     "data": {
      "application/vnd.jupyter.widget-view+json": {
       "model_id": "98697cb895924cc48cb290a0e430b0ad",
       "version_major": 2,
       "version_minor": 0
      },
      "text/plain": [
       "Evaluate trees:   0%|          | 0/50 [00:00<?, ?/s]"
      ]
     },
     "metadata": {},
     "output_type": "display_data"
    },
    {
     "data": {
      "application/vnd.jupyter.widget-view+json": {
       "model_id": "1852b341d3c146adb654c01babb613be",
       "version_major": 2,
       "version_minor": 0
      },
      "text/plain": [
       "Train trees:   0%|          | 0/50 [00:00<?, ?it/s]"
      ]
     },
     "metadata": {},
     "output_type": "display_data"
    },
    {
     "data": {
      "application/vnd.jupyter.widget-view+json": {
       "model_id": "e0ed763970924a40a212dd90d07c992e",
       "version_major": 2,
       "version_minor": 0
      },
      "text/plain": [
       "Evaluate trees:   0%|          | 0/50 [00:00<?, ?/s]"
      ]
     },
     "metadata": {},
     "output_type": "display_data"
    },
    {
     "data": {
      "application/vnd.jupyter.widget-view+json": {
       "model_id": "c228b356d960456ca7bed081dc99b6ac",
       "version_major": 2,
       "version_minor": 0
      },
      "text/plain": [
       "Train trees:   0%|          | 0/50 [00:00<?, ?it/s]"
      ]
     },
     "metadata": {},
     "output_type": "display_data"
    },
    {
     "data": {
      "application/vnd.jupyter.widget-view+json": {
       "model_id": "c8cff81e6e534cbda29edfd10929fc1a",
       "version_major": 2,
       "version_minor": 0
      },
      "text/plain": [
       "Evaluate trees:   0%|          | 0/50 [00:00<?, ?/s]"
      ]
     },
     "metadata": {},
     "output_type": "display_data"
    },
    {
     "name": "stdout",
     "output_type": "stream",
     "text": [
      "\t\t Training finished.\n",
      "  Iteration step 3:\n",
      "\t Select DE genes...\n",
      "\t Train decision trees on celltypes:\n",
      "\t\t ['celltype_1', 'celltype_3', 'celltype_6']\n"
     ]
    },
    {
     "data": {
      "application/vnd.jupyter.widget-view+json": {
       "model_id": "b09c46d291804a1aad2bf447c3a2dfa3",
       "version_major": 2,
       "version_minor": 0
      },
      "text/plain": [
       "Train hierarchical trees:   0%|          | 0/3 [00:00<?, ?it/s]"
      ]
     },
     "metadata": {},
     "output_type": "display_data"
    },
    {
     "data": {
      "application/vnd.jupyter.widget-view+json": {
       "model_id": "98855d9f6c7b4fbb807b22c4dfa1eb68",
       "version_major": 2,
       "version_minor": 0
      },
      "text/plain": [
       "Train trees:   0%|          | 0/50 [00:00<?, ?it/s]"
      ]
     },
     "metadata": {},
     "output_type": "display_data"
    },
    {
     "data": {
      "application/vnd.jupyter.widget-view+json": {
       "model_id": "91df4276da994312833e013ad12292b4",
       "version_major": 2,
       "version_minor": 0
      },
      "text/plain": [
       "Evaluate trees:   0%|          | 0/50 [00:00<?, ?/s]"
      ]
     },
     "metadata": {},
     "output_type": "display_data"
    },
    {
     "data": {
      "application/vnd.jupyter.widget-view+json": {
       "model_id": "f8fb57cebef54d3ea274bd9576d01675",
       "version_major": 2,
       "version_minor": 0
      },
      "text/plain": [
       "Train trees:   0%|          | 0/50 [00:00<?, ?it/s]"
      ]
     },
     "metadata": {},
     "output_type": "display_data"
    },
    {
     "data": {
      "application/vnd.jupyter.widget-view+json": {
       "model_id": "bb712ce359c04ed9bc0da47c50d35a2b",
       "version_major": 2,
       "version_minor": 0
      },
      "text/plain": [
       "Evaluate trees:   0%|          | 0/50 [00:00<?, ?/s]"
      ]
     },
     "metadata": {},
     "output_type": "display_data"
    },
    {
     "data": {
      "application/vnd.jupyter.widget-view+json": {
       "model_id": "1aad9389cb3042cc80a0e1b7614f87fb",
       "version_major": 2,
       "version_minor": 0
      },
      "text/plain": [
       "Train trees:   0%|          | 0/50 [00:00<?, ?it/s]"
      ]
     },
     "metadata": {},
     "output_type": "display_data"
    },
    {
     "data": {
      "application/vnd.jupyter.widget-view+json": {
       "model_id": "ddfa1bfdd334405c935df1f71579f597",
       "version_major": 2,
       "version_minor": 0
      },
      "text/plain": [
       "Evaluate trees:   0%|          | 0/50 [00:00<?, ?/s]"
      ]
     },
     "metadata": {},
     "output_type": "display_data"
    },
    {
     "name": "stdout",
     "output_type": "stream",
     "text": [
      "\t\t Training finished.\n",
      "Train final trees on all celltypes, now with the added genes...\n"
     ]
    },
    {
     "data": {
      "application/vnd.jupyter.widget-view+json": {
       "model_id": "1296f2e6f3ac42f6a63222d910424d1c",
       "version_major": 2,
       "version_minor": 0
      },
      "text/plain": [
       "Train hierarchical trees:   0%|          | 0/3 [00:00<?, ?it/s]"
      ]
     },
     "metadata": {},
     "output_type": "display_data"
    },
    {
     "data": {
      "application/vnd.jupyter.widget-view+json": {
       "model_id": "fe87575795f4419a89eabe5b42b10087",
       "version_major": 2,
       "version_minor": 0
      },
      "text/plain": [
       "Train trees:   0%|          | 0/50 [00:00<?, ?it/s]"
      ]
     },
     "metadata": {},
     "output_type": "display_data"
    },
    {
     "data": {
      "application/vnd.jupyter.widget-view+json": {
       "model_id": "ab1a4ccb351a4388864b08675f45b1c1",
       "version_major": 2,
       "version_minor": 0
      },
      "text/plain": [
       "Evaluate trees:   0%|          | 0/50 [00:00<?, ?/s]"
      ]
     },
     "metadata": {},
     "output_type": "display_data"
    },
    {
     "data": {
      "application/vnd.jupyter.widget-view+json": {
       "model_id": "04a28314b01b4073b90ebd9ac7fe723e",
       "version_major": 2,
       "version_minor": 0
      },
      "text/plain": [
       "Train trees:   0%|          | 0/50 [00:00<?, ?it/s]"
      ]
     },
     "metadata": {},
     "output_type": "display_data"
    },
    {
     "data": {
      "application/vnd.jupyter.widget-view+json": {
       "model_id": "0e6dbe8826b04731bad3b9ec3458d8f5",
       "version_major": 2,
       "version_minor": 0
      },
      "text/plain": [
       "Evaluate trees:   0%|          | 0/50 [00:00<?, ?/s]"
      ]
     },
     "metadata": {},
     "output_type": "display_data"
    },
    {
     "data": {
      "application/vnd.jupyter.widget-view+json": {
       "model_id": "e411d1fc22a941dea34297851f66833b",
       "version_major": 2,
       "version_minor": 0
      },
      "text/plain": [
       "Train trees:   0%|          | 0/50 [00:00<?, ?it/s]"
      ]
     },
     "metadata": {},
     "output_type": "display_data"
    },
    {
     "data": {
      "application/vnd.jupyter.widget-view+json": {
       "model_id": "af9f91ea7560415bad341a6c38a116d2",
       "version_major": 2,
       "version_minor": 0
      },
      "text/plain": [
       "Evaluate trees:   0%|          | 0/50 [00:00<?, ?/s]"
      ]
     },
     "metadata": {},
     "output_type": "display_data"
    },
    {
     "name": "stdout",
     "output_type": "stream",
     "text": [
      "\t Finished...\n",
      "Train final forests by adding genes from the DE_baseline forest for celltypes with low performance...\n",
      "\t Train forest on pre/prior/pca selected genes...\n"
     ]
    },
    {
     "data": {
      "application/vnd.jupyter.widget-view+json": {
       "model_id": "ce092d643e8c4cb3ae64f32e841a2559",
       "version_major": 2,
       "version_minor": 0
      },
      "text/plain": [
       "Train hierarchical trees:   0%|          | 0/3 [00:00<?, ?it/s]"
      ]
     },
     "metadata": {},
     "output_type": "display_data"
    },
    {
     "data": {
      "application/vnd.jupyter.widget-view+json": {
       "model_id": "f49af3febb474179923cc0a6cd04097a",
       "version_major": 2,
       "version_minor": 0
      },
      "text/plain": [
       "Train trees:   0%|          | 0/50 [00:00<?, ?it/s]"
      ]
     },
     "metadata": {},
     "output_type": "display_data"
    },
    {
     "data": {
      "application/vnd.jupyter.widget-view+json": {
       "model_id": "69fcf970926b442198002705c4aea37a",
       "version_major": 2,
       "version_minor": 0
      },
      "text/plain": [
       "Evaluate trees:   0%|          | 0/50 [00:00<?, ?/s]"
      ]
     },
     "metadata": {},
     "output_type": "display_data"
    },
    {
     "data": {
      "application/vnd.jupyter.widget-view+json": {
       "model_id": "1dd55952c0e948f29a1fb9e81776fb7c",
       "version_major": 2,
       "version_minor": 0
      },
      "text/plain": [
       "Train trees:   0%|          | 0/50 [00:00<?, ?it/s]"
      ]
     },
     "metadata": {},
     "output_type": "display_data"
    },
    {
     "data": {
      "application/vnd.jupyter.widget-view+json": {
       "model_id": "029893adeea3427c84fb11988a692fdc",
       "version_major": 2,
       "version_minor": 0
      },
      "text/plain": [
       "Evaluate trees:   0%|          | 0/50 [00:00<?, ?/s]"
      ]
     },
     "metadata": {},
     "output_type": "display_data"
    },
    {
     "data": {
      "application/vnd.jupyter.widget-view+json": {
       "model_id": "8e87431293e84f90b0fed02c502f7cac",
       "version_major": 2,
       "version_minor": 0
      },
      "text/plain": [
       "Train trees:   0%|          | 0/50 [00:00<?, ?it/s]"
      ]
     },
     "metadata": {},
     "output_type": "display_data"
    },
    {
     "data": {
      "application/vnd.jupyter.widget-view+json": {
       "model_id": "d4dc9b693f0f4a4fb23730385644aeb9",
       "version_major": 2,
       "version_minor": 0
      },
      "text/plain": [
       "Evaluate trees:   0%|          | 0/50 [00:00<?, ?/s]"
      ]
     },
     "metadata": {},
     "output_type": "display_data"
    },
    {
     "name": "stdout",
     "output_type": "stream",
     "text": [
      "\t Iteratively add genes from DE_baseline_forest...\n",
      "Adding genes from reference tree...\n",
      "Train final trees on all celltypes, now with the added genes...\n"
     ]
    },
    {
     "data": {
      "application/vnd.jupyter.widget-view+json": {
       "model_id": "c113e9a13816437796001558226b3e57",
       "version_major": 2,
       "version_minor": 0
      },
      "text/plain": [
       "Train hierarchical trees:   0%|          | 0/3 [00:00<?, ?it/s]"
      ]
     },
     "metadata": {},
     "output_type": "display_data"
    },
    {
     "data": {
      "application/vnd.jupyter.widget-view+json": {
       "model_id": "5709532a74bb423c8b9466da47ae815f",
       "version_major": 2,
       "version_minor": 0
      },
      "text/plain": [
       "Train trees:   0%|          | 0/50 [00:00<?, ?it/s]"
      ]
     },
     "metadata": {},
     "output_type": "display_data"
    },
    {
     "data": {
      "application/vnd.jupyter.widget-view+json": {
       "model_id": "d065825c6aa14f25b15ea3706c1ea139",
       "version_major": 2,
       "version_minor": 0
      },
      "text/plain": [
       "Evaluate trees:   0%|          | 0/50 [00:00<?, ?/s]"
      ]
     },
     "metadata": {},
     "output_type": "display_data"
    },
    {
     "data": {
      "application/vnd.jupyter.widget-view+json": {
       "model_id": "39ec745096724a93a48919aef261e53b",
       "version_major": 2,
       "version_minor": 0
      },
      "text/plain": [
       "Train trees:   0%|          | 0/50 [00:00<?, ?it/s]"
      ]
     },
     "metadata": {},
     "output_type": "display_data"
    },
    {
     "data": {
      "application/vnd.jupyter.widget-view+json": {
       "model_id": "37463f417a4e400580a0aa70348ec23f",
       "version_major": 2,
       "version_minor": 0
      },
      "text/plain": [
       "Evaluate trees:   0%|          | 0/50 [00:00<?, ?/s]"
      ]
     },
     "metadata": {},
     "output_type": "display_data"
    },
    {
     "data": {
      "application/vnd.jupyter.widget-view+json": {
       "model_id": "b7b39435ed084d0a92df09c2f6c0f06e",
       "version_major": 2,
       "version_minor": 0
      },
      "text/plain": [
       "Train trees:   0%|          | 0/50 [00:00<?, ?it/s]"
      ]
     },
     "metadata": {},
     "output_type": "display_data"
    },
    {
     "data": {
      "application/vnd.jupyter.widget-view+json": {
       "model_id": "da47d0b0128f4d23ad5918beecc1ef72",
       "version_major": 2,
       "version_minor": 0
      },
      "text/plain": [
       "Evaluate trees:   0%|          | 0/50 [00:00<?, ?/s]"
      ]
     },
     "metadata": {},
     "output_type": "display_data"
    },
    {
     "name": "stdout",
     "output_type": "stream",
     "text": [
      "\t Finished...\n"
     ]
    }
   ],
   "source": [
    "# invoke the central method\n",
    "selector.select_probeset()\n"
   ]
  },
  {
   "cell_type": "markdown",
   "metadata": {},
   "source": [
    "The selected probeset can be examined like this: "
   ]
  },
  {
   "cell_type": "code",
   "execution_count": 6,
   "metadata": {
    "scrolled": false
   },
   "outputs": [
    {
     "data": {
      "text/html": [
       "<div>\n",
       "<style scoped>\n",
       "    .dataframe tbody tr th:only-of-type {\n",
       "        vertical-align: middle;\n",
       "    }\n",
       "\n",
       "    .dataframe tbody tr th {\n",
       "        vertical-align: top;\n",
       "    }\n",
       "\n",
       "    .dataframe thead th {\n",
       "        text-align: right;\n",
       "    }\n",
       "</style>\n",
       "<table border=\"1\" class=\"dataframe\">\n",
       "  <thead>\n",
       "    <tr style=\"text-align: right;\">\n",
       "      <th></th>\n",
       "      <th>gene_nr</th>\n",
       "      <th>selection</th>\n",
       "      <th>rank</th>\n",
       "      <th>marker_rank</th>\n",
       "      <th>tree_rank</th>\n",
       "      <th>importance_score</th>\n",
       "      <th>pca_score</th>\n",
       "      <th>pre_selected</th>\n",
       "      <th>prior_selected</th>\n",
       "      <th>pca_selected</th>\n",
       "      <th>celltypes_DE_1vsall</th>\n",
       "      <th>celltypes_DE_specific</th>\n",
       "      <th>celltypes_DE</th>\n",
       "      <th>celltypes_marker</th>\n",
       "      <th>list_only_ct_marker</th>\n",
       "      <th>required_marker</th>\n",
       "      <th>required_list_marker</th>\n",
       "    </tr>\n",
       "  </thead>\n",
       "  <tbody>\n",
       "    <tr>\n",
       "      <th>PF4</th>\n",
       "      <td>1</td>\n",
       "      <td>True</td>\n",
       "      <td>1.0</td>\n",
       "      <td>1.0</td>\n",
       "      <td>1.0</td>\n",
       "      <td>1.000000</td>\n",
       "      <td>0.592255</td>\n",
       "      <td>False</td>\n",
       "      <td>False</td>\n",
       "      <td>True</td>\n",
       "      <td>celltype_4</td>\n",
       "      <td></td>\n",
       "      <td>celltype_4</td>\n",
       "      <td>celltype_4</td>\n",
       "      <td>False</td>\n",
       "      <td>True</td>\n",
       "      <td>False</td>\n",
       "    </tr>\n",
       "    <tr>\n",
       "      <th>CD79A</th>\n",
       "      <td>2</td>\n",
       "      <td>True</td>\n",
       "      <td>1.0</td>\n",
       "      <td>1.0</td>\n",
       "      <td>1.0</td>\n",
       "      <td>0.801244</td>\n",
       "      <td>1.080057</td>\n",
       "      <td>False</td>\n",
       "      <td>False</td>\n",
       "      <td>True</td>\n",
       "      <td>celltype_7</td>\n",
       "      <td></td>\n",
       "      <td>celltype_7</td>\n",
       "      <td>celltype_7</td>\n",
       "      <td>False</td>\n",
       "      <td>True</td>\n",
       "      <td>False</td>\n",
       "    </tr>\n",
       "    <tr>\n",
       "      <th>NKG7</th>\n",
       "      <td>3</td>\n",
       "      <td>True</td>\n",
       "      <td>1.0</td>\n",
       "      <td>1.0</td>\n",
       "      <td>1.0</td>\n",
       "      <td>0.797264</td>\n",
       "      <td>1.537249</td>\n",
       "      <td>False</td>\n",
       "      <td>False</td>\n",
       "      <td>True</td>\n",
       "      <td>celltype_3</td>\n",
       "      <td></td>\n",
       "      <td>celltype_3</td>\n",
       "      <td>celltype_3</td>\n",
       "      <td>False</td>\n",
       "      <td>True</td>\n",
       "      <td>False</td>\n",
       "    </tr>\n",
       "    <tr>\n",
       "      <th>LST1</th>\n",
       "      <td>4</td>\n",
       "      <td>True</td>\n",
       "      <td>1.0</td>\n",
       "      <td>1.0</td>\n",
       "      <td>1.0</td>\n",
       "      <td>0.757414</td>\n",
       "      <td>1.350033</td>\n",
       "      <td>False</td>\n",
       "      <td>False</td>\n",
       "      <td>True</td>\n",
       "      <td>celltype_2</td>\n",
       "      <td></td>\n",
       "      <td>celltype_2</td>\n",
       "      <td>celltype_2</td>\n",
       "      <td>False</td>\n",
       "      <td>True</td>\n",
       "      <td>False</td>\n",
       "    </tr>\n",
       "    <tr>\n",
       "      <th>LTB</th>\n",
       "      <td>5</td>\n",
       "      <td>True</td>\n",
       "      <td>1.0</td>\n",
       "      <td>1.0</td>\n",
       "      <td>1.0</td>\n",
       "      <td>0.540410</td>\n",
       "      <td>3.274603</td>\n",
       "      <td>False</td>\n",
       "      <td>False</td>\n",
       "      <td>True</td>\n",
       "      <td>celltype_6</td>\n",
       "      <td></td>\n",
       "      <td>celltype_6</td>\n",
       "      <td>celltype_6</td>\n",
       "      <td>False</td>\n",
       "      <td>True</td>\n",
       "      <td>False</td>\n",
       "    </tr>\n",
       "    <tr>\n",
       "      <th>...</th>\n",
       "      <td>...</td>\n",
       "      <td>...</td>\n",
       "      <td>...</td>\n",
       "      <td>...</td>\n",
       "      <td>...</td>\n",
       "      <td>...</td>\n",
       "      <td>...</td>\n",
       "      <td>...</td>\n",
       "      <td>...</td>\n",
       "      <td>...</td>\n",
       "      <td>...</td>\n",
       "      <td>...</td>\n",
       "      <td>...</td>\n",
       "      <td>...</td>\n",
       "      <td>...</td>\n",
       "      <td>...</td>\n",
       "      <td>...</td>\n",
       "    </tr>\n",
       "    <tr>\n",
       "      <th>RP11-285J16.1</th>\n",
       "      <td>1996</td>\n",
       "      <td>False</td>\n",
       "      <td>NaN</td>\n",
       "      <td>NaN</td>\n",
       "      <td>NaN</td>\n",
       "      <td>NaN</td>\n",
       "      <td>0.002660</td>\n",
       "      <td>False</td>\n",
       "      <td>False</td>\n",
       "      <td>False</td>\n",
       "      <td></td>\n",
       "      <td></td>\n",
       "      <td></td>\n",
       "      <td></td>\n",
       "      <td>False</td>\n",
       "      <td>False</td>\n",
       "      <td>False</td>\n",
       "    </tr>\n",
       "    <tr>\n",
       "      <th>RP5-1112D6.8</th>\n",
       "      <td>1997</td>\n",
       "      <td>False</td>\n",
       "      <td>NaN</td>\n",
       "      <td>NaN</td>\n",
       "      <td>NaN</td>\n",
       "      <td>NaN</td>\n",
       "      <td>0.002565</td>\n",
       "      <td>False</td>\n",
       "      <td>False</td>\n",
       "      <td>False</td>\n",
       "      <td></td>\n",
       "      <td></td>\n",
       "      <td></td>\n",
       "      <td></td>\n",
       "      <td>False</td>\n",
       "      <td>False</td>\n",
       "      <td>False</td>\n",
       "    </tr>\n",
       "    <tr>\n",
       "      <th>AC123023.1</th>\n",
       "      <td>1998</td>\n",
       "      <td>False</td>\n",
       "      <td>NaN</td>\n",
       "      <td>NaN</td>\n",
       "      <td>NaN</td>\n",
       "      <td>NaN</td>\n",
       "      <td>0.002565</td>\n",
       "      <td>False</td>\n",
       "      <td>False</td>\n",
       "      <td>False</td>\n",
       "      <td></td>\n",
       "      <td></td>\n",
       "      <td></td>\n",
       "      <td></td>\n",
       "      <td>False</td>\n",
       "      <td>False</td>\n",
       "      <td>False</td>\n",
       "    </tr>\n",
       "    <tr>\n",
       "      <th>YEATS2-AS1</th>\n",
       "      <td>1999</td>\n",
       "      <td>False</td>\n",
       "      <td>NaN</td>\n",
       "      <td>NaN</td>\n",
       "      <td>NaN</td>\n",
       "      <td>NaN</td>\n",
       "      <td>0.002433</td>\n",
       "      <td>False</td>\n",
       "      <td>False</td>\n",
       "      <td>False</td>\n",
       "      <td></td>\n",
       "      <td></td>\n",
       "      <td></td>\n",
       "      <td></td>\n",
       "      <td>False</td>\n",
       "      <td>False</td>\n",
       "      <td>False</td>\n",
       "    </tr>\n",
       "    <tr>\n",
       "      <th>GGT6</th>\n",
       "      <td>2000</td>\n",
       "      <td>False</td>\n",
       "      <td>NaN</td>\n",
       "      <td>NaN</td>\n",
       "      <td>NaN</td>\n",
       "      <td>NaN</td>\n",
       "      <td>0.002312</td>\n",
       "      <td>False</td>\n",
       "      <td>False</td>\n",
       "      <td>False</td>\n",
       "      <td></td>\n",
       "      <td></td>\n",
       "      <td></td>\n",
       "      <td></td>\n",
       "      <td>False</td>\n",
       "      <td>False</td>\n",
       "      <td>False</td>\n",
       "    </tr>\n",
       "  </tbody>\n",
       "</table>\n",
       "<p>2000 rows × 17 columns</p>\n",
       "</div>"
      ],
      "text/plain": [
       "               gene_nr  selection  rank  marker_rank  tree_rank  \\\n",
       "PF4                  1       True   1.0          1.0        1.0   \n",
       "CD79A                2       True   1.0          1.0        1.0   \n",
       "NKG7                 3       True   1.0          1.0        1.0   \n",
       "LST1                 4       True   1.0          1.0        1.0   \n",
       "LTB                  5       True   1.0          1.0        1.0   \n",
       "...                ...        ...   ...          ...        ...   \n",
       "RP11-285J16.1     1996      False   NaN          NaN        NaN   \n",
       "RP5-1112D6.8      1997      False   NaN          NaN        NaN   \n",
       "AC123023.1        1998      False   NaN          NaN        NaN   \n",
       "YEATS2-AS1        1999      False   NaN          NaN        NaN   \n",
       "GGT6              2000      False   NaN          NaN        NaN   \n",
       "\n",
       "               importance_score  pca_score  pre_selected  prior_selected  \\\n",
       "PF4                    1.000000   0.592255         False           False   \n",
       "CD79A                  0.801244   1.080057         False           False   \n",
       "NKG7                   0.797264   1.537249         False           False   \n",
       "LST1                   0.757414   1.350033         False           False   \n",
       "LTB                    0.540410   3.274603         False           False   \n",
       "...                         ...        ...           ...             ...   \n",
       "RP11-285J16.1               NaN   0.002660         False           False   \n",
       "RP5-1112D6.8                NaN   0.002565         False           False   \n",
       "AC123023.1                  NaN   0.002565         False           False   \n",
       "YEATS2-AS1                  NaN   0.002433         False           False   \n",
       "GGT6                        NaN   0.002312         False           False   \n",
       "\n",
       "               pca_selected celltypes_DE_1vsall celltypes_DE_specific  \\\n",
       "PF4                    True          celltype_4                         \n",
       "CD79A                  True          celltype_7                         \n",
       "NKG7                   True          celltype_3                         \n",
       "LST1                   True          celltype_2                         \n",
       "LTB                    True          celltype_6                         \n",
       "...                     ...                 ...                   ...   \n",
       "RP11-285J16.1         False                                             \n",
       "RP5-1112D6.8          False                                             \n",
       "AC123023.1            False                                             \n",
       "YEATS2-AS1            False                                             \n",
       "GGT6                  False                                             \n",
       "\n",
       "              celltypes_DE celltypes_marker  list_only_ct_marker  \\\n",
       "PF4             celltype_4       celltype_4                False   \n",
       "CD79A           celltype_7       celltype_7                False   \n",
       "NKG7            celltype_3       celltype_3                False   \n",
       "LST1            celltype_2       celltype_2                False   \n",
       "LTB             celltype_6       celltype_6                False   \n",
       "...                    ...              ...                  ...   \n",
       "RP11-285J16.1                                              False   \n",
       "RP5-1112D6.8                                               False   \n",
       "AC123023.1                                                 False   \n",
       "YEATS2-AS1                                                 False   \n",
       "GGT6                                                       False   \n",
       "\n",
       "               required_marker  required_list_marker  \n",
       "PF4                       True                 False  \n",
       "CD79A                     True                 False  \n",
       "NKG7                      True                 False  \n",
       "LST1                      True                 False  \n",
       "LTB                       True                 False  \n",
       "...                        ...                   ...  \n",
       "RP11-285J16.1            False                 False  \n",
       "RP5-1112D6.8             False                 False  \n",
       "AC123023.1               False                 False  \n",
       "YEATS2-AS1               False                 False  \n",
       "GGT6                     False                 False  \n",
       "\n",
       "[2000 rows x 17 columns]"
      ]
     },
     "execution_count": 6,
     "metadata": {},
     "output_type": "execute_result"
    }
   ],
   "source": [
    "selected_probeset = selector.probeset\n",
    "selected_probeset"
   ]
  },
  {
   "cell_type": "code",
   "execution_count": 7,
   "metadata": {},
   "outputs": [
    {
     "data": {
      "text/plain": [
       "Index(['PF4', 'CD79A', 'NKG7', 'LST1', 'LTB', 'LYZ', 'CD74', 'FCGR3A', 'CCL5',\n",
       "       'S100A8', 'HLA-DRA', 'FGFBP2', 'HLA-DPA1', 'IL32', 'FCER1G', 'MS4A7',\n",
       "       'TYROBP', 'GPX1', 'CD14', 'MS4A1', 'IL7R', 'HLA-DRB5', 'TCL1A',\n",
       "       'SERPINA1', 'GZMK', 'GNLY', 'CITED2', 'STXBP2', 'CD68', 'PSAP',\n",
       "       'IFITM3', 'CD7', 'CPVL', 'CD8B', 'PPBP'],\n",
       "      dtype='object')"
      ]
     },
     "execution_count": 7,
     "metadata": {},
     "output_type": "execute_result"
    }
   ],
   "source": [
    "# list of the selected genes: \n",
    "selected_probeset.index[selected_probeset.selection]"
   ]
  },
  {
   "cell_type": "markdown",
   "metadata": {},
   "source": [
    "## Vizualize the results"
   ]
  },
  {
   "cell_type": "code",
   "execution_count": 8,
   "metadata": {
    "scrolled": true
   },
   "outputs": [
    {
     "data": {
      "image/png": "[encoded data removed]",
      "text/plain": [
       "<Figure size 1015.2x279.36 with 7 Axes>"
      ]
     },
     "metadata": {
      "needs_background": "light"
     },
     "output_type": "display_data"
    }
   ],
   "source": [
    "pl.masked_dotplot(adata, selector)"
   ]
  }
 ],
 "metadata": {
  "celltoolbar": "Raw Cell Format",
  "kernelspec": {
   "display_name": "Python3.8 (spapros)",
   "language": "python",
   "name": "spapros"
  },
  "language_info": {
   "codemirror_mode": {
    "name": "ipython",
    "version": 3
   },
   "file_extension": ".py",
   "mimetype": "text/x-python",
   "name": "python",
   "nbconvert_exporter": "python",
   "pygments_lexer": "ipython3",
   "version": "3.8.12"
  },
  "latex_envs": {
   "LaTeX_envs_menu_present": true,
   "autoclose": false,
   "autocomplete": true,
   "bibliofile": "biblio.bib",
   "cite_by": "apalike",
   "current_citInitial": 1,
   "eqLabelWithNumbers": true,
   "eqNumInitial": 1,
   "hotkeys": {
    "equation": "Ctrl-E",
    "itemize": "Ctrl-I"
   },
   "labels_anchors": false,
   "latex_user_defs": false,
   "report_style_numbering": false,
   "user_envs_cfg": false
  },
  "pycharm": {
   "stem_cell": {
    "cell_type": "raw",
    "metadata": {
     "collapsed": false
    },
    "source": [
     "%matplotlib inline\n"
    ]
   }
  }
 },
 "nbformat": 4,
 "nbformat_minor": 1
}
