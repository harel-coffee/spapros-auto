{
 "cells": [
  {
   "cell_type": "markdown",
   "metadata": {
    "collapsed": true,
    "pycharm": {
     "name": "#%% md\n"
    }
   },
   "source": [
    "# Spapros Tutorial: Probeset and reference selection and comparative evaluation\n",
    "\n",
    "This tutorial shows how to select a gene probeset with spapros. Additionally, reference probesets are selected. Finally, all gene sets are evaluated and compared.\n",
    "\n",
    "The used dataset contains 3k PBMCs from a healthy donor and is publicly available from\n",
    "[10x Genomics](https://support.10xgenomics.com/single-cell-gene-expression/datasets/1.1.0/pbmc3k)\n",
    "[here](http://cf.10xgenomics.com/samples/cell-exp/1.1.0/pbmc3k/pbmc3k_filtered_gene_bc_matrices.tar.gz).\n",
    "It is also available via scanpy [here](https://scanpy.readthedocs.io/en/stable/generated/scanpy.datasets.pbmc3k.html#scanpy.datasets.pbmc3k).\n",
    "\n",
    "The dataset was preprocessed following the [scanpy pipeline](https://scanpy-tutorials.readthedocs.io/en/latest/pbmc3k.html).\n",
    "\n",
    "The preprocessed Anndata consists of raw single cell RNAseq counts of 2000 genes for 2700 cells."
   ]
  },
  {
   "cell_type": "markdown",
   "metadata": {},
   "source": [
    "## Import packages and data\n",
    "\n",
    "To run the notebook locally, create a conda environment using this [environment.yaml](TODO link):\n",
    "\n",
    "    conda create -f environment.yaml\n",
    "\n",
    "Then add the conda environment as ipython kernel:\n",
    "\n",
    "    python -m ipykernel install --user --name spapros --display-name Python (spapros)\n",
    "\n"
   ]
  },
  {
   "cell_type": "code",
   "execution_count": 1,
   "metadata": {
    "pycharm": {
     "is_executing": true,
     "name": "#%%\n"
    }
   },
   "outputs": [
    {
     "name": "stderr",
     "output_type": "stream",
     "text": [
      "/big/st/strasserl/spapros/spapros/selection/selection_procedure.py:14: TqdmExperimentalWarning: Using `tqdm.autonotebook.tqdm` in notebook mode. Use `tqdm.tqdm` instead to force console mode (e.g. in jupyter console)\n",
      "  from tqdm.autonotebook import tqdm\n"
     ]
    }
   ],
   "source": [
    "import spapros\n",
    "from spapros import ProbesetSelector, ProbesetEvaluator, pl\n",
    "from IPython.display import clear_output\n",
    "import scanpy as sc\n",
    "import pandas as pd\n",
    "import os\n",
    "import yaml"
   ]
  },
  {
   "cell_type": "code",
   "execution_count": 2,
   "metadata": {
    "pycharm": {
     "name": "#%%\n"
    }
   },
   "outputs": [
    {
     "name": "stdout",
     "output_type": "stream",
     "text": [
      "scanpy==1.8.1 anndata==0.7.8 umap==0.5.2 numpy==1.21.4 scipy==1.7.2 pandas==1.3.4 scikit-learn==1.0.1 statsmodels==0.13.1 python-igraph==0.9.8 pynndescent==0.5.5\n",
      "spapros==0.1.0\n"
     ]
    }
   ],
   "source": [
    "sc.settings.verbosity = 1\n",
    "sc.logging.print_header()\n",
    "print(f\"spapros=={spapros.__version__}\")"
   ]
  },
  {
   "cell_type": "code",
   "execution_count": 3,
   "metadata": {
    "pycharm": {
     "name": "#%%\n"
    },
    "scrolled": false
   },
   "outputs": [
    {
     "data": {
      "text/plain": [
       "AnnData object with n_obs × n_vars = 2700 × 2000\n",
       "    obs: 'n_genes', 'size_factors', 'leiden', 'celltype', 'tissue'\n",
       "    var: 'gene_ids', 'n_cells', 'highly_variable', 'quantile_0.85', 'quantile_0.9', 'quantile_0.95', 'quantile_0.99'\n",
       "    uns: 'log1p'"
      ]
     },
     "execution_count": 3,
     "metadata": {},
     "output_type": "execute_result"
    }
   ],
   "source": [
    "# Load the dataset\n",
    "adata = sc.read_h5ad(\"../data/small_data_raw_counts.h5ad\")\n",
    "sc.pp.log1p(adata)\n",
    "adata\n"
   ]
  },
  {
   "cell_type": "markdown",
   "metadata": {},
   "source": [
    "## Start the selection\n",
    "\n",
    "Here, we add several basic selection methods to create reference probe sets:\n",
    "- pca\n",
    "- hvg\n",
    "- de\n",
    "- random \n",
    "\n",
    "Thus, we will have 5 probsets in the end."
   ]
  },
  {
   "cell_type": "code",
   "execution_count": 4,
   "metadata": {},
   "outputs": [
    {
     "name": "stdout",
     "output_type": "stream",
     "text": [
      "The following celltypes' test set sizes for forest training are below min_test_n (=20):\n",
      "\t celltype_4 : 5\n",
      "\t celltype_5 : 9\n",
      "\t celltype_8 : 1\n"
     ]
    }
   ],
   "source": [
    "# create an instance of the ProbesetSelector class\n",
    "selector = ProbesetSelector(adata, n=50, celltype_key = \"celltype\", reference_selections=[\"hvg\", \"random\", \"pca\", \"de\"])"
   ]
  },
  {
   "cell_type": "code",
   "execution_count": 5,
   "metadata": {
    "scrolled": true
   },
   "outputs": [
    {
     "name": "stdout",
     "output_type": "stream",
     "text": [
      "Select pca genes...\n",
      "\t ...finished.\n",
      "Select genes based on differential expression and forests as baseline for the final forests...\n",
      "\t Select differentially expressed genes...\n",
      "\t\t ...finished.\n",
      "\t Train trees on DE selected genes as prior forest for the DE_baseline forest...\n"
     ]
    },
    {
     "data": {
      "application/vnd.jupyter.widget-view+json": {
       "model_id": "a872e07552d345aca0faa6516dcf2301",
       "version_major": 2,
       "version_minor": 0
      },
      "text/plain": [
       "Train hierarchical trees:   0%|          | 0/3 [00:00<?, ?it/s]"
      ]
     },
     "metadata": {},
     "output_type": "display_data"
    },
    {
     "name": "stderr",
     "output_type": "stream",
     "text": [
      "/big/st/strasserl/spapros/spapros/evaluation/evaluation.py:1034: UserWarning: Zero cells of celltype celltype_8 in train or test set. No tree is calculated for celltype celltype_8.\n",
      "  warnings.warn(f\"Zero cells of celltype {c} in train or test set. No tree is calculated for celltype {c}.\")\n",
      "/big/st/strasserl/spapros/spapros/evaluation/evaluation.py:1036: UserWarning: Zero cells of celltype celltype_8 in train or test set. Celltype celltype_8 is not included as reference celltype.\n",
      "  warnings.warn(\n"
     ]
    },
    {
     "data": {
      "application/vnd.jupyter.widget-view+json": {
       "model_id": "e0913dbe2125401e82006b9db2d65c91",
       "version_major": 2,
       "version_minor": 0
      },
      "text/plain": [
       "Train trees:   0%|          | 0/50 [00:00<?, ?it/s]"
      ]
     },
     "metadata": {},
     "output_type": "display_data"
    },
    {
     "data": {
      "application/vnd.jupyter.widget-view+json": {
       "model_id": "e4778042cd3346e3b7b765efdf4243e2",
       "version_major": 2,
       "version_minor": 0
      },
      "text/plain": [
       "Evaluate trees:   0%|          | 0/50 [00:00<?, ?/s]"
      ]
     },
     "metadata": {},
     "output_type": "display_data"
    },
    {
     "data": {
      "application/vnd.jupyter.widget-view+json": {
       "model_id": "fcf2e430db27482ba7229d3c0f2ed0bd",
       "version_major": 2,
       "version_minor": 0
      },
      "text/plain": [
       "Train trees:   0%|          | 0/50 [00:00<?, ?it/s]"
      ]
     },
     "metadata": {},
     "output_type": "display_data"
    },
    {
     "data": {
      "application/vnd.jupyter.widget-view+json": {
       "model_id": "cd98c5a98b2748249c2e87c751ce183f",
       "version_major": 2,
       "version_minor": 0
      },
      "text/plain": [
       "Evaluate trees:   0%|          | 0/50 [00:00<?, ?/s]"
      ]
     },
     "metadata": {},
     "output_type": "display_data"
    },
    {
     "data": {
      "application/vnd.jupyter.widget-view+json": {
       "model_id": "d8719d5640cf471c921063c98f7106f5",
       "version_major": 2,
       "version_minor": 0
      },
      "text/plain": [
       "Train trees:   0%|          | 0/50 [00:00<?, ?it/s]"
      ]
     },
     "metadata": {},
     "output_type": "display_data"
    },
    {
     "data": {
      "application/vnd.jupyter.widget-view+json": {
       "model_id": "1488e754a74d48b98a0a0f74c83400a3",
       "version_major": 2,
       "version_minor": 0
      },
      "text/plain": [
       "Evaluate trees:   0%|          | 0/50 [00:00<?, ?/s]"
      ]
     },
     "metadata": {},
     "output_type": "display_data"
    },
    {
     "name": "stdout",
     "output_type": "stream",
     "text": [
      "\t Train DE_baseline forest by iteratively selecting specific differentially expressed genes for celltypes that are hard to distinguish...\n",
      "Add DE genes with specific reference groups to improve tree performance...\n",
      "  Iteration step 1:\n",
      "\t Select DE genes...\n",
      "\t Train decision trees on celltypes:\n",
      "\t\t ['celltype_1', 'celltype_2', 'celltype_3', 'celltype_6']\n"
     ]
    },
    {
     "data": {
      "application/vnd.jupyter.widget-view+json": {
       "model_id": "e4698737e28f49c5b86fa959035c80ae",
       "version_major": 2,
       "version_minor": 0
      },
      "text/plain": [
       "Train hierarchical trees:   0%|          | 0/3 [00:00<?, ?it/s]"
      ]
     },
     "metadata": {},
     "output_type": "display_data"
    },
    {
     "data": {
      "application/vnd.jupyter.widget-view+json": {
       "model_id": "2a08b27972434010ba959f481fb45fdb",
       "version_major": 2,
       "version_minor": 0
      },
      "text/plain": [
       "Train trees:   0%|          | 0/50 [00:00<?, ?it/s]"
      ]
     },
     "metadata": {},
     "output_type": "display_data"
    },
    {
     "data": {
      "application/vnd.jupyter.widget-view+json": {
       "model_id": "b3d541fdacac414db17171b444f17d55",
       "version_major": 2,
       "version_minor": 0
      },
      "text/plain": [
       "Evaluate trees:   0%|          | 0/50 [00:00<?, ?/s]"
      ]
     },
     "metadata": {},
     "output_type": "display_data"
    },
    {
     "data": {
      "application/vnd.jupyter.widget-view+json": {
       "model_id": "14a44e2513a74e48b553b0ddb32be614",
       "version_major": 2,
       "version_minor": 0
      },
      "text/plain": [
       "Train trees:   0%|          | 0/50 [00:00<?, ?it/s]"
      ]
     },
     "metadata": {},
     "output_type": "display_data"
    },
    {
     "data": {
      "application/vnd.jupyter.widget-view+json": {
       "model_id": "3178ac68bfe244289b6d230cd5d08ab5",
       "version_major": 2,
       "version_minor": 0
      },
      "text/plain": [
       "Evaluate trees:   0%|          | 0/50 [00:00<?, ?/s]"
      ]
     },
     "metadata": {},
     "output_type": "display_data"
    },
    {
     "data": {
      "application/vnd.jupyter.widget-view+json": {
       "model_id": "9c65a528cc714cf9ab0cff886ddc850c",
       "version_major": 2,
       "version_minor": 0
      },
      "text/plain": [
       "Train trees:   0%|          | 0/50 [00:00<?, ?it/s]"
      ]
     },
     "metadata": {},
     "output_type": "display_data"
    },
    {
     "data": {
      "application/vnd.jupyter.widget-view+json": {
       "model_id": "d0bd77eb9e0e462694e4fbeca31db273",
       "version_major": 2,
       "version_minor": 0
      },
      "text/plain": [
       "Evaluate trees:   0%|          | 0/50 [00:00<?, ?/s]"
      ]
     },
     "metadata": {},
     "output_type": "display_data"
    },
    {
     "name": "stdout",
     "output_type": "stream",
     "text": [
      "\t\t Training finished.\n",
      "  Iteration step 2:\n",
      "\t Select DE genes...\n",
      "\t Train decision trees on celltypes:\n",
      "\t\t ['celltype_1', 'celltype_3', 'celltype_6']\n"
     ]
    },
    {
     "data": {
      "application/vnd.jupyter.widget-view+json": {
       "model_id": "ae2995b289f5442888e1a890fa0e825e",
       "version_major": 2,
       "version_minor": 0
      },
      "text/plain": [
       "Train hierarchical trees:   0%|          | 0/3 [00:00<?, ?it/s]"
      ]
     },
     "metadata": {},
     "output_type": "display_data"
    },
    {
     "data": {
      "application/vnd.jupyter.widget-view+json": {
       "model_id": "e45045a279d144339ac364da56bec3f5",
       "version_major": 2,
       "version_minor": 0
      },
      "text/plain": [
       "Train trees:   0%|          | 0/50 [00:00<?, ?it/s]"
      ]
     },
     "metadata": {},
     "output_type": "display_data"
    },
    {
     "data": {
      "application/vnd.jupyter.widget-view+json": {
       "model_id": "e0d1f88d3def4300bc8c1e9fc89a2277",
       "version_major": 2,
       "version_minor": 0
      },
      "text/plain": [
       "Evaluate trees:   0%|          | 0/50 [00:00<?, ?/s]"
      ]
     },
     "metadata": {},
     "output_type": "display_data"
    },
    {
     "data": {
      "application/vnd.jupyter.widget-view+json": {
       "model_id": "dda20425f45b4e29aba80f104a652447",
       "version_major": 2,
       "version_minor": 0
      },
      "text/plain": [
       "Train trees:   0%|          | 0/50 [00:00<?, ?it/s]"
      ]
     },
     "metadata": {},
     "output_type": "display_data"
    },
    {
     "data": {
      "application/vnd.jupyter.widget-view+json": {
       "model_id": "cfaefe10f7704925969e60f0f06977b8",
       "version_major": 2,
       "version_minor": 0
      },
      "text/plain": [
       "Evaluate trees:   0%|          | 0/50 [00:00<?, ?/s]"
      ]
     },
     "metadata": {},
     "output_type": "display_data"
    },
    {
     "data": {
      "application/vnd.jupyter.widget-view+json": {
       "model_id": "84d9128b2cc243e3adfd72f813c81d3b",
       "version_major": 2,
       "version_minor": 0
      },
      "text/plain": [
       "Train trees:   0%|          | 0/50 [00:00<?, ?it/s]"
      ]
     },
     "metadata": {},
     "output_type": "display_data"
    },
    {
     "data": {
      "application/vnd.jupyter.widget-view+json": {
       "model_id": "e74e3dafb97e47c9b8213617323e1603",
       "version_major": 2,
       "version_minor": 0
      },
      "text/plain": [
       "Evaluate trees:   0%|          | 0/50 [00:00<?, ?/s]"
      ]
     },
     "metadata": {},
     "output_type": "display_data"
    },
    {
     "name": "stdout",
     "output_type": "stream",
     "text": [
      "\t\t Training finished.\n",
      "  Iteration step 3:\n",
      "\t Select DE genes...\n",
      "\t Train decision trees on celltypes:\n",
      "\t\t ['celltype_1', 'celltype_3', 'celltype_6']\n"
     ]
    },
    {
     "data": {
      "application/vnd.jupyter.widget-view+json": {
       "model_id": "b33b1eb599974bf5ad2b8e3f9472b076",
       "version_major": 2,
       "version_minor": 0
      },
      "text/plain": [
       "Train hierarchical trees:   0%|          | 0/3 [00:00<?, ?it/s]"
      ]
     },
     "metadata": {},
     "output_type": "display_data"
    },
    {
     "data": {
      "application/vnd.jupyter.widget-view+json": {
       "model_id": "0b2560a81fec4983b88f21efeb1044f8",
       "version_major": 2,
       "version_minor": 0
      },
      "text/plain": [
       "Train trees:   0%|          | 0/50 [00:00<?, ?it/s]"
      ]
     },
     "metadata": {},
     "output_type": "display_data"
    },
    {
     "data": {
      "application/vnd.jupyter.widget-view+json": {
       "model_id": "7492d9f5ef7044c78451d0e40d65dc79",
       "version_major": 2,
       "version_minor": 0
      },
      "text/plain": [
       "Evaluate trees:   0%|          | 0/50 [00:00<?, ?/s]"
      ]
     },
     "metadata": {},
     "output_type": "display_data"
    },
    {
     "data": {
      "application/vnd.jupyter.widget-view+json": {
       "model_id": "6e4cd63e20974854bd0d9625c2dcf40a",
       "version_major": 2,
       "version_minor": 0
      },
      "text/plain": [
       "Train trees:   0%|          | 0/50 [00:00<?, ?it/s]"
      ]
     },
     "metadata": {},
     "output_type": "display_data"
    },
    {
     "data": {
      "application/vnd.jupyter.widget-view+json": {
       "model_id": "79b59da906a74fc3a42bef47a75dd2d8",
       "version_major": 2,
       "version_minor": 0
      },
      "text/plain": [
       "Evaluate trees:   0%|          | 0/50 [00:00<?, ?/s]"
      ]
     },
     "metadata": {},
     "output_type": "display_data"
    },
    {
     "data": {
      "application/vnd.jupyter.widget-view+json": {
       "model_id": "adeebd88d6034031855ce48e2a52eb19",
       "version_major": 2,
       "version_minor": 0
      },
      "text/plain": [
       "Train trees:   0%|          | 0/50 [00:00<?, ?it/s]"
      ]
     },
     "metadata": {},
     "output_type": "display_data"
    },
    {
     "data": {
      "application/vnd.jupyter.widget-view+json": {
       "model_id": "4bde3a5547fa4ce4b89db5d784811eaa",
       "version_major": 2,
       "version_minor": 0
      },
      "text/plain": [
       "Evaluate trees:   0%|          | 0/50 [00:00<?, ?/s]"
      ]
     },
     "metadata": {},
     "output_type": "display_data"
    },
    {
     "name": "stdout",
     "output_type": "stream",
     "text": [
      "\t\t Training finished.\n",
      "Train final trees on all celltypes, now with the added genes...\n"
     ]
    },
    {
     "data": {
      "application/vnd.jupyter.widget-view+json": {
       "model_id": "b641f90e316f44d3a72d594e01d6b006",
       "version_major": 2,
       "version_minor": 0
      },
      "text/plain": [
       "Train hierarchical trees:   0%|          | 0/3 [00:00<?, ?it/s]"
      ]
     },
     "metadata": {},
     "output_type": "display_data"
    },
    {
     "data": {
      "application/vnd.jupyter.widget-view+json": {
       "model_id": "34cdab5556a74b61bd8c95c513de1bce",
       "version_major": 2,
       "version_minor": 0
      },
      "text/plain": [
       "Train trees:   0%|          | 0/50 [00:00<?, ?it/s]"
      ]
     },
     "metadata": {},
     "output_type": "display_data"
    },
    {
     "data": {
      "application/vnd.jupyter.widget-view+json": {
       "model_id": "abf946be44814db9be289f6e36ecfd5f",
       "version_major": 2,
       "version_minor": 0
      },
      "text/plain": [
       "Evaluate trees:   0%|          | 0/50 [00:00<?, ?/s]"
      ]
     },
     "metadata": {},
     "output_type": "display_data"
    },
    {
     "data": {
      "application/vnd.jupyter.widget-view+json": {
       "model_id": "7852c6cd61064d4882b92a36b91ee309",
       "version_major": 2,
       "version_minor": 0
      },
      "text/plain": [
       "Train trees:   0%|          | 0/50 [00:00<?, ?it/s]"
      ]
     },
     "metadata": {},
     "output_type": "display_data"
    },
    {
     "data": {
      "application/vnd.jupyter.widget-view+json": {
       "model_id": "5f525dea11b141c39da3df5227b47115",
       "version_major": 2,
       "version_minor": 0
      },
      "text/plain": [
       "Evaluate trees:   0%|          | 0/50 [00:00<?, ?/s]"
      ]
     },
     "metadata": {},
     "output_type": "display_data"
    },
    {
     "data": {
      "application/vnd.jupyter.widget-view+json": {
       "model_id": "1dc9c0b7acd84068831f9e16295e9041",
       "version_major": 2,
       "version_minor": 0
      },
      "text/plain": [
       "Train trees:   0%|          | 0/50 [00:00<?, ?it/s]"
      ]
     },
     "metadata": {},
     "output_type": "display_data"
    },
    {
     "data": {
      "application/vnd.jupyter.widget-view+json": {
       "model_id": "2c40e86d4675441199c3d9b165024320",
       "version_major": 2,
       "version_minor": 0
      },
      "text/plain": [
       "Evaluate trees:   0%|          | 0/50 [00:00<?, ?/s]"
      ]
     },
     "metadata": {},
     "output_type": "display_data"
    },
    {
     "name": "stdout",
     "output_type": "stream",
     "text": [
      "\t Finished...\n",
      "Train final forests by adding genes from the DE_baseline forest for celltypes with low performance...\n",
      "\t Train forest on pre/prior/pca selected genes...\n"
     ]
    },
    {
     "data": {
      "application/vnd.jupyter.widget-view+json": {
       "model_id": "c5004ec886db40529f6f688426729c2d",
       "version_major": 2,
       "version_minor": 0
      },
      "text/plain": [
       "Train hierarchical trees:   0%|          | 0/3 [00:00<?, ?it/s]"
      ]
     },
     "metadata": {},
     "output_type": "display_data"
    },
    {
     "data": {
      "application/vnd.jupyter.widget-view+json": {
       "model_id": "45b0553fb22b4dcca1e3e4ce2c8cf090",
       "version_major": 2,
       "version_minor": 0
      },
      "text/plain": [
       "Train trees:   0%|          | 0/50 [00:00<?, ?it/s]"
      ]
     },
     "metadata": {},
     "output_type": "display_data"
    },
    {
     "data": {
      "application/vnd.jupyter.widget-view+json": {
       "model_id": "01fa123a9f0e43bf95666a2ece9aa7d6",
       "version_major": 2,
       "version_minor": 0
      },
      "text/plain": [
       "Evaluate trees:   0%|          | 0/50 [00:00<?, ?/s]"
      ]
     },
     "metadata": {},
     "output_type": "display_data"
    },
    {
     "data": {
      "application/vnd.jupyter.widget-view+json": {
       "model_id": "7538f44ad71142bebbba4fa6a9c91cd4",
       "version_major": 2,
       "version_minor": 0
      },
      "text/plain": [
       "Train trees:   0%|          | 0/50 [00:00<?, ?it/s]"
      ]
     },
     "metadata": {},
     "output_type": "display_data"
    },
    {
     "data": {
      "application/vnd.jupyter.widget-view+json": {
       "model_id": "683fe2aaf9b84755bf66031b96b9db35",
       "version_major": 2,
       "version_minor": 0
      },
      "text/plain": [
       "Evaluate trees:   0%|          | 0/50 [00:00<?, ?/s]"
      ]
     },
     "metadata": {},
     "output_type": "display_data"
    },
    {
     "data": {
      "application/vnd.jupyter.widget-view+json": {
       "model_id": "2d0259219090429881b2ed8a94158a62",
       "version_major": 2,
       "version_minor": 0
      },
      "text/plain": [
       "Train trees:   0%|          | 0/50 [00:00<?, ?it/s]"
      ]
     },
     "metadata": {},
     "output_type": "display_data"
    },
    {
     "data": {
      "application/vnd.jupyter.widget-view+json": {
       "model_id": "458812beef6b4c7a906f400343a410ee",
       "version_major": 2,
       "version_minor": 0
      },
      "text/plain": [
       "Evaluate trees:   0%|          | 0/50 [00:00<?, ?/s]"
      ]
     },
     "metadata": {},
     "output_type": "display_data"
    },
    {
     "name": "stdout",
     "output_type": "stream",
     "text": [
      "\t Iteratively add genes from DE_baseline_forest...\n",
      "Adding genes from reference tree...\n",
      "Train final trees on all celltypes, now with the added genes...\n"
     ]
    },
    {
     "data": {
      "application/vnd.jupyter.widget-view+json": {
       "model_id": "e1851d7b90d5429bbf24bb6d403d14cc",
       "version_major": 2,
       "version_minor": 0
      },
      "text/plain": [
       "Train hierarchical trees:   0%|          | 0/3 [00:00<?, ?it/s]"
      ]
     },
     "metadata": {},
     "output_type": "display_data"
    },
    {
     "data": {
      "application/vnd.jupyter.widget-view+json": {
       "model_id": "e5e95f5d588a4161ba22ccd00bb1bea9",
       "version_major": 2,
       "version_minor": 0
      },
      "text/plain": [
       "Train trees:   0%|          | 0/50 [00:00<?, ?it/s]"
      ]
     },
     "metadata": {},
     "output_type": "display_data"
    },
    {
     "data": {
      "application/vnd.jupyter.widget-view+json": {
       "model_id": "9912dd46a8514f7daad3117d80d38557",
       "version_major": 2,
       "version_minor": 0
      },
      "text/plain": [
       "Evaluate trees:   0%|          | 0/50 [00:00<?, ?/s]"
      ]
     },
     "metadata": {},
     "output_type": "display_data"
    },
    {
     "data": {
      "application/vnd.jupyter.widget-view+json": {
       "model_id": "81bbf0cedec9452e8c872feea2030031",
       "version_major": 2,
       "version_minor": 0
      },
      "text/plain": [
       "Train trees:   0%|          | 0/50 [00:00<?, ?it/s]"
      ]
     },
     "metadata": {},
     "output_type": "display_data"
    },
    {
     "data": {
      "application/vnd.jupyter.widget-view+json": {
       "model_id": "54d7e37ed217420ab453f34d373be9bc",
       "version_major": 2,
       "version_minor": 0
      },
      "text/plain": [
       "Evaluate trees:   0%|          | 0/50 [00:00<?, ?/s]"
      ]
     },
     "metadata": {},
     "output_type": "display_data"
    },
    {
     "data": {
      "application/vnd.jupyter.widget-view+json": {
       "model_id": "eb99680b69be4cdd8299a3ce2b955a3d",
       "version_major": 2,
       "version_minor": 0
      },
      "text/plain": [
       "Train trees:   0%|          | 0/50 [00:00<?, ?it/s]"
      ]
     },
     "metadata": {},
     "output_type": "display_data"
    },
    {
     "data": {
      "application/vnd.jupyter.widget-view+json": {
       "model_id": "714806e695ed4b2ea0efdadabfc61d01",
       "version_major": 2,
       "version_minor": 0
      },
      "text/plain": [
       "Evaluate trees:   0%|          | 0/50 [00:00<?, ?/s]"
      ]
     },
     "metadata": {},
     "output_type": "display_data"
    },
    {
     "name": "stdout",
     "output_type": "stream",
     "text": [
      "\t Finished...\n",
      "Select ref_selection_hvg genes...\n",
      "\t ...finished.\n",
      "Select ref_selection_random genes...\n",
      "\t ...finished.\n",
      "Select ref_selection_pca genes...\n",
      "\t ...finished.\n",
      "Select ref_selection_de genes...\n",
      "\t ...finished.\n"
     ]
    }
   ],
   "source": [
    "# invoke the central method\n",
    "selector.select_probeset()\n"
   ]
  },
  {
   "cell_type": "markdown",
   "metadata": {},
   "source": [
    "The selected probesets can be examined like this: "
   ]
  },
  {
   "cell_type": "code",
   "execution_count": 6,
   "metadata": {
    "scrolled": true
   },
   "outputs": [
    {
     "data": {
      "text/html": [
       "<div>\n",
       "<style scoped>\n",
       "    .dataframe tbody tr th:only-of-type {\n",
       "        vertical-align: middle;\n",
       "    }\n",
       "\n",
       "    .dataframe tbody tr th {\n",
       "        vertical-align: top;\n",
       "    }\n",
       "\n",
       "    .dataframe thead th {\n",
       "        text-align: right;\n",
       "    }\n",
       "</style>\n",
       "<table border=\"1\" class=\"dataframe\">\n",
       "  <thead>\n",
       "    <tr style=\"text-align: right;\">\n",
       "      <th></th>\n",
       "      <th>selection</th>\n",
       "      <th>ref_selection_random</th>\n",
       "      <th>ref_selection_hvg</th>\n",
       "      <th>ref_selection_de</th>\n",
       "      <th>ref_selection_pca</th>\n",
       "    </tr>\n",
       "  </thead>\n",
       "  <tbody>\n",
       "    <tr>\n",
       "      <th>PF4</th>\n",
       "      <td>True</td>\n",
       "      <td>False</td>\n",
       "      <td>False</td>\n",
       "      <td>True</td>\n",
       "      <td>False</td>\n",
       "    </tr>\n",
       "    <tr>\n",
       "      <th>CD79A</th>\n",
       "      <td>True</td>\n",
       "      <td>False</td>\n",
       "      <td>False</td>\n",
       "      <td>True</td>\n",
       "      <td>True</td>\n",
       "    </tr>\n",
       "    <tr>\n",
       "      <th>NKG7</th>\n",
       "      <td>True</td>\n",
       "      <td>False</td>\n",
       "      <td>False</td>\n",
       "      <td>True</td>\n",
       "      <td>True</td>\n",
       "    </tr>\n",
       "    <tr>\n",
       "      <th>LST1</th>\n",
       "      <td>True</td>\n",
       "      <td>False</td>\n",
       "      <td>False</td>\n",
       "      <td>True</td>\n",
       "      <td>True</td>\n",
       "    </tr>\n",
       "    <tr>\n",
       "      <th>LTB</th>\n",
       "      <td>True</td>\n",
       "      <td>False</td>\n",
       "      <td>False</td>\n",
       "      <td>True</td>\n",
       "      <td>True</td>\n",
       "    </tr>\n",
       "    <tr>\n",
       "      <th>...</th>\n",
       "      <td>...</td>\n",
       "      <td>...</td>\n",
       "      <td>...</td>\n",
       "      <td>...</td>\n",
       "      <td>...</td>\n",
       "    </tr>\n",
       "    <tr>\n",
       "      <th>RP11-285J16.1</th>\n",
       "      <td>False</td>\n",
       "      <td>False</td>\n",
       "      <td>False</td>\n",
       "      <td>False</td>\n",
       "      <td>False</td>\n",
       "    </tr>\n",
       "    <tr>\n",
       "      <th>RP5-1112D6.8</th>\n",
       "      <td>False</td>\n",
       "      <td>False</td>\n",
       "      <td>False</td>\n",
       "      <td>False</td>\n",
       "      <td>False</td>\n",
       "    </tr>\n",
       "    <tr>\n",
       "      <th>AC123023.1</th>\n",
       "      <td>False</td>\n",
       "      <td>False</td>\n",
       "      <td>False</td>\n",
       "      <td>False</td>\n",
       "      <td>False</td>\n",
       "    </tr>\n",
       "    <tr>\n",
       "      <th>YEATS2-AS1</th>\n",
       "      <td>False</td>\n",
       "      <td>False</td>\n",
       "      <td>False</td>\n",
       "      <td>False</td>\n",
       "      <td>False</td>\n",
       "    </tr>\n",
       "    <tr>\n",
       "      <th>GGT6</th>\n",
       "      <td>False</td>\n",
       "      <td>False</td>\n",
       "      <td>False</td>\n",
       "      <td>False</td>\n",
       "      <td>False</td>\n",
       "    </tr>\n",
       "  </tbody>\n",
       "</table>\n",
       "<p>2000 rows × 5 columns</p>\n",
       "</div>"
      ],
      "text/plain": [
       "               selection  ref_selection_random  ref_selection_hvg  \\\n",
       "PF4                 True                 False              False   \n",
       "CD79A               True                 False              False   \n",
       "NKG7                True                 False              False   \n",
       "LST1                True                 False              False   \n",
       "LTB                 True                 False              False   \n",
       "...                  ...                   ...                ...   \n",
       "RP11-285J16.1      False                 False              False   \n",
       "RP5-1112D6.8       False                 False              False   \n",
       "AC123023.1         False                 False              False   \n",
       "YEATS2-AS1         False                 False              False   \n",
       "GGT6               False                 False              False   \n",
       "\n",
       "               ref_selection_de  ref_selection_pca  \n",
       "PF4                        True              False  \n",
       "CD79A                      True               True  \n",
       "NKG7                       True               True  \n",
       "LST1                       True               True  \n",
       "LTB                        True               True  \n",
       "...                         ...                ...  \n",
       "RP11-285J16.1             False              False  \n",
       "RP5-1112D6.8              False              False  \n",
       "AC123023.1                False              False  \n",
       "YEATS2-AS1                False              False  \n",
       "GGT6                      False              False  \n",
       "\n",
       "[2000 rows x 5 columns]"
      ]
     },
     "execution_count": 6,
     "metadata": {},
     "output_type": "execute_result"
    }
   ],
   "source": [
    "selected_probesets = selector.probeset[[\"selection\", \"ref_selection_random\", \"ref_selection_hvg\", \"ref_selection_de\", \"ref_selection_pca\"]]\n",
    "selected_probesets"
   ]
  },
  {
   "cell_type": "markdown",
   "metadata": {},
   "source": [
    "## Vizualize the results"
   ]
  },
  {
   "cell_type": "code",
   "execution_count": 7,
   "metadata": {
    "scrolled": false,
    "tags": [
     "nbsphinx-thumbnail"
    ]
   },
   "outputs": [
    {
     "data": {
      "image/png": "[encoded data removed]",
      "text/plain": [
       "<Figure size 1404x279.36 with 7 Axes>"
      ]
     },
     "metadata": {
      "needs_background": "light"
     },
     "output_type": "display_data"
    }
   ],
   "source": [
    "pl.masked_dotplot(adata, selector)"
   ]
  },
  {
   "cell_type": "markdown",
   "metadata": {},
   "source": [
    "## Evaluate the results"
   ]
  },
  {
   "cell_type": "code",
   "execution_count": 8,
   "metadata": {},
   "outputs": [
    {
     "data": {
      "text/plain": [
       "{'data': {'name': 'small_data',\n",
       "  'process_adata': ['norm', 'log1p'],\n",
       "  'celltype_key': 'celltype'},\n",
       " 'metrics': {'cluster_similarity': {'ns': [5, 21],\n",
       "   'AUC_borders': [[7, 14], [15, 20]]},\n",
       "  'knn_overlap': {'ks': [5, 10, 15, 20, 25, 30]},\n",
       "  'forest_clfs': {'ct_key': 'celltype', 'threshold': 0.8},\n",
       "  'marker_corr': {'per_celltype': True,\n",
       "   'per_marker': True,\n",
       "   'per_celltype_min_mean': None,\n",
       "   'per_marker_min_mean': 0.025},\n",
       "  'gene_corr': {'threshold': 0.8}}}"
      ]
     },
     "execution_count": 8,
     "metadata": {},
     "output_type": "execute_result"
    }
   ],
   "source": [
    "param_yaml = \"../data/parameters.yml\"\n",
    "with open(param_yaml, \"r\") as file:\n",
    "    custom_params = yaml.load(file, Loader=yaml.FullLoader)\n",
    "custom_params"
   ]
  },
  {
   "cell_type": "code",
   "execution_count": 9,
   "metadata": {},
   "outputs": [],
   "source": [
    "evaluator = ProbesetEvaluator(adata, metrics_params=custom_params)"
   ]
  },
  {
   "cell_type": "code",
   "execution_count": 10,
   "metadata": {},
   "outputs": [
    {
     "data": {
      "text/plain": [
       "selection               50\n",
       "ref_selection_random    50\n",
       "ref_selection_hvg       50\n",
       "ref_selection_de        50\n",
       "ref_selection_pca       50\n",
       "dtype: int64"
      ]
     },
     "execution_count": 10,
     "metadata": {},
     "output_type": "execute_result"
    }
   ],
   "source": [
    "selected_probesets.sum()"
   ]
  },
  {
   "cell_type": "code",
   "execution_count": 11,
   "metadata": {},
   "outputs": [
    {
     "name": "stdout",
     "output_type": "stream",
     "text": [
      "ref_selection_pca\n",
      "['CD79A', 'NKG7', 'LST1', 'LTB', 'LYZ', 'CD74', 'FCGR3A', 'CCL5', 'S100A8', 'HLA-DRA', 'HLA-DPA1', 'IL32', 'FCER1G', 'TYROBP', 'GPX1', 'IL7R', 'HLA-DRB5', 'GZMK', 'GNLY', 'PSAP', 'IFITM3', 'CD7', 'CD8B', 'HLA-DQA1', 'GZMH', 'FCN1', 'HLA-DPB1', 'SAT1', 'CCL3', 'S100A9', 'HLA-DRB1', 'COTL1', 'HLA-DQB1', 'AIF1', 'ISG15', 'LGALS2', 'TIMP1', 'ID2', 'IFI6', 'CTSW', 'CST3', 'GSTP1', 'CD79B', 'RGS2', 'S100A11', 'GZMB', 'LGALS1', 'CTSS', 'MT2A', 'CEBPB']\n"
     ]
    }
   ],
   "source": [
    "for probeset in selected_probesets: \n",
    "    gene_list = selected_probesets.index[selected_probesets[probeset]].to_list()\n",
    "    evaluator.evaluate_probeset(gene_list, set_id=probeset)\n",
    "    clear_output(wait=True)"
   ]
  },
  {
   "cell_type": "code",
   "execution_count": 12,
   "metadata": {
    "scrolled": true
   },
   "outputs": [
    {
     "data": {
      "image/png": "[encoded data removed]",
      "text/plain": [
       "<Figure size 396x360 with 5 Axes>"
      ]
     },
     "metadata": {
      "needs_background": "light"
     },
     "output_type": "display_data"
    }
   ],
   "source": [
    "evaluator.plot_summary()"
   ]
  }
 ],
 "metadata": {
  "celltoolbar": "Tags",
  "kernelspec": {
   "display_name": "Python3.8 (spapros)",
   "language": "python",
   "name": "spapros"
  },
  "language_info": {
   "codemirror_mode": {
    "name": "ipython",
    "version": 3
   },
   "file_extension": ".py",
   "mimetype": "text/x-python",
   "name": "python",
   "nbconvert_exporter": "python",
   "pygments_lexer": "ipython3",
   "version": "3.8.12"
  },
  "latex_envs": {
   "LaTeX_envs_menu_present": true,
   "autoclose": false,
   "autocomplete": true,
   "bibliofile": "biblio.bib",
   "cite_by": "apalike",
   "current_citInitial": 1,
   "eqLabelWithNumbers": true,
   "eqNumInitial": 1,
   "hotkeys": {
    "equation": "Ctrl-E",
    "itemize": "Ctrl-I"
   },
   "labels_anchors": false,
   "latex_user_defs": false,
   "report_style_numbering": false,
   "user_envs_cfg": false
  },
  "pycharm": {
   "stem_cell": {
    "cell_type": "raw",
    "metadata": {
     "collapsed": false
    },
    "source": [
     "%matplotlib inline\n"
    ]
   }
  }
 },
 "nbformat": 4,
 "nbformat_minor": 1
}
