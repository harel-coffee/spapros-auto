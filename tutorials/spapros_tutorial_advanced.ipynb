{
 "cells": [
  {
   "cell_type": "markdown",
   "metadata": {
    "collapsed": true,
    "pycharm": {
     "name": "#%% md\n"
    }
   },
   "source": [
    "# Advanced Spapros Tutorial: Probeset and reference selection and comparative evaluation\n",
    "\n",
    "This tutorial shows how to select a gene probeset with spapros. Additionally, reference probesets are selected. Finally, all gene sets are evaluated and compared.\n",
    "\n",
    "The used dataset contains 3k PBMCs from a healthy donor and is publicly available from\n",
    "[10x Genomics](https://support.10xgenomics.com/single-cell-gene-expression/datasets/1.1.0/pbmc3k)\n",
    "[here](http://cf.10xgenomics.com/samples/cell-exp/1.1.0/pbmc3k/pbmc3k_filtered_gene_bc_matrices.tar.gz).\n",
    "It is also available via scanpy [here](https://scanpy.readthedocs.io/en/stable/generated/scanpy.datasets.pbmc3k.html#scanpy.datasets.pbmc3k).\n",
    "\n",
    "The dataset was preprocessed following the [scanpy pipeline](https://scanpy-tutorials.readthedocs.io/en/latest/pbmc3k.html).\n",
    "\n",
    "The preprocessed Anndata consists of raw single cell RNAseq counts of 2000 genes for 2700 cells."
   ]
  },
  {
   "cell_type": "markdown",
   "metadata": {},
   "source": [
    "## Import packages and data\n",
    "\n",
    "To run the notebook locally, create a conda environment using this [environment.yaml](TODO link):\n",
    "\n",
    "    conda create -f environment.yaml\n",
    "\n",
    "Then add the conda environment as ipython kernel:\n",
    "\n",
    "    python -m ipykernel install --user --name spapros --display-name Python (spapros)\n",
    "\n"
   ]
  },
  {
   "cell_type": "code",
   "execution_count": 1,
   "metadata": {
    "pycharm": {
     "is_executing": true,
     "name": "#%%\n"
    }
   },
   "outputs": [
    {
     "name": "stderr",
     "output_type": "stream",
     "text": [
      "/big/st/strasserl/spapros/spapros/selection/selection_procedure.py:14: TqdmExperimentalWarning: Using `tqdm.autonotebook.tqdm` in notebook mode. Use `tqdm.tqdm` instead to force console mode (e.g. in jupyter console)\n",
      "  from tqdm.autonotebook import tqdm\n"
     ]
    }
   ],
   "source": [
    "import spapros\n",
    "from spapros import ProbesetSelector, pl, ProbesetEvaluator\n",
    "from IPython.display import clear_output\n",
    "import scanpy as sc\n",
    "import pandas as pd\n",
    "import os\n",
    "import yaml"
   ]
  },
  {
   "cell_type": "code",
   "execution_count": 2,
   "metadata": {
    "pycharm": {
     "name": "#%%\n"
    }
   },
   "outputs": [
    {
     "name": "stdout",
     "output_type": "stream",
     "text": [
      "scanpy==1.8.1 anndata==0.7.8 umap==0.5.2 numpy==1.21.4 scipy==1.7.2 pandas==1.3.4 scikit-learn==1.0.1 statsmodels==0.13.1 python-igraph==0.9.8 pynndescent==0.5.5\n",
      "spapros==0.1.0\n"
     ]
    }
   ],
   "source": [
    "sc.settings.verbosity = 1\n",
    "sc.logging.print_header()\n",
    "print(f\"spapros=={spapros.__version__}\")"
   ]
  },
  {
   "cell_type": "code",
   "execution_count": 3,
   "metadata": {
    "pycharm": {
     "name": "#%%\n"
    },
    "scrolled": false
   },
   "outputs": [
    {
     "data": {
      "text/plain": [
       "AnnData object with n_obs × n_vars = 2700 × 2000\n",
       "    obs: 'n_genes', 'size_factors', 'leiden', 'celltype', 'tissue'\n",
       "    var: 'gene_ids', 'n_cells', 'highly_variable', 'quantile_0.85', 'quantile_0.9', 'quantile_0.95', 'quantile_0.99'\n",
       "    uns: 'log1p'"
      ]
     },
     "execution_count": 3,
     "metadata": {},
     "output_type": "execute_result"
    }
   ],
   "source": [
    "# Load the dataset\n",
    "adata = sc.read_h5ad(\"../data/small_data_raw_counts.h5ad\")\n",
    "sc.pp.log1p(adata)\n",
    "adata\n"
   ]
  },
  {
   "cell_type": "markdown",
   "metadata": {},
   "source": [
    "## Start the selection\n",
    "\n",
    "Here, we add several basic selection methods to create reference probe sets:\n",
    "- pca\n",
    "- hvg\n",
    "- de\n",
    "- random \n",
    "\n",
    "Thus, we will have 5 probsets in the end."
   ]
  },
  {
   "cell_type": "code",
   "execution_count": 4,
   "metadata": {},
   "outputs": [
    {
     "name": "stdout",
     "output_type": "stream",
     "text": [
      "The following celltypes' test set sizes for forest training are below min_test_n (=20):\n",
      "\t celltype_4 : 5\n",
      "\t celltype_5 : 9\n",
      "\t celltype_8 : 1\n"
     ]
    }
   ],
   "source": [
    "# create an instance of the ProbesetSelector class\n",
    "selector = ProbesetSelector(adata, n=40, celltype_key = \"celltype\", reference_selections=[\"hvg\", \"random\", \"pca\", \"de\"])"
   ]
  },
  {
   "cell_type": "code",
   "execution_count": 5,
   "metadata": {
    "scrolled": true
   },
   "outputs": [
    {
     "name": "stdout",
     "output_type": "stream",
     "text": [
      "Select pca genes...\n",
      "\t ...finished.\n",
      "Select genes based on differential expression and forests as baseline for the final forests...\n",
      "\t Select differentially expressed genes...\n",
      "\t\t ...finished.\n",
      "\t Train trees on DE selected genes as prior forest for the DE_baseline forest...\n"
     ]
    },
    {
     "data": {
      "application/vnd.jupyter.widget-view+json": {
       "model_id": "1db8af75cd4e4692843c369300d17f8e",
       "version_major": 2,
       "version_minor": 0
      },
      "text/plain": [
       "Train hierarchical trees:   0%|          | 0/3 [00:00<?, ?it/s]"
      ]
     },
     "metadata": {},
     "output_type": "display_data"
    },
    {
     "name": "stderr",
     "output_type": "stream",
     "text": [
      "/big/st/strasserl/spapros/spapros/evaluation/evaluation.py:1034: UserWarning: Zero cells of celltype celltype_8 in train or test set. No tree is calculated for celltype celltype_8.\n",
      "  warnings.warn(f\"Zero cells of celltype {c} in train or test set. No tree is calculated for celltype {c}.\")\n",
      "/big/st/strasserl/spapros/spapros/evaluation/evaluation.py:1036: UserWarning: Zero cells of celltype celltype_8 in train or test set. Celltype celltype_8 is not included as reference celltype.\n",
      "  warnings.warn(\n"
     ]
    },
    {
     "data": {
      "application/vnd.jupyter.widget-view+json": {
       "model_id": "683e144679e54f3e853d5afbbf53dc18",
       "version_major": 2,
       "version_minor": 0
      },
      "text/plain": [
       "Train trees:   0%|          | 0/50 [00:00<?, ?it/s]"
      ]
     },
     "metadata": {},
     "output_type": "display_data"
    },
    {
     "data": {
      "application/vnd.jupyter.widget-view+json": {
       "model_id": "fe4ec9595484454ca223a93814014265",
       "version_major": 2,
       "version_minor": 0
      },
      "text/plain": [
       "Evaluate trees:   0%|          | 0/50 [00:00<?, ?/s]"
      ]
     },
     "metadata": {},
     "output_type": "display_data"
    },
    {
     "data": {
      "application/vnd.jupyter.widget-view+json": {
       "model_id": "8e826ce121bc40b7a61b1c051a0f149f",
       "version_major": 2,
       "version_minor": 0
      },
      "text/plain": [
       "Train trees:   0%|          | 0/50 [00:00<?, ?it/s]"
      ]
     },
     "metadata": {},
     "output_type": "display_data"
    },
    {
     "data": {
      "application/vnd.jupyter.widget-view+json": {
       "model_id": "909984dac7644149881f5ba7d771495d",
       "version_major": 2,
       "version_minor": 0
      },
      "text/plain": [
       "Evaluate trees:   0%|          | 0/50 [00:00<?, ?/s]"
      ]
     },
     "metadata": {},
     "output_type": "display_data"
    },
    {
     "data": {
      "application/vnd.jupyter.widget-view+json": {
       "model_id": "6ee9de66f5aa448184fbd1f4a8bdc037",
       "version_major": 2,
       "version_minor": 0
      },
      "text/plain": [
       "Train trees:   0%|          | 0/50 [00:00<?, ?it/s]"
      ]
     },
     "metadata": {},
     "output_type": "display_data"
    },
    {
     "data": {
      "application/vnd.jupyter.widget-view+json": {
       "model_id": "9108442da5dc47f79fac6f7437c0390f",
       "version_major": 2,
       "version_minor": 0
      },
      "text/plain": [
       "Evaluate trees:   0%|          | 0/50 [00:00<?, ?/s]"
      ]
     },
     "metadata": {},
     "output_type": "display_data"
    },
    {
     "name": "stdout",
     "output_type": "stream",
     "text": [
      "\t Train DE_baseline forest by iteratively selecting specific differentially expressed genes for celltypes that are hard to distinguish...\n",
      "Add DE genes with specific reference groups to improve tree performance...\n",
      "  Iteration step 1:\n",
      "\t Select DE genes...\n",
      "\t Train decision trees on celltypes:\n",
      "\t\t ['celltype_1', 'celltype_2', 'celltype_3', 'celltype_6']\n"
     ]
    },
    {
     "data": {
      "application/vnd.jupyter.widget-view+json": {
       "model_id": "bf6a2f72c3064f2bbd77e6cac83adfc8",
       "version_major": 2,
       "version_minor": 0
      },
      "text/plain": [
       "Train hierarchical trees:   0%|          | 0/3 [00:00<?, ?it/s]"
      ]
     },
     "metadata": {},
     "output_type": "display_data"
    },
    {
     "data": {
      "application/vnd.jupyter.widget-view+json": {
       "model_id": "7dfc964594a940e3917b55fb509814fd",
       "version_major": 2,
       "version_minor": 0
      },
      "text/plain": [
       "Train trees:   0%|          | 0/50 [00:00<?, ?it/s]"
      ]
     },
     "metadata": {},
     "output_type": "display_data"
    },
    {
     "data": {
      "application/vnd.jupyter.widget-view+json": {
       "model_id": "7b115ec420554ae88f156317c5e92766",
       "version_major": 2,
       "version_minor": 0
      },
      "text/plain": [
       "Evaluate trees:   0%|          | 0/50 [00:00<?, ?/s]"
      ]
     },
     "metadata": {},
     "output_type": "display_data"
    },
    {
     "data": {
      "application/vnd.jupyter.widget-view+json": {
       "model_id": "c9f3876607b54526843bb6c7b4a6a414",
       "version_major": 2,
       "version_minor": 0
      },
      "text/plain": [
       "Train trees:   0%|          | 0/50 [00:00<?, ?it/s]"
      ]
     },
     "metadata": {},
     "output_type": "display_data"
    },
    {
     "data": {
      "application/vnd.jupyter.widget-view+json": {
       "model_id": "8774b2e9f3c74be39b7812575a8050c3",
       "version_major": 2,
       "version_minor": 0
      },
      "text/plain": [
       "Evaluate trees:   0%|          | 0/50 [00:00<?, ?/s]"
      ]
     },
     "metadata": {},
     "output_type": "display_data"
    },
    {
     "data": {
      "application/vnd.jupyter.widget-view+json": {
       "model_id": "9c6dd28e24c4498b87ea1e86ffe8f48f",
       "version_major": 2,
       "version_minor": 0
      },
      "text/plain": [
       "Train trees:   0%|          | 0/50 [00:00<?, ?it/s]"
      ]
     },
     "metadata": {},
     "output_type": "display_data"
    },
    {
     "data": {
      "application/vnd.jupyter.widget-view+json": {
       "model_id": "bdaf8612444c4b038a2ced88e7d99ea9",
       "version_major": 2,
       "version_minor": 0
      },
      "text/plain": [
       "Evaluate trees:   0%|          | 0/50 [00:00<?, ?/s]"
      ]
     },
     "metadata": {},
     "output_type": "display_data"
    },
    {
     "name": "stdout",
     "output_type": "stream",
     "text": [
      "\t\t Training finished.\n",
      "  Iteration step 2:\n",
      "\t Select DE genes...\n",
      "\t Train decision trees on celltypes:\n",
      "\t\t ['celltype_1', 'celltype_3', 'celltype_6']\n"
     ]
    },
    {
     "data": {
      "application/vnd.jupyter.widget-view+json": {
       "model_id": "b79967e30db64e838ed20bc398c7836b",
       "version_major": 2,
       "version_minor": 0
      },
      "text/plain": [
       "Train hierarchical trees:   0%|          | 0/3 [00:00<?, ?it/s]"
      ]
     },
     "metadata": {},
     "output_type": "display_data"
    },
    {
     "data": {
      "application/vnd.jupyter.widget-view+json": {
       "model_id": "eaeb4cc4044b4cbab5a9ac9799239090",
       "version_major": 2,
       "version_minor": 0
      },
      "text/plain": [
       "Train trees:   0%|          | 0/50 [00:00<?, ?it/s]"
      ]
     },
     "metadata": {},
     "output_type": "display_data"
    },
    {
     "data": {
      "application/vnd.jupyter.widget-view+json": {
       "model_id": "bf5632b77e674397ab830b91f0bd96fe",
       "version_major": 2,
       "version_minor": 0
      },
      "text/plain": [
       "Evaluate trees:   0%|          | 0/50 [00:00<?, ?/s]"
      ]
     },
     "metadata": {},
     "output_type": "display_data"
    },
    {
     "data": {
      "application/vnd.jupyter.widget-view+json": {
       "model_id": "ed7eec5428974043a5737b72d2cc4ff2",
       "version_major": 2,
       "version_minor": 0
      },
      "text/plain": [
       "Train trees:   0%|          | 0/50 [00:00<?, ?it/s]"
      ]
     },
     "metadata": {},
     "output_type": "display_data"
    },
    {
     "data": {
      "application/vnd.jupyter.widget-view+json": {
       "model_id": "1a7666aa5e4045c9a6ca672e69b3a9f7",
       "version_major": 2,
       "version_minor": 0
      },
      "text/plain": [
       "Evaluate trees:   0%|          | 0/50 [00:00<?, ?/s]"
      ]
     },
     "metadata": {},
     "output_type": "display_data"
    },
    {
     "data": {
      "application/vnd.jupyter.widget-view+json": {
       "model_id": "a0a9054cc84843929d2f827a3ec713ee",
       "version_major": 2,
       "version_minor": 0
      },
      "text/plain": [
       "Train trees:   0%|          | 0/50 [00:00<?, ?it/s]"
      ]
     },
     "metadata": {},
     "output_type": "display_data"
    },
    {
     "data": {
      "application/vnd.jupyter.widget-view+json": {
       "model_id": "0b1d4128c90f48e6a5fa5d9b5079056a",
       "version_major": 2,
       "version_minor": 0
      },
      "text/plain": [
       "Evaluate trees:   0%|          | 0/50 [00:00<?, ?/s]"
      ]
     },
     "metadata": {},
     "output_type": "display_data"
    },
    {
     "name": "stdout",
     "output_type": "stream",
     "text": [
      "\t\t Training finished.\n",
      "  Iteration step 3:\n",
      "\t Select DE genes...\n",
      "\t Train decision trees on celltypes:\n",
      "\t\t ['celltype_1', 'celltype_3', 'celltype_6']\n"
     ]
    },
    {
     "data": {
      "application/vnd.jupyter.widget-view+json": {
       "model_id": "aab82ea418d749879b3dadb63e252ddc",
       "version_major": 2,
       "version_minor": 0
      },
      "text/plain": [
       "Train hierarchical trees:   0%|          | 0/3 [00:00<?, ?it/s]"
      ]
     },
     "metadata": {},
     "output_type": "display_data"
    },
    {
     "data": {
      "application/vnd.jupyter.widget-view+json": {
       "model_id": "d52bd4e11c2845c9b210d2204a4db8f2",
       "version_major": 2,
       "version_minor": 0
      },
      "text/plain": [
       "Train trees:   0%|          | 0/50 [00:00<?, ?it/s]"
      ]
     },
     "metadata": {},
     "output_type": "display_data"
    },
    {
     "data": {
      "application/vnd.jupyter.widget-view+json": {
       "model_id": "e8b0c4aa442a46bf92bb5bfe084caad7",
       "version_major": 2,
       "version_minor": 0
      },
      "text/plain": [
       "Evaluate trees:   0%|          | 0/50 [00:00<?, ?/s]"
      ]
     },
     "metadata": {},
     "output_type": "display_data"
    },
    {
     "data": {
      "application/vnd.jupyter.widget-view+json": {
       "model_id": "65c3450689284c08b18167520b9651b3",
       "version_major": 2,
       "version_minor": 0
      },
      "text/plain": [
       "Train trees:   0%|          | 0/50 [00:00<?, ?it/s]"
      ]
     },
     "metadata": {},
     "output_type": "display_data"
    },
    {
     "data": {
      "application/vnd.jupyter.widget-view+json": {
       "model_id": "b241a59a0d374045b076048ce8fae083",
       "version_major": 2,
       "version_minor": 0
      },
      "text/plain": [
       "Evaluate trees:   0%|          | 0/50 [00:00<?, ?/s]"
      ]
     },
     "metadata": {},
     "output_type": "display_data"
    },
    {
     "data": {
      "application/vnd.jupyter.widget-view+json": {
       "model_id": "fa89b4077ffa4ae0b8b908b56f5184b3",
       "version_major": 2,
       "version_minor": 0
      },
      "text/plain": [
       "Train trees:   0%|          | 0/50 [00:00<?, ?it/s]"
      ]
     },
     "metadata": {},
     "output_type": "display_data"
    },
    {
     "data": {
      "application/vnd.jupyter.widget-view+json": {
       "model_id": "891d4eebfa204b07817b73bed06953fd",
       "version_major": 2,
       "version_minor": 0
      },
      "text/plain": [
       "Evaluate trees:   0%|          | 0/50 [00:00<?, ?/s]"
      ]
     },
     "metadata": {},
     "output_type": "display_data"
    },
    {
     "name": "stdout",
     "output_type": "stream",
     "text": [
      "\t\t Training finished.\n",
      "Train final trees on all celltypes, now with the added genes...\n"
     ]
    },
    {
     "data": {
      "application/vnd.jupyter.widget-view+json": {
       "model_id": "82bfa1d69e124546b0153fe680989b77",
       "version_major": 2,
       "version_minor": 0
      },
      "text/plain": [
       "Train hierarchical trees:   0%|          | 0/3 [00:00<?, ?it/s]"
      ]
     },
     "metadata": {},
     "output_type": "display_data"
    },
    {
     "data": {
      "application/vnd.jupyter.widget-view+json": {
       "model_id": "198ce76f9baf4935ac8b2e6f12e30a20",
       "version_major": 2,
       "version_minor": 0
      },
      "text/plain": [
       "Train trees:   0%|          | 0/50 [00:00<?, ?it/s]"
      ]
     },
     "metadata": {},
     "output_type": "display_data"
    },
    {
     "data": {
      "application/vnd.jupyter.widget-view+json": {
       "model_id": "12ed7ada1b20462b86d7859ab508da4f",
       "version_major": 2,
       "version_minor": 0
      },
      "text/plain": [
       "Evaluate trees:   0%|          | 0/50 [00:00<?, ?/s]"
      ]
     },
     "metadata": {},
     "output_type": "display_data"
    },
    {
     "data": {
      "application/vnd.jupyter.widget-view+json": {
       "model_id": "67342c594ca0401a90975d2b20103cd2",
       "version_major": 2,
       "version_minor": 0
      },
      "text/plain": [
       "Train trees:   0%|          | 0/50 [00:00<?, ?it/s]"
      ]
     },
     "metadata": {},
     "output_type": "display_data"
    },
    {
     "data": {
      "application/vnd.jupyter.widget-view+json": {
       "model_id": "caf0971a4bdd43bd83ee74a99e6e610d",
       "version_major": 2,
       "version_minor": 0
      },
      "text/plain": [
       "Evaluate trees:   0%|          | 0/50 [00:00<?, ?/s]"
      ]
     },
     "metadata": {},
     "output_type": "display_data"
    },
    {
     "data": {
      "application/vnd.jupyter.widget-view+json": {
       "model_id": "ef47c785e6f44010b89bdd9487694822",
       "version_major": 2,
       "version_minor": 0
      },
      "text/plain": [
       "Train trees:   0%|          | 0/50 [00:00<?, ?it/s]"
      ]
     },
     "metadata": {},
     "output_type": "display_data"
    },
    {
     "data": {
      "application/vnd.jupyter.widget-view+json": {
       "model_id": "8d694acae5d34d0f998b24908cc4c430",
       "version_major": 2,
       "version_minor": 0
      },
      "text/plain": [
       "Evaluate trees:   0%|          | 0/50 [00:00<?, ?/s]"
      ]
     },
     "metadata": {},
     "output_type": "display_data"
    },
    {
     "name": "stdout",
     "output_type": "stream",
     "text": [
      "\t Finished...\n",
      "Train final forests by adding genes from the DE_baseline forest for celltypes with low performance...\n",
      "\t Train forest on pre/prior/pca selected genes...\n"
     ]
    },
    {
     "data": {
      "application/vnd.jupyter.widget-view+json": {
       "model_id": "5f9a8df0872446e0b8beb3be93010e9d",
       "version_major": 2,
       "version_minor": 0
      },
      "text/plain": [
       "Train hierarchical trees:   0%|          | 0/3 [00:00<?, ?it/s]"
      ]
     },
     "metadata": {},
     "output_type": "display_data"
    },
    {
     "data": {
      "application/vnd.jupyter.widget-view+json": {
       "model_id": "065e3a43948449598052d45d8d2a79f6",
       "version_major": 2,
       "version_minor": 0
      },
      "text/plain": [
       "Train trees:   0%|          | 0/50 [00:00<?, ?it/s]"
      ]
     },
     "metadata": {},
     "output_type": "display_data"
    },
    {
     "data": {
      "application/vnd.jupyter.widget-view+json": {
       "model_id": "5dbf0e94672e423d894d42b0a6c9c41a",
       "version_major": 2,
       "version_minor": 0
      },
      "text/plain": [
       "Evaluate trees:   0%|          | 0/50 [00:00<?, ?/s]"
      ]
     },
     "metadata": {},
     "output_type": "display_data"
    },
    {
     "data": {
      "application/vnd.jupyter.widget-view+json": {
       "model_id": "871bcfdc04c443a68b5dee31a2d8f78d",
       "version_major": 2,
       "version_minor": 0
      },
      "text/plain": [
       "Train trees:   0%|          | 0/50 [00:00<?, ?it/s]"
      ]
     },
     "metadata": {},
     "output_type": "display_data"
    },
    {
     "data": {
      "application/vnd.jupyter.widget-view+json": {
       "model_id": "331be5075b2240df96a4ee5990adc936",
       "version_major": 2,
       "version_minor": 0
      },
      "text/plain": [
       "Evaluate trees:   0%|          | 0/50 [00:00<?, ?/s]"
      ]
     },
     "metadata": {},
     "output_type": "display_data"
    },
    {
     "data": {
      "application/vnd.jupyter.widget-view+json": {
       "model_id": "0de0777929c4454391ff86079fee0add",
       "version_major": 2,
       "version_minor": 0
      },
      "text/plain": [
       "Train trees:   0%|          | 0/50 [00:00<?, ?it/s]"
      ]
     },
     "metadata": {},
     "output_type": "display_data"
    },
    {
     "data": {
      "application/vnd.jupyter.widget-view+json": {
       "model_id": "398a74d95be94fe8a94bd991c7fb20bf",
       "version_major": 2,
       "version_minor": 0
      },
      "text/plain": [
       "Evaluate trees:   0%|          | 0/50 [00:00<?, ?/s]"
      ]
     },
     "metadata": {},
     "output_type": "display_data"
    },
    {
     "name": "stdout",
     "output_type": "stream",
     "text": [
      "\t Iteratively add genes from DE_baseline_forest...\n",
      "Adding genes from reference tree...\n",
      "Train final trees on all celltypes, now with the added genes...\n"
     ]
    },
    {
     "data": {
      "application/vnd.jupyter.widget-view+json": {
       "model_id": "ed35281b7a144a2a8dc1538e3c5c9381",
       "version_major": 2,
       "version_minor": 0
      },
      "text/plain": [
       "Train hierarchical trees:   0%|          | 0/3 [00:00<?, ?it/s]"
      ]
     },
     "metadata": {},
     "output_type": "display_data"
    },
    {
     "data": {
      "application/vnd.jupyter.widget-view+json": {
       "model_id": "3744be4c9c3844b3b20b0dc1f9d25efb",
       "version_major": 2,
       "version_minor": 0
      },
      "text/plain": [
       "Train trees:   0%|          | 0/50 [00:00<?, ?it/s]"
      ]
     },
     "metadata": {},
     "output_type": "display_data"
    },
    {
     "data": {
      "application/vnd.jupyter.widget-view+json": {
       "model_id": "36cdc0e098cc4a13a6c8a1d3dd7a12d6",
       "version_major": 2,
       "version_minor": 0
      },
      "text/plain": [
       "Evaluate trees:   0%|          | 0/50 [00:00<?, ?/s]"
      ]
     },
     "metadata": {},
     "output_type": "display_data"
    },
    {
     "data": {
      "application/vnd.jupyter.widget-view+json": {
       "model_id": "434ec44df2e84807bf0cf1a5089a3580",
       "version_major": 2,
       "version_minor": 0
      },
      "text/plain": [
       "Train trees:   0%|          | 0/50 [00:00<?, ?it/s]"
      ]
     },
     "metadata": {},
     "output_type": "display_data"
    },
    {
     "data": {
      "application/vnd.jupyter.widget-view+json": {
       "model_id": "8b1c5c2fe4ab4b5190ef65c774369444",
       "version_major": 2,
       "version_minor": 0
      },
      "text/plain": [
       "Evaluate trees:   0%|          | 0/50 [00:00<?, ?/s]"
      ]
     },
     "metadata": {},
     "output_type": "display_data"
    },
    {
     "data": {
      "application/vnd.jupyter.widget-view+json": {
       "model_id": "68e053cfe0f148969c3ae961d37cd4c0",
       "version_major": 2,
       "version_minor": 0
      },
      "text/plain": [
       "Train trees:   0%|          | 0/50 [00:00<?, ?it/s]"
      ]
     },
     "metadata": {},
     "output_type": "display_data"
    },
    {
     "data": {
      "application/vnd.jupyter.widget-view+json": {
       "model_id": "9c11d35222ac4d41bd2d9097a9face89",
       "version_major": 2,
       "version_minor": 0
      },
      "text/plain": [
       "Evaluate trees:   0%|          | 0/50 [00:00<?, ?/s]"
      ]
     },
     "metadata": {},
     "output_type": "display_data"
    },
    {
     "name": "stdout",
     "output_type": "stream",
     "text": [
      "\t Finished...\n",
      "Select ref_selection_hvg genes...\n",
      "\t ...finished.\n",
      "Select ref_selection_random genes...\n",
      "\t ...finished.\n",
      "Select ref_selection_pca genes...\n",
      "\t ...finished.\n",
      "Select ref_selection_de genes...\n",
      "\t ...finished.\n"
     ]
    }
   ],
   "source": [
    "# invoke the central method\n",
    "selector.select_probeset()\n"
   ]
  },
  {
   "cell_type": "markdown",
   "metadata": {},
   "source": [
    "The selected probeset can be examined like this: "
   ]
  },
  {
   "cell_type": "code",
   "execution_count": 12,
   "metadata": {
    "scrolled": true
   },
   "outputs": [
    {
     "data": {
      "text/html": [
       "<div>\n",
       "<style scoped>\n",
       "    .dataframe tbody tr th:only-of-type {\n",
       "        vertical-align: middle;\n",
       "    }\n",
       "\n",
       "    .dataframe tbody tr th {\n",
       "        vertical-align: top;\n",
       "    }\n",
       "\n",
       "    .dataframe thead th {\n",
       "        text-align: right;\n",
       "    }\n",
       "</style>\n",
       "<table border=\"1\" class=\"dataframe\">\n",
       "  <thead>\n",
       "    <tr style=\"text-align: right;\">\n",
       "      <th></th>\n",
       "      <th>selection</th>\n",
       "      <th>ref_selection_random</th>\n",
       "      <th>ref_selection_de</th>\n",
       "      <th>ref_selection_pca</th>\n",
       "    </tr>\n",
       "  </thead>\n",
       "  <tbody>\n",
       "    <tr>\n",
       "      <th>PF4</th>\n",
       "      <td>True</td>\n",
       "      <td>False</td>\n",
       "      <td>True</td>\n",
       "      <td>False</td>\n",
       "    </tr>\n",
       "    <tr>\n",
       "      <th>CD79A</th>\n",
       "      <td>True</td>\n",
       "      <td>False</td>\n",
       "      <td>True</td>\n",
       "      <td>False</td>\n",
       "    </tr>\n",
       "    <tr>\n",
       "      <th>NKG7</th>\n",
       "      <td>True</td>\n",
       "      <td>False</td>\n",
       "      <td>True</td>\n",
       "      <td>True</td>\n",
       "    </tr>\n",
       "    <tr>\n",
       "      <th>LST1</th>\n",
       "      <td>True</td>\n",
       "      <td>False</td>\n",
       "      <td>True</td>\n",
       "      <td>True</td>\n",
       "    </tr>\n",
       "    <tr>\n",
       "      <th>LTB</th>\n",
       "      <td>True</td>\n",
       "      <td>False</td>\n",
       "      <td>True</td>\n",
       "      <td>True</td>\n",
       "    </tr>\n",
       "    <tr>\n",
       "      <th>...</th>\n",
       "      <td>...</td>\n",
       "      <td>...</td>\n",
       "      <td>...</td>\n",
       "      <td>...</td>\n",
       "    </tr>\n",
       "    <tr>\n",
       "      <th>RP11-285J16.1</th>\n",
       "      <td>False</td>\n",
       "      <td>False</td>\n",
       "      <td>False</td>\n",
       "      <td>False</td>\n",
       "    </tr>\n",
       "    <tr>\n",
       "      <th>RP5-1112D6.8</th>\n",
       "      <td>False</td>\n",
       "      <td>False</td>\n",
       "      <td>False</td>\n",
       "      <td>False</td>\n",
       "    </tr>\n",
       "    <tr>\n",
       "      <th>AC123023.1</th>\n",
       "      <td>False</td>\n",
       "      <td>False</td>\n",
       "      <td>False</td>\n",
       "      <td>False</td>\n",
       "    </tr>\n",
       "    <tr>\n",
       "      <th>YEATS2-AS1</th>\n",
       "      <td>False</td>\n",
       "      <td>False</td>\n",
       "      <td>False</td>\n",
       "      <td>False</td>\n",
       "    </tr>\n",
       "    <tr>\n",
       "      <th>GGT6</th>\n",
       "      <td>False</td>\n",
       "      <td>False</td>\n",
       "      <td>False</td>\n",
       "      <td>False</td>\n",
       "    </tr>\n",
       "  </tbody>\n",
       "</table>\n",
       "<p>2000 rows × 4 columns</p>\n",
       "</div>"
      ],
      "text/plain": [
       "               selection  ref_selection_random  ref_selection_de  \\\n",
       "PF4                 True                 False              True   \n",
       "CD79A               True                 False              True   \n",
       "NKG7                True                 False              True   \n",
       "LST1                True                 False              True   \n",
       "LTB                 True                 False              True   \n",
       "...                  ...                   ...               ...   \n",
       "RP11-285J16.1      False                 False             False   \n",
       "RP5-1112D6.8       False                 False             False   \n",
       "AC123023.1         False                 False             False   \n",
       "YEATS2-AS1         False                 False             False   \n",
       "GGT6               False                 False             False   \n",
       "\n",
       "               ref_selection_pca  \n",
       "PF4                        False  \n",
       "CD79A                      False  \n",
       "NKG7                        True  \n",
       "LST1                        True  \n",
       "LTB                         True  \n",
       "...                          ...  \n",
       "RP11-285J16.1              False  \n",
       "RP5-1112D6.8               False  \n",
       "AC123023.1                 False  \n",
       "YEATS2-AS1                 False  \n",
       "GGT6                       False  \n",
       "\n",
       "[2000 rows x 4 columns]"
      ]
     },
     "execution_count": 12,
     "metadata": {},
     "output_type": "execute_result"
    }
   ],
   "source": [
    "selected_probesets = selector.probeset[[\"selection\", \"ref_selection_random\", \"ref_selection_hvg\", \"ref_selection_de\", \"ref_selection_pca\"]]\n",
    "selected_probesets"
   ]
  },
  {
   "cell_type": "markdown",
   "metadata": {},
   "source": [
    "## Vizualize the results"
   ]
  },
  {
   "cell_type": "code",
   "execution_count": 7,
   "metadata": {
    "scrolled": false
   },
   "outputs": [
    {
     "data": {
      "image/png": "[encoded data removed]",
      "text/plain": [
       "<Figure size 1144.8x279.36 with 7 Axes>"
      ]
     },
     "metadata": {
      "needs_background": "light"
     },
     "output_type": "display_data"
    }
   ],
   "source": [
    "pl.masked_dotplot(adata, selector)"
   ]
  },
  {
   "cell_type": "markdown",
   "metadata": {},
   "source": [
    "## Evaluate the results"
   ]
  },
  {
   "cell_type": "code",
   "execution_count": 8,
   "metadata": {},
   "outputs": [
    {
     "data": {
      "text/plain": [
       "{'data': {'name': 'small_data',\n",
       "  'process_adata': ['norm', 'log1p'],\n",
       "  'celltype_key': 'celltype'},\n",
       " 'metrics': {'cluster_similarity': {'ns': [5, 21],\n",
       "   'AUC_borders': [[7, 14], [15, 20]]},\n",
       "  'knn_overlap': {'ks': [5, 10, 15, 20, 25, 30]},\n",
       "  'forest_clfs': {'ct_key': 'celltype', 'threshold': 0.8},\n",
       "  'marker_corr': {'per_celltype': True,\n",
       "   'per_marker': True,\n",
       "   'per_celltype_min_mean': None,\n",
       "   'per_marker_min_mean': 0.025},\n",
       "  'gene_corr': {'threshold': 0.8}}}"
      ]
     },
     "execution_count": 8,
     "metadata": {},
     "output_type": "execute_result"
    }
   ],
   "source": [
    "param_yaml = \"../data/parameters.yml\"\n",
    "with open(param_yaml, \"r\") as file:\n",
    "    custom_params = yaml.load(file, Loader=yaml.FullLoader)\n",
    "custom_params"
   ]
  },
  {
   "cell_type": "code",
   "execution_count": 9,
   "metadata": {},
   "outputs": [],
   "source": [
    "evaluator = ProbesetEvaluator(adata, metrics_params=custom_params)"
   ]
  },
  {
   "cell_type": "code",
   "execution_count": 10,
   "metadata": {},
   "outputs": [
    {
     "data": {
      "text/plain": [
       "selection               40\n",
       "ref_selection_random    40\n",
       "ref_selection_hvg        0\n",
       "ref_selection_de        40\n",
       "ref_selection_pca       40\n",
       "dtype: int64"
      ]
     },
     "execution_count": 10,
     "metadata": {},
     "output_type": "execute_result"
    }
   ],
   "source": [
    "selected_probesets.sum()"
   ]
  },
  {
   "cell_type": "code",
   "execution_count": 13,
   "metadata": {},
   "outputs": [
    {
     "name": "stdout",
     "output_type": "stream",
     "text": [
      "ref_selection_pca\n",
      "['NKG7', 'LST1', 'LTB', 'LYZ', 'CD74', 'FCGR3A', 'CCL5', 'S100A8', 'HLA-DRA', 'IL32', 'FCER1G', 'TYROBP', 'GPX1', 'IL7R', 'GZMK', 'GNLY', 'PSAP', 'CD7', 'CD8B', 'GZMH', 'FCN1', 'HLA-DPB1', 'SAT1', 'CCL3', 'S100A9', 'HLA-DRB1', 'COTL1', 'AIF1', 'ISG15', 'LGALS2', 'ID2', 'IFI6', 'CST3', 'GSTP1', 'CD79B', 'S100A11', 'GZMB', 'LGALS1', 'CTSS', 'MT2A']\n"
     ]
    },
    {
     "data": {
      "text/html": [
       "<pre style=\"white-space:pre;overflow-x:auto;line-height:normal;font-family:Menlo,'DejaVu Sans Mono',consolas,'Courier New',monospace\"><span style=\"color: #808000; text-decoration-color: #808000; font-weight: bold\">The following cell types are not included in forest classifications since they have fewer </span>\n",
       "<span style=\"color: #808000; text-decoration-color: #808000; font-weight: bold\">than </span><span style=\"color: #808000; text-decoration-color: #808000; font-weight: bold\">40</span><span style=\"color: #808000; text-decoration-color: #808000; font-weight: bold\"> cells: [</span><span style=\"color: #808000; text-decoration-color: #808000; font-weight: bold\">'celltype_5'</span><span style=\"color: #808000; text-decoration-color: #808000; font-weight: bold\">, </span><span style=\"color: #808000; text-decoration-color: #808000; font-weight: bold\">'celltype_4'</span><span style=\"color: #808000; text-decoration-color: #808000; font-weight: bold\">, </span><span style=\"color: #808000; text-decoration-color: #808000; font-weight: bold\">'celltype_8'</span><span style=\"color: #808000; text-decoration-color: #808000; font-weight: bold\">]</span>\n",
       "</pre>\n"
      ],
      "text/plain": [
       "\u001b[1;33mThe following cell types are not included in forest classifications since they have fewer \u001b[0m\n",
       "\u001b[1;33mthan \u001b[0m\u001b[1;33m40\u001b[0m\u001b[1;33m cells: \u001b[0m\u001b[1;33m[\u001b[0m\u001b[1;33m'celltype_5'\u001b[0m\u001b[1;33m, \u001b[0m\u001b[1;33m'celltype_4'\u001b[0m\u001b[1;33m, \u001b[0m\u001b[1;33m'celltype_8'\u001b[0m\u001b[1;33m]\u001b[0m\n"
      ]
     },
     "metadata": {},
     "output_type": "display_data"
    }
   ],
   "source": [
    "for probeset in selected_probesets: \n",
    "    print(probeset)\n",
    "    gene_list = selected_probesets.index[selected_probesets[probeset]].to_list()\n",
    "    print(gene_list)\n",
    "    evaluator.evaluate_probeset(gene_list, set_id=probeset)\n",
    "    clear_output(wait=True)"
   ]
  },
  {
   "cell_type": "code",
   "execution_count": 14,
   "metadata": {},
   "outputs": [
    {
     "data": {
      "image/png": "[encoded data removed]",
      "text/plain": [
       "<Figure size 396x288 with 5 Axes>"
      ]
     },
     "metadata": {
      "needs_background": "light"
     },
     "output_type": "display_data"
    }
   ],
   "source": [
    "evaluator.plot_summary()"
   ]
  }
 ],
 "metadata": {
  "celltoolbar": "Raw Cell Format",
  "kernelspec": {
   "display_name": "Python3.8 (spapros)",
   "language": "python",
   "name": "spapros"
  },
  "language_info": {
   "codemirror_mode": {
    "name": "ipython",
    "version": 3
   },
   "file_extension": ".py",
   "mimetype": "text/x-python",
   "name": "python",
   "nbconvert_exporter": "python",
   "pygments_lexer": "ipython3",
   "version": "3.8.12"
  },
  "latex_envs": {
   "LaTeX_envs_menu_present": true,
   "autoclose": false,
   "autocomplete": true,
   "bibliofile": "biblio.bib",
   "cite_by": "apalike",
   "current_citInitial": 1,
   "eqLabelWithNumbers": true,
   "eqNumInitial": 1,
   "hotkeys": {
    "equation": "Ctrl-E",
    "itemize": "Ctrl-I"
   },
   "labels_anchors": false,
   "latex_user_defs": false,
   "report_style_numbering": false,
   "user_envs_cfg": false
  },
  "pycharm": {
   "stem_cell": {
    "cell_type": "raw",
    "metadata": {
     "collapsed": false
    },
    "source": [
     "%matplotlib inline\n"
    ]
   }
  }
 },
 "nbformat": 4,
 "nbformat_minor": 1
}
