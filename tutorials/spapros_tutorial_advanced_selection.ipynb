{
 "cells": [
  {
   "cell_type": "markdown",
   "metadata": {
    "collapsed": true,
    "pycharm": {
     "name": "#%% md\n"
    }
   },
   "source": [
    "# Spapros Tutorial: Advanced Selection\n",
    "\n",
    "This tutorial shows how to select a gene probeset with spapros.  \n",
    "Next to the basic procedure, we explain several advanced use cases.\n",
    "Additionally, the parameters are discussed. \n",
    "\n",
    "The used dataset contains 3k PBMCs from a healthy donor and is publicly available from\n",
    "[10x Genomics](https://support.10xgenomics.com/single-cell-gene-expression/datasets/1.1.0/pbmc3k)\n",
    "[here](http://cf.10xgenomics.com/samples/cell-exp/1.1.0/pbmc3k/pbmc3k_filtered_gene_bc_matrices.tar.gz).\n",
    "\n",
    "You can also derive it from scanpy [here](https://scanpy.readthedocs.io/en/stable/generated/scanpy.datasets.pbmc3k.html#scanpy.datasets.pbmc3k), like we will do in this tutorial.\n",
    "\n",
    "The preprocessed Anndata consists of log-normalized single cell RNAseq counts of 2638 cells for 13714 genes."
   ]
  },
  {
   "cell_type": "markdown",
   "metadata": {},
   "source": [
    "## Contents\n",
    "\n",
    "0. [Import packages and setup](#Import-packages-and-setup)\n",
    "1. [Load and preprocess dataset](#Load-and-preprocess-dataset)\n",
    "2. [Prepare penalties](#Prepare-penalties)\n",
    "3. [Use cases](#Use-cases)    \n",
    "    3.1 [Standard selection](#Standard-selection)    \n",
    "    3.2 [Select few additional genes](#Select-few-additional-genes)    \n",
    "    3.3 [Cell type classification only](#Cell-type-classification-only)    \n",
    "    3.4 [Selection with curated marker list](#Selection-with-curated-marker-list)    "
   ]
  },
  {
   "cell_type": "markdown",
   "metadata": {},
   "source": [
    "## 0. Import packages and setup\n",
    "\n",
    "To run the notebook locally, create a conda environment using this [environment.yaml](TODO link):\n",
    "\n",
    "    conda create -f environment.yaml\n",
    "\n",
    "Then add the conda environment as ipython kernel:\n",
    "\n",
    "    python -m ipykernel install --user --name spapros --display-name Python (spapros)\n",
    "\n"
   ]
  },
  {
   "cell_type": "code",
   "execution_count": 1,
   "metadata": {
    "pycharm": {
     "is_executing": true,
     "name": "#%%\n"
    }
   },
   "outputs": [],
   "source": [
    "import spapros\n",
    "from spapros import se, ev, pl\n",
    "from IPython.display import clear_output\n",
    "import scanpy as sc\n",
    "import pandas as pd\n",
    "import os\n",
    "import yaml\n",
    "import matplotlib as mpl"
   ]
  },
  {
   "cell_type": "code",
   "execution_count": 2,
   "metadata": {
    "pycharm": {
     "name": "#%%\n"
    }
   },
   "outputs": [
    {
     "name": "stdout",
     "output_type": "stream",
     "text": [
      "scanpy==1.8.1 anndata==0.7.8 umap==0.5.2 numpy==1.21.4 scipy==1.7.2 pandas==1.3.4 scikit-learn==1.0.1 statsmodels==0.13.1 python-igraph==0.9.8 pynndescent==0.5.5\n",
      "spapros==0.1.0\n"
     ]
    }
   ],
   "source": [
    "sc.settings.verbosity = 0\n",
    "sc.logging.print_header()\n",
    "print(f\"spapros=={spapros.__version__}\")"
   ]
  },
  {
   "cell_type": "markdown",
   "metadata": {},
   "source": [
    "## 1. Load and preprocess dataset"
   ]
  },
  {
   "cell_type": "code",
   "execution_count": 3,
   "metadata": {
    "pycharm": {
     "name": "#%%\n"
    },
    "scrolled": false
   },
   "outputs": [
    {
     "name": "stderr",
     "output_type": "stream",
     "text": [
      "/home/st/strasserl/anaconda3/envs/spapros/lib/python3.8/site-packages/scanpy/preprocessing/_normalization.py:155: UserWarning: Revieved a view of an AnnData. Making a copy.\n",
      "  view_to_actual(adata)\n"
     ]
    },
    {
     "data": {
      "text/plain": [
       "AnnData object with n_obs × n_vars = 2638 × 1838\n",
       "    obs: 'size_factors', 'celltype'\n",
       "    var: 'gene_ids', 'highly_variable', 'means', 'dispersions', 'dispersions_norm'\n",
       "    uns: 'log1p', 'hvg'"
      ]
     },
     "execution_count": 3,
     "metadata": {},
     "output_type": "execute_result"
    }
   ],
   "source": [
    "adata = sc.datasets.pbmc3k()\n",
    "adata_tmp = sc.datasets.pbmc3k_processed()\n",
    "adata = adata[adata_tmp.obs_names,adata_tmp.var_names]\n",
    "adata_raw = adata.copy()\n",
    "sc.pp.normalize_total(adata,target_sum=1e4,key_added=\"size_factors\")\n",
    "sc.pp.highly_variable_genes(adata,flavor=\"cell_ranger\",n_top_genes=1000)\n",
    "adata.X = adata_raw.X\n",
    "sc.pp.log1p(adata)\n",
    "adata.obs['celltype'] = adata_tmp.obs['louvain']\n",
    "adata"
   ]
  },
  {
   "cell_type": "markdown",
   "metadata": {},
   "source": [
    "## 2. Prepare penalties"
   ]
  },
  {
   "cell_type": "code",
   "execution_count": 4,
   "metadata": {},
   "outputs": [],
   "source": [
    "# TODO"
   ]
  },
  {
   "cell_type": "markdown",
   "metadata": {},
   "source": [
    "## 3. Use cases: \n",
    "\n",
    "We will go through some uses cases for gene selection, starting with the basic procedure."
   ]
  },
  {
   "cell_type": "markdown",
   "metadata": {},
   "source": [
    "### 3.1. Standard selection"
   ]
  },
  {
   "cell_type": "markdown",
   "metadata": {},
   "source": [
    "#### a. Set up the ProbesetSelector\n"
   ]
  },
  {
   "cell_type": "code",
   "execution_count": 5,
   "metadata": {
    "scrolled": true
   },
   "outputs": [
    {
     "name": "stdout",
     "output_type": "stream",
     "text": [
      "The following celltypes' test set sizes for forest training are below min_test_n (=20):\n",
      "\t Dendritic cells : 9\n",
      "\t Megakaryocytes  : 3\n"
     ]
    }
   ],
   "source": [
    "# create an instance of the ProbesetSelector class\n",
    "selector = se.ProbesetSelector(adata, \n",
    "                            n=50, \n",
    "                            celltype_key=\"celltype\", \n",
    "                            verbosity=1, \n",
    "                            save_dir=None)"
   ]
  },
  {
   "cell_type": "markdown",
   "metadata": {},
   "source": [
    "TODO  \n",
    "parameter discussion   \n",
    "interesting pararms could be:   \n",
    "\n",
    "```\n",
    "general: \n",
    "    prior_genes: \n",
    "    preselected_genes: \n",
    "        Pre selected genes (these will also have the highest ranking in the final list).\n",
    "\n",
    "marker: \n",
    "    marker_corr_th\n",
    "    n_list_markers\n",
    "        n_list_markers: \n",
    "        Minimal number of markers per celltype that are at least selected. Selected means either selecting genes\n",
    "        from the marker list or having correlated genes in the already selected panel. (Set the correlation\n",
    "        threshold with marker_selection_hparams['penalty_threshold']).\n",
    "        If you want to select a different number of markers for celltypes in adata and celltypes only in the marker\n",
    "        list, set e.g.: n_list_markers = {'adata_celltypes':2,'list_celltypes':3}\n",
    "\n",
    "penalties:\n",
    "    m_penalties_adata_celltypes\n",
    "    m_penalties_list_celltypes\n",
    "    min_mean_difference:\n",
    "        Minimal difference of mean expression between at least one celltype and the background. In this test only\n",
    "        cell types from `celltypes` are taken into account (also for the background). This minimal difference is\n",
    "        applied as an additional binary penalty in pca_penalties, DE_penalties and m_penalties_adata_celltypes.\n",
    "    pca_penalties\n",
    "    DE_penalties\n",
    "    marker penalties\n",
    "\n",
    "```\n",
    "\n"
   ]
  },
  {
   "cell_type": "markdown",
   "metadata": {},
   "source": [
    "#### b. Start the selection"
   ]
  },
  {
   "cell_type": "code",
   "execution_count": 6,
   "metadata": {},
   "outputs": [],
   "source": [
    "# TODO\n",
    "# rough description of the spapros selection pipeline"
   ]
  },
  {
   "cell_type": "code",
   "execution_count": 7,
   "metadata": {
    "scrolled": true
   },
   "outputs": [
    {
     "data": {
      "application/vnd.jupyter.widget-view+json": {
       "model_id": "ef563a2a34fc4476b247f495634a41da",
       "version_major": 2,
       "version_minor": 0
      },
      "text/plain": [
       "Output()"
      ]
     },
     "metadata": {},
     "output_type": "display_data"
    },
    {
     "name": "stdout",
     "output_type": "stream",
     "text": [
      "Select pca genes...\n",
      "Select genes based on differential expression and forests as baseline for the final forests...\n"
     ]
    },
    {
     "data": {
      "application/vnd.jupyter.widget-view+json": {
       "model_id": "657f2dc800674ae991026cbeb985517f",
       "version_major": 2,
       "version_minor": 0
      },
      "text/plain": [
       "Train hierarchical trees:   0%|          | 0/3 [00:00<?, ?it/s]"
      ]
     },
     "metadata": {},
     "output_type": "display_data"
    },
    {
     "name": "stdout",
     "output_type": "stream",
     "text": [
      "Add DE genes with specific reference groups to improve tree performance...\n"
     ]
    },
    {
     "data": {
      "application/vnd.jupyter.widget-view+json": {
       "model_id": "35001bd0022a4d7b9b7db0c80a30bcaa",
       "version_major": 2,
       "version_minor": 0
      },
      "text/plain": [
       "Train hierarchical trees:   0%|          | 0/3 [00:00<?, ?it/s]"
      ]
     },
     "metadata": {},
     "output_type": "display_data"
    },
    {
     "data": {
      "application/vnd.jupyter.widget-view+json": {
       "model_id": "1f249c2d3bb34e99be82164a86cdcaf5",
       "version_major": 2,
       "version_minor": 0
      },
      "text/plain": [
       "Train hierarchical trees:   0%|          | 0/3 [00:00<?, ?it/s]"
      ]
     },
     "metadata": {},
     "output_type": "display_data"
    },
    {
     "data": {
      "application/vnd.jupyter.widget-view+json": {
       "model_id": "0c0c05157778463090fd234ac36a1b40",
       "version_major": 2,
       "version_minor": 0
      },
      "text/plain": [
       "Train hierarchical trees:   0%|          | 0/3 [00:00<?, ?it/s]"
      ]
     },
     "metadata": {},
     "output_type": "display_data"
    },
    {
     "data": {
      "application/vnd.jupyter.widget-view+json": {
       "model_id": "d809fecadc1942fb821b19f13eddb981",
       "version_major": 2,
       "version_minor": 0
      },
      "text/plain": [
       "Train hierarchical trees:   0%|          | 0/3 [00:00<?, ?it/s]"
      ]
     },
     "metadata": {},
     "output_type": "display_data"
    },
    {
     "name": "stdout",
     "output_type": "stream",
     "text": [
      "Train final forests by adding genes from the DE_baseline forest for celltypes with low performance...\n"
     ]
    },
    {
     "data": {
      "application/vnd.jupyter.widget-view+json": {
       "model_id": "76ef1e4ac4e645e88e7e453d337f20d5",
       "version_major": 2,
       "version_minor": 0
      },
      "text/plain": [
       "Train hierarchical trees:   0%|          | 0/3 [00:00<?, ?it/s]"
      ]
     },
     "metadata": {},
     "output_type": "display_data"
    },
    {
     "name": "stdout",
     "output_type": "stream",
     "text": [
      "\t Finished...\n"
     ]
    },
    {
     "data": {
      "text/html": [
       "<pre style=\"white-space:pre;overflow-x:auto;line-height:normal;font-family:Menlo,'DejaVu Sans Mono',consolas,'Courier New',monospace\">\n",
       "</pre>\n"
      ],
      "text/plain": [
       "\n"
      ]
     },
     "metadata": {},
     "output_type": "display_data"
    }
   ],
   "source": [
    "selector.select_probeset()\n"
   ]
  },
  {
   "cell_type": "markdown",
   "metadata": {},
   "source": [
    "The selected probeset can be examined like this: "
   ]
  },
  {
   "cell_type": "code",
   "execution_count": 8,
   "metadata": {
    "scrolled": false
   },
   "outputs": [
    {
     "data": {
      "text/html": [
       "<div>\n",
       "<style scoped>\n",
       "    .dataframe tbody tr th:only-of-type {\n",
       "        vertical-align: middle;\n",
       "    }\n",
       "\n",
       "    .dataframe tbody tr th {\n",
       "        vertical-align: top;\n",
       "    }\n",
       "\n",
       "    .dataframe thead th {\n",
       "        text-align: right;\n",
       "    }\n",
       "</style>\n",
       "<table border=\"1\" class=\"dataframe\">\n",
       "  <thead>\n",
       "    <tr style=\"text-align: right;\">\n",
       "      <th></th>\n",
       "      <th>gene_nr</th>\n",
       "      <th>selection</th>\n",
       "      <th>rank</th>\n",
       "      <th>marker_rank</th>\n",
       "      <th>tree_rank</th>\n",
       "      <th>importance_score</th>\n",
       "      <th>pca_score</th>\n",
       "      <th>pre_selected</th>\n",
       "      <th>prior_selected</th>\n",
       "      <th>pca_selected</th>\n",
       "      <th>celltypes_DE_1vsall</th>\n",
       "      <th>celltypes_DE_specific</th>\n",
       "      <th>celltypes_DE</th>\n",
       "      <th>celltypes_marker</th>\n",
       "      <th>list_only_ct_marker</th>\n",
       "      <th>required_marker</th>\n",
       "      <th>required_list_marker</th>\n",
       "    </tr>\n",
       "  </thead>\n",
       "  <tbody>\n",
       "    <tr>\n",
       "      <th>PPBP</th>\n",
       "      <td>1</td>\n",
       "      <td>True</td>\n",
       "      <td>1.0</td>\n",
       "      <td>1.0</td>\n",
       "      <td>1.0</td>\n",
       "      <td>1.000000</td>\n",
       "      <td>1.964765</td>\n",
       "      <td>False</td>\n",
       "      <td>False</td>\n",
       "      <td>True</td>\n",
       "      <td>Megakaryocytes</td>\n",
       "      <td></td>\n",
       "      <td>Megakaryocytes</td>\n",
       "      <td>Megakaryocytes</td>\n",
       "      <td>False</td>\n",
       "      <td>True</td>\n",
       "      <td>False</td>\n",
       "    </tr>\n",
       "    <tr>\n",
       "      <th>HLA-DQA1</th>\n",
       "      <td>2</td>\n",
       "      <td>True</td>\n",
       "      <td>1.0</td>\n",
       "      <td>1.0</td>\n",
       "      <td>1.0</td>\n",
       "      <td>0.613524</td>\n",
       "      <td>0.791760</td>\n",
       "      <td>False</td>\n",
       "      <td>False</td>\n",
       "      <td>True</td>\n",
       "      <td></td>\n",
       "      <td>Dendritic cells</td>\n",
       "      <td>Dendritic cells</td>\n",
       "      <td>Dendritic cells</td>\n",
       "      <td>False</td>\n",
       "      <td>True</td>\n",
       "      <td>False</td>\n",
       "    </tr>\n",
       "    <tr>\n",
       "      <th>FCGR3A</th>\n",
       "      <td>3</td>\n",
       "      <td>True</td>\n",
       "      <td>1.0</td>\n",
       "      <td>1.0</td>\n",
       "      <td>1.0</td>\n",
       "      <td>0.570825</td>\n",
       "      <td>1.281816</td>\n",
       "      <td>False</td>\n",
       "      <td>False</td>\n",
       "      <td>True</td>\n",
       "      <td></td>\n",
       "      <td>FCGR3A+ Monocytes</td>\n",
       "      <td>FCGR3A+ Monocytes</td>\n",
       "      <td>FCGR3A+ Monocytes</td>\n",
       "      <td>False</td>\n",
       "      <td>True</td>\n",
       "      <td>False</td>\n",
       "    </tr>\n",
       "    <tr>\n",
       "      <th>GZMB</th>\n",
       "      <td>4</td>\n",
       "      <td>True</td>\n",
       "      <td>1.0</td>\n",
       "      <td>1.0</td>\n",
       "      <td>1.0</td>\n",
       "      <td>0.511744</td>\n",
       "      <td>2.418087</td>\n",
       "      <td>False</td>\n",
       "      <td>False</td>\n",
       "      <td>True</td>\n",
       "      <td>NK cells</td>\n",
       "      <td></td>\n",
       "      <td>NK cells</td>\n",
       "      <td>NK cells</td>\n",
       "      <td>False</td>\n",
       "      <td>True</td>\n",
       "      <td>False</td>\n",
       "    </tr>\n",
       "    <tr>\n",
       "      <th>CD79A</th>\n",
       "      <td>5</td>\n",
       "      <td>True</td>\n",
       "      <td>1.0</td>\n",
       "      <td>1.0</td>\n",
       "      <td>1.0</td>\n",
       "      <td>0.441937</td>\n",
       "      <td>2.076160</td>\n",
       "      <td>False</td>\n",
       "      <td>False</td>\n",
       "      <td>True</td>\n",
       "      <td>B cells</td>\n",
       "      <td></td>\n",
       "      <td>B cells</td>\n",
       "      <td>B cells</td>\n",
       "      <td>False</td>\n",
       "      <td>True</td>\n",
       "      <td>False</td>\n",
       "    </tr>\n",
       "    <tr>\n",
       "      <th>...</th>\n",
       "      <td>...</td>\n",
       "      <td>...</td>\n",
       "      <td>...</td>\n",
       "      <td>...</td>\n",
       "      <td>...</td>\n",
       "      <td>...</td>\n",
       "      <td>...</td>\n",
       "      <td>...</td>\n",
       "      <td>...</td>\n",
       "      <td>...</td>\n",
       "      <td>...</td>\n",
       "      <td>...</td>\n",
       "      <td>...</td>\n",
       "      <td>...</td>\n",
       "      <td>...</td>\n",
       "      <td>...</td>\n",
       "      <td>...</td>\n",
       "    </tr>\n",
       "    <tr>\n",
       "      <th>RP11-314N13.3</th>\n",
       "      <td>996</td>\n",
       "      <td>False</td>\n",
       "      <td>NaN</td>\n",
       "      <td>NaN</td>\n",
       "      <td>NaN</td>\n",
       "      <td>NaN</td>\n",
       "      <td>0.001506</td>\n",
       "      <td>False</td>\n",
       "      <td>False</td>\n",
       "      <td>False</td>\n",
       "      <td></td>\n",
       "      <td></td>\n",
       "      <td></td>\n",
       "      <td></td>\n",
       "      <td>False</td>\n",
       "      <td>False</td>\n",
       "      <td>False</td>\n",
       "    </tr>\n",
       "    <tr>\n",
       "      <th>RP11-950C14.3</th>\n",
       "      <td>997</td>\n",
       "      <td>False</td>\n",
       "      <td>NaN</td>\n",
       "      <td>NaN</td>\n",
       "      <td>NaN</td>\n",
       "      <td>NaN</td>\n",
       "      <td>0.001313</td>\n",
       "      <td>False</td>\n",
       "      <td>False</td>\n",
       "      <td>False</td>\n",
       "      <td></td>\n",
       "      <td></td>\n",
       "      <td></td>\n",
       "      <td></td>\n",
       "      <td>False</td>\n",
       "      <td>False</td>\n",
       "      <td>False</td>\n",
       "    </tr>\n",
       "    <tr>\n",
       "      <th>CCDC122</th>\n",
       "      <td>998</td>\n",
       "      <td>False</td>\n",
       "      <td>NaN</td>\n",
       "      <td>NaN</td>\n",
       "      <td>NaN</td>\n",
       "      <td>NaN</td>\n",
       "      <td>0.001274</td>\n",
       "      <td>False</td>\n",
       "      <td>False</td>\n",
       "      <td>False</td>\n",
       "      <td></td>\n",
       "      <td></td>\n",
       "      <td></td>\n",
       "      <td></td>\n",
       "      <td>False</td>\n",
       "      <td>False</td>\n",
       "      <td>False</td>\n",
       "    </tr>\n",
       "    <tr>\n",
       "      <th>TACR2</th>\n",
       "      <td>999</td>\n",
       "      <td>False</td>\n",
       "      <td>NaN</td>\n",
       "      <td>NaN</td>\n",
       "      <td>NaN</td>\n",
       "      <td>NaN</td>\n",
       "      <td>0.001100</td>\n",
       "      <td>False</td>\n",
       "      <td>False</td>\n",
       "      <td>False</td>\n",
       "      <td></td>\n",
       "      <td></td>\n",
       "      <td></td>\n",
       "      <td></td>\n",
       "      <td>False</td>\n",
       "      <td>False</td>\n",
       "      <td>False</td>\n",
       "    </tr>\n",
       "    <tr>\n",
       "      <th>HIST1H2AH</th>\n",
       "      <td>1000</td>\n",
       "      <td>False</td>\n",
       "      <td>NaN</td>\n",
       "      <td>NaN</td>\n",
       "      <td>NaN</td>\n",
       "      <td>NaN</td>\n",
       "      <td>0.000893</td>\n",
       "      <td>False</td>\n",
       "      <td>False</td>\n",
       "      <td>False</td>\n",
       "      <td></td>\n",
       "      <td></td>\n",
       "      <td></td>\n",
       "      <td></td>\n",
       "      <td>False</td>\n",
       "      <td>False</td>\n",
       "      <td>False</td>\n",
       "    </tr>\n",
       "  </tbody>\n",
       "</table>\n",
       "<p>1000 rows × 17 columns</p>\n",
       "</div>"
      ],
      "text/plain": [
       "               gene_nr  selection  rank  marker_rank  tree_rank  \\\n",
       "PPBP                 1       True   1.0          1.0        1.0   \n",
       "HLA-DQA1             2       True   1.0          1.0        1.0   \n",
       "FCGR3A               3       True   1.0          1.0        1.0   \n",
       "GZMB                 4       True   1.0          1.0        1.0   \n",
       "CD79A                5       True   1.0          1.0        1.0   \n",
       "...                ...        ...   ...          ...        ...   \n",
       "RP11-314N13.3      996      False   NaN          NaN        NaN   \n",
       "RP11-950C14.3      997      False   NaN          NaN        NaN   \n",
       "CCDC122            998      False   NaN          NaN        NaN   \n",
       "TACR2              999      False   NaN          NaN        NaN   \n",
       "HIST1H2AH         1000      False   NaN          NaN        NaN   \n",
       "\n",
       "               importance_score  pca_score  pre_selected  prior_selected  \\\n",
       "PPBP                   1.000000   1.964765         False           False   \n",
       "HLA-DQA1               0.613524   0.791760         False           False   \n",
       "FCGR3A                 0.570825   1.281816         False           False   \n",
       "GZMB                   0.511744   2.418087         False           False   \n",
       "CD79A                  0.441937   2.076160         False           False   \n",
       "...                         ...        ...           ...             ...   \n",
       "RP11-314N13.3               NaN   0.001506         False           False   \n",
       "RP11-950C14.3               NaN   0.001313         False           False   \n",
       "CCDC122                     NaN   0.001274         False           False   \n",
       "TACR2                       NaN   0.001100         False           False   \n",
       "HIST1H2AH                   NaN   0.000893         False           False   \n",
       "\n",
       "               pca_selected celltypes_DE_1vsall celltypes_DE_specific  \\\n",
       "PPBP                   True      Megakaryocytes                         \n",
       "HLA-DQA1               True                           Dendritic cells   \n",
       "FCGR3A                 True                         FCGR3A+ Monocytes   \n",
       "GZMB                   True            NK cells                         \n",
       "CD79A                  True             B cells                         \n",
       "...                     ...                 ...                   ...   \n",
       "RP11-314N13.3         False                                             \n",
       "RP11-950C14.3         False                                             \n",
       "CCDC122               False                                             \n",
       "TACR2                 False                                             \n",
       "HIST1H2AH             False                                             \n",
       "\n",
       "                    celltypes_DE   celltypes_marker  list_only_ct_marker  \\\n",
       "PPBP              Megakaryocytes     Megakaryocytes                False   \n",
       "HLA-DQA1         Dendritic cells    Dendritic cells                False   \n",
       "FCGR3A         FCGR3A+ Monocytes  FCGR3A+ Monocytes                False   \n",
       "GZMB                    NK cells           NK cells                False   \n",
       "CD79A                    B cells            B cells                False   \n",
       "...                          ...                ...                  ...   \n",
       "RP11-314N13.3                                                      False   \n",
       "RP11-950C14.3                                                      False   \n",
       "CCDC122                                                            False   \n",
       "TACR2                                                              False   \n",
       "HIST1H2AH                                                          False   \n",
       "\n",
       "               required_marker  required_list_marker  \n",
       "PPBP                      True                 False  \n",
       "HLA-DQA1                  True                 False  \n",
       "FCGR3A                    True                 False  \n",
       "GZMB                      True                 False  \n",
       "CD79A                     True                 False  \n",
       "...                        ...                   ...  \n",
       "RP11-314N13.3            False                 False  \n",
       "RP11-950C14.3            False                 False  \n",
       "CCDC122                  False                 False  \n",
       "TACR2                    False                 False  \n",
       "HIST1H2AH                False                 False  \n",
       "\n",
       "[1000 rows x 17 columns]"
      ]
     },
     "execution_count": 8,
     "metadata": {},
     "output_type": "execute_result"
    }
   ],
   "source": [
    "selector.probeset"
   ]
  },
  {
   "cell_type": "markdown",
   "metadata": {},
   "source": [
    "#### c. Vizualize the results"
   ]
  },
  {
   "cell_type": "code",
   "execution_count": 9,
   "metadata": {
    "scrolled": true
   },
   "outputs": [
    {
     "data": {
      "image/png": "[encoded data removed]",
      "text/plain": [
       "<Figure size 1404x279.36 with 7 Axes>"
      ]
     },
     "metadata": {
      "needs_background": "light"
     },
     "output_type": "display_data"
    }
   ],
   "source": [
    "pl.masked_dotplot(adata, selector)"
   ]
  },
  {
   "cell_type": "markdown",
   "metadata": {},
   "source": [
    "## Select reference gene sets"
   ]
  },
  {
   "cell_type": "markdown",
   "metadata": {},
   "source": [
    "With the method `select_reference_probesets` you can easily select reference probesets.\n",
    "By default, 4 sets are created: \n",
    "\n",
    "- `pca_selection`: PCA based selection\n",
    "- `hvg_selection`: Selection of highly variable genes\n",
    "- `de_selection`: Differentially expressed genes selection\n",
    "- `random_selection`: Random gene selection\n",
    "\n",
    "The selection methods can be altered with the parameter `reference_selections`. \n",
    "It takes a dictionary, where the keys are the wanted selection method names and the values are their hyper parameters. \n",
    "\n",
    "An easy way to select several random gene sets is provided by the parameter `seeds`, which takes a list of seeds. Each list entry is used as seed for one random gene set selection. "
   ]
  },
  {
   "cell_type": "code",
   "execution_count": 10,
   "metadata": {},
   "outputs": [
    {
     "name": "stdout",
     "output_type": "stream",
     "text": [
      "Select reference hvg_selection genes...\n",
      "\t ...finished.\n",
      "Select reference random_selection genes...\n",
      "\t ...finished.\n",
      "Select reference pca_selection genes...\n",
      "\t ...finished.\n",
      "Select reference DE_selection genes...\n",
      "\t ...finished.\n"
     ]
    }
   ],
   "source": [
    "reference_sets = se.select_reference_probesets(adata, 50)"
   ]
  },
  {
   "cell_type": "markdown",
   "metadata": {},
   "source": [
    "### 3.2 Select a few additional genes"
   ]
  },
  {
   "cell_type": "code",
   "execution_count": 11,
   "metadata": {},
   "outputs": [],
   "source": [
    "# TODO "
   ]
  },
  {
   "cell_type": "markdown",
   "metadata": {},
   "source": [
    "### 3.3 Cell type classification only"
   ]
  },
  {
   "cell_type": "code",
   "execution_count": 12,
   "metadata": {},
   "outputs": [],
   "source": [
    "# TODO"
   ]
  },
  {
   "cell_type": "markdown",
   "metadata": {},
   "source": [
    "### 3.4 Selection with curated marker list"
   ]
  },
  {
   "cell_type": "code",
   "execution_count": 13,
   "metadata": {},
   "outputs": [],
   "source": [
    "# TODO"
   ]
  },
  {
   "cell_type": "markdown",
   "metadata": {},
   "source": [
    "## What's next? \n",
    "\n",
    "After selecting probesets, they should be evaluated.  \n",
    "See our [basic evaluation tutorial](https://spapros.readthedocs.io/en/latest/tutorials/spapros_tutorial_basic_evaluation.html) or our [advanced evaluation tutorial](https://spapros.readthedocs.io/en/latest/tutorials/spapros_tutorial_advanced_evaluation.html) for detailed instructions."
   ]
  }
 ],
 "metadata": {
  "celltoolbar": "Tags",
  "kernelspec": {
   "display_name": "Python (spapros)",
   "language": "python",
   "name": "spapros"
  },
  "language_info": {
   "codemirror_mode": {
    "name": "ipython",
    "version": 3
   },
   "file_extension": ".py",
   "mimetype": "text/x-python",
   "name": "python",
   "nbconvert_exporter": "python",
   "pygments_lexer": "ipython3",
   "version": "3.8.12"
  },
  "latex_envs": {
   "LaTeX_envs_menu_present": true,
   "autoclose": false,
   "autocomplete": true,
   "bibliofile": "biblio.bib",
   "cite_by": "apalike",
   "current_citInitial": 1,
   "eqLabelWithNumbers": true,
   "eqNumInitial": 1,
   "hotkeys": {
    "equation": "Ctrl-E",
    "itemize": "Ctrl-I"
   },
   "labels_anchors": false,
   "latex_user_defs": false,
   "report_style_numbering": false,
   "user_envs_cfg": false
  },
  "pycharm": {
   "stem_cell": {
    "cell_type": "raw",
    "metadata": {
     "collapsed": false
    },
    "source": [
     "%matplotlib inline\n"
    ]
   }
  }
 },
 "nbformat": 4,
 "nbformat_minor": 1
}
